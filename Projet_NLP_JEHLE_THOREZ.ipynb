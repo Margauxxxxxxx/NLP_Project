{
  "nbformat": 4,
  "nbformat_minor": 0,
  "metadata": {
    "colab": {
      "name": "Projet_NLP_JEHLE_THOREZ",
      "provenance": [],
      "collapsed_sections": [
        "MxwsZri9ExyD",
        "7F6Ky4l0zjsc",
        "aK_A8yASxze9",
        "3og5wkr4ySB3",
        "Jv7cLvTeXcz7",
        "IsfbyOeeOEX-",
        "l5Sd-lQbYkD7",
        "IqQ7G72acpTX",
        "of-DHOXJbCur",
        "AYdgIT_PPox4",
        "lf1flFv-P1ER",
        "8_cmJLuOQM3u",
        "3__uc4n_S94k",
        "fEGN_-SMTM0K",
        "bGknxo3ATSr0"
      ],
      "machine_shape": "hm",
      "include_colab_link": true
    },
    "kernelspec": {
      "name": "python3",
      "display_name": "Python 3"
    },
    "accelerator": "GPU",
    "widgets": {
      "application/vnd.jupyter.widget-state+json": {
        "933d59bb3a664f4c8b0daeea3e5a84f8": {
          "model_module": "@jupyter-widgets/controls",
          "model_name": "HBoxModel",
          "state": {
            "_view_name": "HBoxView",
            "_dom_classes": [],
            "_model_name": "HBoxModel",
            "_view_module": "@jupyter-widgets/controls",
            "_model_module_version": "1.5.0",
            "_view_count": null,
            "_view_module_version": "1.5.0",
            "box_style": "",
            "layout": "IPY_MODEL_8d74995f1a3e47cbb45c36cb016845a6",
            "_model_module": "@jupyter-widgets/controls",
            "children": [
              "IPY_MODEL_7e50a75375e74351bb1e2aa13116b7eb",
              "IPY_MODEL_54e0a20b9e784cc3a78b5bbb85450ab4"
            ]
          }
        },
        "8d74995f1a3e47cbb45c36cb016845a6": {
          "model_module": "@jupyter-widgets/base",
          "model_name": "LayoutModel",
          "state": {
            "_view_name": "LayoutView",
            "grid_template_rows": null,
            "right": null,
            "justify_content": null,
            "_view_module": "@jupyter-widgets/base",
            "overflow": null,
            "_model_module_version": "1.2.0",
            "_view_count": null,
            "flex_flow": null,
            "width": null,
            "min_width": null,
            "border": null,
            "align_items": null,
            "bottom": null,
            "_model_module": "@jupyter-widgets/base",
            "top": null,
            "grid_column": null,
            "overflow_y": null,
            "overflow_x": null,
            "grid_auto_flow": null,
            "grid_area": null,
            "grid_template_columns": null,
            "flex": null,
            "_model_name": "LayoutModel",
            "justify_items": null,
            "grid_row": null,
            "max_height": null,
            "align_content": null,
            "visibility": null,
            "align_self": null,
            "height": null,
            "min_height": null,
            "padding": null,
            "grid_auto_rows": null,
            "grid_gap": null,
            "max_width": null,
            "order": null,
            "_view_module_version": "1.2.0",
            "grid_template_areas": null,
            "object_position": null,
            "object_fit": null,
            "grid_auto_columns": null,
            "margin": null,
            "display": null,
            "left": null
          }
        },
        "7e50a75375e74351bb1e2aa13116b7eb": {
          "model_module": "@jupyter-widgets/controls",
          "model_name": "IntProgressModel",
          "state": {
            "_view_name": "ProgressView",
            "style": "IPY_MODEL_90e1ff9da19548b6a838a5a808d665af",
            "_dom_classes": [],
            "description": "Downloading: 100%",
            "_model_name": "IntProgressModel",
            "bar_style": "success",
            "max": 361,
            "_view_module": "@jupyter-widgets/controls",
            "_model_module_version": "1.5.0",
            "value": 361,
            "_view_count": null,
            "_view_module_version": "1.5.0",
            "orientation": "horizontal",
            "min": 0,
            "description_tooltip": null,
            "_model_module": "@jupyter-widgets/controls",
            "layout": "IPY_MODEL_1081c9ba5045421fac8cf5440f2c1a34"
          }
        },
        "54e0a20b9e784cc3a78b5bbb85450ab4": {
          "model_module": "@jupyter-widgets/controls",
          "model_name": "HTMLModel",
          "state": {
            "_view_name": "HTMLView",
            "style": "IPY_MODEL_e458787e00d849c8b54bd8005e419542",
            "_dom_classes": [],
            "description": "",
            "_model_name": "HTMLModel",
            "placeholder": "​",
            "_view_module": "@jupyter-widgets/controls",
            "_model_module_version": "1.5.0",
            "value": " 361/361 [00:00&lt;00:00, 421B/s]",
            "_view_count": null,
            "_view_module_version": "1.5.0",
            "description_tooltip": null,
            "_model_module": "@jupyter-widgets/controls",
            "layout": "IPY_MODEL_a146433da0b843d0a4255c9c728aa034"
          }
        },
        "90e1ff9da19548b6a838a5a808d665af": {
          "model_module": "@jupyter-widgets/controls",
          "model_name": "ProgressStyleModel",
          "state": {
            "_view_name": "StyleView",
            "_model_name": "ProgressStyleModel",
            "description_width": "initial",
            "_view_module": "@jupyter-widgets/base",
            "_model_module_version": "1.5.0",
            "_view_count": null,
            "_view_module_version": "1.2.0",
            "bar_color": null,
            "_model_module": "@jupyter-widgets/controls"
          }
        },
        "1081c9ba5045421fac8cf5440f2c1a34": {
          "model_module": "@jupyter-widgets/base",
          "model_name": "LayoutModel",
          "state": {
            "_view_name": "LayoutView",
            "grid_template_rows": null,
            "right": null,
            "justify_content": null,
            "_view_module": "@jupyter-widgets/base",
            "overflow": null,
            "_model_module_version": "1.2.0",
            "_view_count": null,
            "flex_flow": null,
            "width": null,
            "min_width": null,
            "border": null,
            "align_items": null,
            "bottom": null,
            "_model_module": "@jupyter-widgets/base",
            "top": null,
            "grid_column": null,
            "overflow_y": null,
            "overflow_x": null,
            "grid_auto_flow": null,
            "grid_area": null,
            "grid_template_columns": null,
            "flex": null,
            "_model_name": "LayoutModel",
            "justify_items": null,
            "grid_row": null,
            "max_height": null,
            "align_content": null,
            "visibility": null,
            "align_self": null,
            "height": null,
            "min_height": null,
            "padding": null,
            "grid_auto_rows": null,
            "grid_gap": null,
            "max_width": null,
            "order": null,
            "_view_module_version": "1.2.0",
            "grid_template_areas": null,
            "object_position": null,
            "object_fit": null,
            "grid_auto_columns": null,
            "margin": null,
            "display": null,
            "left": null
          }
        },
        "e458787e00d849c8b54bd8005e419542": {
          "model_module": "@jupyter-widgets/controls",
          "model_name": "DescriptionStyleModel",
          "state": {
            "_view_name": "StyleView",
            "_model_name": "DescriptionStyleModel",
            "description_width": "",
            "_view_module": "@jupyter-widgets/base",
            "_model_module_version": "1.5.0",
            "_view_count": null,
            "_view_module_version": "1.2.0",
            "_model_module": "@jupyter-widgets/controls"
          }
        },
        "a146433da0b843d0a4255c9c728aa034": {
          "model_module": "@jupyter-widgets/base",
          "model_name": "LayoutModel",
          "state": {
            "_view_name": "LayoutView",
            "grid_template_rows": null,
            "right": null,
            "justify_content": null,
            "_view_module": "@jupyter-widgets/base",
            "overflow": null,
            "_model_module_version": "1.2.0",
            "_view_count": null,
            "flex_flow": null,
            "width": null,
            "min_width": null,
            "border": null,
            "align_items": null,
            "bottom": null,
            "_model_module": "@jupyter-widgets/base",
            "top": null,
            "grid_column": null,
            "overflow_y": null,
            "overflow_x": null,
            "grid_auto_flow": null,
            "grid_area": null,
            "grid_template_columns": null,
            "flex": null,
            "_model_name": "LayoutModel",
            "justify_items": null,
            "grid_row": null,
            "max_height": null,
            "align_content": null,
            "visibility": null,
            "align_self": null,
            "height": null,
            "min_height": null,
            "padding": null,
            "grid_auto_rows": null,
            "grid_gap": null,
            "max_width": null,
            "order": null,
            "_view_module_version": "1.2.0",
            "grid_template_areas": null,
            "object_position": null,
            "object_fit": null,
            "grid_auto_columns": null,
            "margin": null,
            "display": null,
            "left": null
          }
        },
        "de5c5599c07145dfb22419a30d90280c": {
          "model_module": "@jupyter-widgets/controls",
          "model_name": "HBoxModel",
          "state": {
            "_view_name": "HBoxView",
            "_dom_classes": [],
            "_model_name": "HBoxModel",
            "_view_module": "@jupyter-widgets/controls",
            "_model_module_version": "1.5.0",
            "_view_count": null,
            "_view_module_version": "1.5.0",
            "box_style": "",
            "layout": "IPY_MODEL_ee85692fece549b390ac63657a5673ce",
            "_model_module": "@jupyter-widgets/controls",
            "children": [
              "IPY_MODEL_7a2966d0120649dc9b65571123a8ed8b",
              "IPY_MODEL_0f6433cb612a46d98005ff53e6ce3d34"
            ]
          }
        },
        "ee85692fece549b390ac63657a5673ce": {
          "model_module": "@jupyter-widgets/base",
          "model_name": "LayoutModel",
          "state": {
            "_view_name": "LayoutView",
            "grid_template_rows": null,
            "right": null,
            "justify_content": null,
            "_view_module": "@jupyter-widgets/base",
            "overflow": null,
            "_model_module_version": "1.2.0",
            "_view_count": null,
            "flex_flow": null,
            "width": null,
            "min_width": null,
            "border": null,
            "align_items": null,
            "bottom": null,
            "_model_module": "@jupyter-widgets/base",
            "top": null,
            "grid_column": null,
            "overflow_y": null,
            "overflow_x": null,
            "grid_auto_flow": null,
            "grid_area": null,
            "grid_template_columns": null,
            "flex": null,
            "_model_name": "LayoutModel",
            "justify_items": null,
            "grid_row": null,
            "max_height": null,
            "align_content": null,
            "visibility": null,
            "align_self": null,
            "height": null,
            "min_height": null,
            "padding": null,
            "grid_auto_rows": null,
            "grid_gap": null,
            "max_width": null,
            "order": null,
            "_view_module_version": "1.2.0",
            "grid_template_areas": null,
            "object_position": null,
            "object_fit": null,
            "grid_auto_columns": null,
            "margin": null,
            "display": null,
            "left": null
          }
        },
        "7a2966d0120649dc9b65571123a8ed8b": {
          "model_module": "@jupyter-widgets/controls",
          "model_name": "IntProgressModel",
          "state": {
            "_view_name": "ProgressView",
            "style": "IPY_MODEL_eeaa4d48d4024083a913a7ad078af956",
            "_dom_classes": [],
            "description": "Downloading: 100%",
            "_model_name": "IntProgressModel",
            "bar_style": "success",
            "max": 231508,
            "_view_module": "@jupyter-widgets/controls",
            "_model_module_version": "1.5.0",
            "value": 231508,
            "_view_count": null,
            "_view_module_version": "1.5.0",
            "orientation": "horizontal",
            "min": 0,
            "description_tooltip": null,
            "_model_module": "@jupyter-widgets/controls",
            "layout": "IPY_MODEL_b7eb0988aafd4b62bcd265cafa929643"
          }
        },
        "0f6433cb612a46d98005ff53e6ce3d34": {
          "model_module": "@jupyter-widgets/controls",
          "model_name": "HTMLModel",
          "state": {
            "_view_name": "HTMLView",
            "style": "IPY_MODEL_2fb4c91d7c624374acc968617423c0a7",
            "_dom_classes": [],
            "description": "",
            "_model_name": "HTMLModel",
            "placeholder": "​",
            "_view_module": "@jupyter-widgets/controls",
            "_model_module_version": "1.5.0",
            "value": " 232k/232k [00:00&lt;00:00, 845kB/s]",
            "_view_count": null,
            "_view_module_version": "1.5.0",
            "description_tooltip": null,
            "_model_module": "@jupyter-widgets/controls",
            "layout": "IPY_MODEL_a56fd89aefb3493285f8304c8c8bf816"
          }
        },
        "eeaa4d48d4024083a913a7ad078af956": {
          "model_module": "@jupyter-widgets/controls",
          "model_name": "ProgressStyleModel",
          "state": {
            "_view_name": "StyleView",
            "_model_name": "ProgressStyleModel",
            "description_width": "initial",
            "_view_module": "@jupyter-widgets/base",
            "_model_module_version": "1.5.0",
            "_view_count": null,
            "_view_module_version": "1.2.0",
            "bar_color": null,
            "_model_module": "@jupyter-widgets/controls"
          }
        },
        "b7eb0988aafd4b62bcd265cafa929643": {
          "model_module": "@jupyter-widgets/base",
          "model_name": "LayoutModel",
          "state": {
            "_view_name": "LayoutView",
            "grid_template_rows": null,
            "right": null,
            "justify_content": null,
            "_view_module": "@jupyter-widgets/base",
            "overflow": null,
            "_model_module_version": "1.2.0",
            "_view_count": null,
            "flex_flow": null,
            "width": null,
            "min_width": null,
            "border": null,
            "align_items": null,
            "bottom": null,
            "_model_module": "@jupyter-widgets/base",
            "top": null,
            "grid_column": null,
            "overflow_y": null,
            "overflow_x": null,
            "grid_auto_flow": null,
            "grid_area": null,
            "grid_template_columns": null,
            "flex": null,
            "_model_name": "LayoutModel",
            "justify_items": null,
            "grid_row": null,
            "max_height": null,
            "align_content": null,
            "visibility": null,
            "align_self": null,
            "height": null,
            "min_height": null,
            "padding": null,
            "grid_auto_rows": null,
            "grid_gap": null,
            "max_width": null,
            "order": null,
            "_view_module_version": "1.2.0",
            "grid_template_areas": null,
            "object_position": null,
            "object_fit": null,
            "grid_auto_columns": null,
            "margin": null,
            "display": null,
            "left": null
          }
        },
        "2fb4c91d7c624374acc968617423c0a7": {
          "model_module": "@jupyter-widgets/controls",
          "model_name": "DescriptionStyleModel",
          "state": {
            "_view_name": "StyleView",
            "_model_name": "DescriptionStyleModel",
            "description_width": "",
            "_view_module": "@jupyter-widgets/base",
            "_model_module_version": "1.5.0",
            "_view_count": null,
            "_view_module_version": "1.2.0",
            "_model_module": "@jupyter-widgets/controls"
          }
        },
        "a56fd89aefb3493285f8304c8c8bf816": {
          "model_module": "@jupyter-widgets/base",
          "model_name": "LayoutModel",
          "state": {
            "_view_name": "LayoutView",
            "grid_template_rows": null,
            "right": null,
            "justify_content": null,
            "_view_module": "@jupyter-widgets/base",
            "overflow": null,
            "_model_module_version": "1.2.0",
            "_view_count": null,
            "flex_flow": null,
            "width": null,
            "min_width": null,
            "border": null,
            "align_items": null,
            "bottom": null,
            "_model_module": "@jupyter-widgets/base",
            "top": null,
            "grid_column": null,
            "overflow_y": null,
            "overflow_x": null,
            "grid_auto_flow": null,
            "grid_area": null,
            "grid_template_columns": null,
            "flex": null,
            "_model_name": "LayoutModel",
            "justify_items": null,
            "grid_row": null,
            "max_height": null,
            "align_content": null,
            "visibility": null,
            "align_self": null,
            "height": null,
            "min_height": null,
            "padding": null,
            "grid_auto_rows": null,
            "grid_gap": null,
            "max_width": null,
            "order": null,
            "_view_module_version": "1.2.0",
            "grid_template_areas": null,
            "object_position": null,
            "object_fit": null,
            "grid_auto_columns": null,
            "margin": null,
            "display": null,
            "left": null
          }
        },
        "f428c05a420042f8abdb4f5538a44bc2": {
          "model_module": "@jupyter-widgets/controls",
          "model_name": "HBoxModel",
          "state": {
            "_view_name": "HBoxView",
            "_dom_classes": [],
            "_model_name": "HBoxModel",
            "_view_module": "@jupyter-widgets/controls",
            "_model_module_version": "1.5.0",
            "_view_count": null,
            "_view_module_version": "1.5.0",
            "box_style": "",
            "layout": "IPY_MODEL_7c6e282bbc084ce59d4b4953a8a9edb5",
            "_model_module": "@jupyter-widgets/controls",
            "children": [
              "IPY_MODEL_847fcf04e86843f3868bf0b7ef762a77",
              "IPY_MODEL_839d6b6f167347f99e967f0df347f33e"
            ]
          }
        },
        "7c6e282bbc084ce59d4b4953a8a9edb5": {
          "model_module": "@jupyter-widgets/base",
          "model_name": "LayoutModel",
          "state": {
            "_view_name": "LayoutView",
            "grid_template_rows": null,
            "right": null,
            "justify_content": null,
            "_view_module": "@jupyter-widgets/base",
            "overflow": null,
            "_model_module_version": "1.2.0",
            "_view_count": null,
            "flex_flow": null,
            "width": null,
            "min_width": null,
            "border": null,
            "align_items": null,
            "bottom": null,
            "_model_module": "@jupyter-widgets/base",
            "top": null,
            "grid_column": null,
            "overflow_y": null,
            "overflow_x": null,
            "grid_auto_flow": null,
            "grid_area": null,
            "grid_template_columns": null,
            "flex": null,
            "_model_name": "LayoutModel",
            "justify_items": null,
            "grid_row": null,
            "max_height": null,
            "align_content": null,
            "visibility": null,
            "align_self": null,
            "height": null,
            "min_height": null,
            "padding": null,
            "grid_auto_rows": null,
            "grid_gap": null,
            "max_width": null,
            "order": null,
            "_view_module_version": "1.2.0",
            "grid_template_areas": null,
            "object_position": null,
            "object_fit": null,
            "grid_auto_columns": null,
            "margin": null,
            "display": null,
            "left": null
          }
        },
        "847fcf04e86843f3868bf0b7ef762a77": {
          "model_module": "@jupyter-widgets/controls",
          "model_name": "IntProgressModel",
          "state": {
            "_view_name": "ProgressView",
            "style": "IPY_MODEL_0f1552648942406f918836a44a5b4de4",
            "_dom_classes": [],
            "description": "Downloading: 100%",
            "_model_name": "IntProgressModel",
            "bar_style": "success",
            "max": 440473133,
            "_view_module": "@jupyter-widgets/controls",
            "_model_module_version": "1.5.0",
            "value": 440473133,
            "_view_count": null,
            "_view_module_version": "1.5.0",
            "orientation": "horizontal",
            "min": 0,
            "description_tooltip": null,
            "_model_module": "@jupyter-widgets/controls",
            "layout": "IPY_MODEL_b1bf332670e7481f9236fc921cbccf50"
          }
        },
        "839d6b6f167347f99e967f0df347f33e": {
          "model_module": "@jupyter-widgets/controls",
          "model_name": "HTMLModel",
          "state": {
            "_view_name": "HTMLView",
            "style": "IPY_MODEL_c53bb77342e947bbb56c4c7b6fc2ab6d",
            "_dom_classes": [],
            "description": "",
            "_model_name": "HTMLModel",
            "placeholder": "​",
            "_view_module": "@jupyter-widgets/controls",
            "_model_module_version": "1.5.0",
            "value": " 440M/440M [01:34&lt;00:00, 4.66MB/s]",
            "_view_count": null,
            "_view_module_version": "1.5.0",
            "description_tooltip": null,
            "_model_module": "@jupyter-widgets/controls",
            "layout": "IPY_MODEL_3fafb0c56afd4256b153f32722d6d506"
          }
        },
        "0f1552648942406f918836a44a5b4de4": {
          "model_module": "@jupyter-widgets/controls",
          "model_name": "ProgressStyleModel",
          "state": {
            "_view_name": "StyleView",
            "_model_name": "ProgressStyleModel",
            "description_width": "initial",
            "_view_module": "@jupyter-widgets/base",
            "_model_module_version": "1.5.0",
            "_view_count": null,
            "_view_module_version": "1.2.0",
            "bar_color": null,
            "_model_module": "@jupyter-widgets/controls"
          }
        },
        "b1bf332670e7481f9236fc921cbccf50": {
          "model_module": "@jupyter-widgets/base",
          "model_name": "LayoutModel",
          "state": {
            "_view_name": "LayoutView",
            "grid_template_rows": null,
            "right": null,
            "justify_content": null,
            "_view_module": "@jupyter-widgets/base",
            "overflow": null,
            "_model_module_version": "1.2.0",
            "_view_count": null,
            "flex_flow": null,
            "width": null,
            "min_width": null,
            "border": null,
            "align_items": null,
            "bottom": null,
            "_model_module": "@jupyter-widgets/base",
            "top": null,
            "grid_column": null,
            "overflow_y": null,
            "overflow_x": null,
            "grid_auto_flow": null,
            "grid_area": null,
            "grid_template_columns": null,
            "flex": null,
            "_model_name": "LayoutModel",
            "justify_items": null,
            "grid_row": null,
            "max_height": null,
            "align_content": null,
            "visibility": null,
            "align_self": null,
            "height": null,
            "min_height": null,
            "padding": null,
            "grid_auto_rows": null,
            "grid_gap": null,
            "max_width": null,
            "order": null,
            "_view_module_version": "1.2.0",
            "grid_template_areas": null,
            "object_position": null,
            "object_fit": null,
            "grid_auto_columns": null,
            "margin": null,
            "display": null,
            "left": null
          }
        },
        "c53bb77342e947bbb56c4c7b6fc2ab6d": {
          "model_module": "@jupyter-widgets/controls",
          "model_name": "DescriptionStyleModel",
          "state": {
            "_view_name": "StyleView",
            "_model_name": "DescriptionStyleModel",
            "description_width": "",
            "_view_module": "@jupyter-widgets/base",
            "_model_module_version": "1.5.0",
            "_view_count": null,
            "_view_module_version": "1.2.0",
            "_model_module": "@jupyter-widgets/controls"
          }
        },
        "3fafb0c56afd4256b153f32722d6d506": {
          "model_module": "@jupyter-widgets/base",
          "model_name": "LayoutModel",
          "state": {
            "_view_name": "LayoutView",
            "grid_template_rows": null,
            "right": null,
            "justify_content": null,
            "_view_module": "@jupyter-widgets/base",
            "overflow": null,
            "_model_module_version": "1.2.0",
            "_view_count": null,
            "flex_flow": null,
            "width": null,
            "min_width": null,
            "border": null,
            "align_items": null,
            "bottom": null,
            "_model_module": "@jupyter-widgets/base",
            "top": null,
            "grid_column": null,
            "overflow_y": null,
            "overflow_x": null,
            "grid_auto_flow": null,
            "grid_area": null,
            "grid_template_columns": null,
            "flex": null,
            "_model_name": "LayoutModel",
            "justify_items": null,
            "grid_row": null,
            "max_height": null,
            "align_content": null,
            "visibility": null,
            "align_self": null,
            "height": null,
            "min_height": null,
            "padding": null,
            "grid_auto_rows": null,
            "grid_gap": null,
            "max_width": null,
            "order": null,
            "_view_module_version": "1.2.0",
            "grid_template_areas": null,
            "object_position": null,
            "object_fit": null,
            "grid_auto_columns": null,
            "margin": null,
            "display": null,
            "left": null
          }
        }
      }
    }
  },
  "cells": [
    {
      "cell_type": "markdown",
      "metadata": {
        "id": "view-in-github",
        "colab_type": "text"
      },
      "source": [
        "<a href=\"https://colab.research.google.com/github/Margauxxxxxxx/NLP_Project/blob/master/Projet_NLP_JEHLE_THOREZ.ipynb\" target=\"_parent\"><img src=\"https://colab.research.google.com/assets/colab-badge.svg\" alt=\"Open In Colab\"/></a>"
      ]
    },
    {
      "cell_type": "markdown",
      "metadata": {
        "id": "dzGvjqzYHdoY",
        "colab_type": "text"
      },
      "source": [
        "# **Machine Learning for NLP Project**\n",
        "\n",
        "### Prediction of movies rating - Camille Jehle and Margaux Thorez\n"
      ]
    },
    {
      "cell_type": "markdown",
      "metadata": {
        "id": "erVle9FeH4oB",
        "colab_type": "text"
      },
      "source": [
        "We are going to use a corpus containing stories of films from the IMDB to predict movies ratings. For that we are going to use the movies_metadata.csv database. We will use NLP tools to add the polarity of Amazon overviews as an explainatory variable. "
      ]
    },
    {
      "cell_type": "markdown",
      "metadata": {
        "id": "yHPXZa9DYRAi",
        "colab_type": "text"
      },
      "source": [
        "### **Summary of our project :**\n",
        "\n",
        "---\n",
        "\n",
        "\n",
        "\n",
        "I. Import of the different datasets (one with movies characteristics, one with written Amazon reviews and another one to merge the previous databases). We included also some descriptive statistics. \n",
        "\n",
        "II. Sentiment Analysis on already tagged film reviews. We train 2 different models (using Word2Vec and BERT) and compare them. We apply the best one to the Amazon reviews. \n",
        "\n",
        "III. New preprocessing to get a cleaned dataset for our predictions (includes removing some variable and convert some to dummies). Creation of a topic model on the overview of the movies. \n",
        "\n",
        "IV. Prediction of the ratings without the variables created with the sentiment analysis and the topic model. \n",
        "\n",
        "V. Prediction of the ratings with the variables created with the sentiment analysis and the topic model. \n",
        "\n",
        "VI. Comparison of the predictions and short conclusion\n",
        "\n",
        "---"
      ]
    },
    {
      "cell_type": "markdown",
      "metadata": {
        "id": "BZyK_FB0I1b4",
        "colab_type": "text"
      },
      "source": [
        "### **I - Data import and preliminary analysis**"
      ]
    },
    {
      "cell_type": "code",
      "metadata": {
        "id": "a4ymOiOTHPBF",
        "colab_type": "code",
        "colab": {}
      },
      "source": [
        "import pandas as pd\n",
        "import numpy as np\n",
        "import seaborn as sns\n",
        "import matplotlib.pyplot as plt\n",
        "from sklearn.model_selection import train_test_split\n",
        "import random"
      ],
      "execution_count": 0,
      "outputs": []
    },
    {
      "cell_type": "markdown",
      "metadata": {
        "id": "MxwsZri9ExyD",
        "colab_type": "text"
      },
      "source": [
        "#### **IMBD movies database**\n",
        "\n"
      ]
    },
    {
      "cell_type": "code",
      "metadata": {
        "id": "obWxh8y90-U1",
        "colab_type": "code",
        "outputId": "d0a4dcff-57ea-41b9-dbbd-13d64799cf8b",
        "colab": {
          "base_uri": "https://localhost:8080/",
          "height": 54
        }
      },
      "source": [
        "!git clone <repo_url>"
      ],
      "execution_count": 0,
      "outputs": [
        {
          "output_type": "stream",
          "text": [
            "/bin/bash: -c: line 0: syntax error near unexpected token `newline'\n",
            "/bin/bash: -c: line 0: `git clone <repo_url>'\n"
          ],
          "name": "stdout"
        }
      ]
    },
    {
      "cell_type": "code",
      "metadata": {
        "id": "Ryye4WAU0BIS",
        "colab_type": "code",
        "colab": {}
      },
      "source": [
        "#Importation of the database\n",
        "import requests, zipfile, io\n",
        "\n",
        "r = requests.get('https://github.com/Margauxxxxxxx/NLP_Project/blob/master/movies_metadata.zip?raw=true' ) \n",
        "z = zipfile.ZipFile(io.BytesIO(r.content))\n",
        "z = z.extractall()"
      ],
      "execution_count": 0,
      "outputs": []
    },
    {
      "cell_type": "code",
      "metadata": {
        "id": "AUksT_0N1yiD",
        "colab_type": "code",
        "outputId": "4e7121c4-31aa-47ef-cbfa-7dd2b9353e16",
        "colab": {
          "base_uri": "https://localhost:8080/",
          "height": 497
        }
      },
      "source": [
        "df = pd.read_csv('movies_metadata.csv')\n",
        "s = 'Movies database has {:,} rows and {:,} columns'\n",
        "print(s.format(df.shape[0], df.shape[1]))\n",
        "df.head(3)"
      ],
      "execution_count": 0,
      "outputs": [
        {
          "output_type": "stream",
          "text": [
            "Movies database has 45,466 rows and 24 columns\n"
          ],
          "name": "stdout"
        },
        {
          "output_type": "stream",
          "text": [
            "/usr/local/lib/python3.6/dist-packages/IPython/core/interactiveshell.py:2718: DtypeWarning: Columns (10) have mixed types.Specify dtype option on import or set low_memory=False.\n",
            "  interactivity=interactivity, compiler=compiler, result=result)\n"
          ],
          "name": "stderr"
        },
        {
          "output_type": "execute_result",
          "data": {
            "text/html": [
              "<div>\n",
              "<style scoped>\n",
              "    .dataframe tbody tr th:only-of-type {\n",
              "        vertical-align: middle;\n",
              "    }\n",
              "\n",
              "    .dataframe tbody tr th {\n",
              "        vertical-align: top;\n",
              "    }\n",
              "\n",
              "    .dataframe thead th {\n",
              "        text-align: right;\n",
              "    }\n",
              "</style>\n",
              "<table border=\"1\" class=\"dataframe\">\n",
              "  <thead>\n",
              "    <tr style=\"text-align: right;\">\n",
              "      <th></th>\n",
              "      <th>adult</th>\n",
              "      <th>belongs_to_collection</th>\n",
              "      <th>budget</th>\n",
              "      <th>genres</th>\n",
              "      <th>homepage</th>\n",
              "      <th>id</th>\n",
              "      <th>imdb_id</th>\n",
              "      <th>original_language</th>\n",
              "      <th>original_title</th>\n",
              "      <th>overview</th>\n",
              "      <th>popularity</th>\n",
              "      <th>poster_path</th>\n",
              "      <th>production_companies</th>\n",
              "      <th>production_countries</th>\n",
              "      <th>release_date</th>\n",
              "      <th>revenue</th>\n",
              "      <th>runtime</th>\n",
              "      <th>spoken_languages</th>\n",
              "      <th>status</th>\n",
              "      <th>tagline</th>\n",
              "      <th>title</th>\n",
              "      <th>video</th>\n",
              "      <th>vote_average</th>\n",
              "      <th>vote_count</th>\n",
              "    </tr>\n",
              "  </thead>\n",
              "  <tbody>\n",
              "    <tr>\n",
              "      <th>0</th>\n",
              "      <td>False</td>\n",
              "      <td>{'id': 10194, 'name': 'Toy Story Collection', ...</td>\n",
              "      <td>30000000</td>\n",
              "      <td>[{'id': 16, 'name': 'Animation'}, {'id': 35, '...</td>\n",
              "      <td>http://toystory.disney.com/toy-story</td>\n",
              "      <td>862</td>\n",
              "      <td>tt0114709</td>\n",
              "      <td>en</td>\n",
              "      <td>Toy Story</td>\n",
              "      <td>Led by Woody, Andy's toys live happily in his ...</td>\n",
              "      <td>21.9469</td>\n",
              "      <td>/rhIRbceoE9lR4veEXuwCC2wARtG.jpg</td>\n",
              "      <td>[{'name': 'Pixar Animation Studios', 'id': 3}]</td>\n",
              "      <td>[{'iso_3166_1': 'US', 'name': 'United States o...</td>\n",
              "      <td>1995-10-30</td>\n",
              "      <td>373554033.0</td>\n",
              "      <td>81.0</td>\n",
              "      <td>[{'iso_639_1': 'en', 'name': 'English'}]</td>\n",
              "      <td>Released</td>\n",
              "      <td>NaN</td>\n",
              "      <td>Toy Story</td>\n",
              "      <td>False</td>\n",
              "      <td>7.7</td>\n",
              "      <td>5415.0</td>\n",
              "    </tr>\n",
              "    <tr>\n",
              "      <th>1</th>\n",
              "      <td>False</td>\n",
              "      <td>NaN</td>\n",
              "      <td>65000000</td>\n",
              "      <td>[{'id': 12, 'name': 'Adventure'}, {'id': 14, '...</td>\n",
              "      <td>NaN</td>\n",
              "      <td>8844</td>\n",
              "      <td>tt0113497</td>\n",
              "      <td>en</td>\n",
              "      <td>Jumanji</td>\n",
              "      <td>When siblings Judy and Peter discover an encha...</td>\n",
              "      <td>17.0155</td>\n",
              "      <td>/vzmL6fP7aPKNKPRTFnZmiUfciyV.jpg</td>\n",
              "      <td>[{'name': 'TriStar Pictures', 'id': 559}, {'na...</td>\n",
              "      <td>[{'iso_3166_1': 'US', 'name': 'United States o...</td>\n",
              "      <td>1995-12-15</td>\n",
              "      <td>262797249.0</td>\n",
              "      <td>104.0</td>\n",
              "      <td>[{'iso_639_1': 'en', 'name': 'English'}, {'iso...</td>\n",
              "      <td>Released</td>\n",
              "      <td>Roll the dice and unleash the excitement!</td>\n",
              "      <td>Jumanji</td>\n",
              "      <td>False</td>\n",
              "      <td>6.9</td>\n",
              "      <td>2413.0</td>\n",
              "    </tr>\n",
              "    <tr>\n",
              "      <th>2</th>\n",
              "      <td>False</td>\n",
              "      <td>{'id': 119050, 'name': 'Grumpy Old Men Collect...</td>\n",
              "      <td>0</td>\n",
              "      <td>[{'id': 10749, 'name': 'Romance'}, {'id': 35, ...</td>\n",
              "      <td>NaN</td>\n",
              "      <td>15602</td>\n",
              "      <td>tt0113228</td>\n",
              "      <td>en</td>\n",
              "      <td>Grumpier Old Men</td>\n",
              "      <td>A family wedding reignites the ancient feud be...</td>\n",
              "      <td>11.7129</td>\n",
              "      <td>/6ksm1sjKMFLbO7UY2i6G1ju9SML.jpg</td>\n",
              "      <td>[{'name': 'Warner Bros.', 'id': 6194}, {'name'...</td>\n",
              "      <td>[{'iso_3166_1': 'US', 'name': 'United States o...</td>\n",
              "      <td>1995-12-22</td>\n",
              "      <td>0.0</td>\n",
              "      <td>101.0</td>\n",
              "      <td>[{'iso_639_1': 'en', 'name': 'English'}]</td>\n",
              "      <td>Released</td>\n",
              "      <td>Still Yelling. Still Fighting. Still Ready for...</td>\n",
              "      <td>Grumpier Old Men</td>\n",
              "      <td>False</td>\n",
              "      <td>6.5</td>\n",
              "      <td>92.0</td>\n",
              "    </tr>\n",
              "  </tbody>\n",
              "</table>\n",
              "</div>"
            ],
            "text/plain": [
              "   adult  ... vote_count\n",
              "0  False  ...     5415.0\n",
              "1  False  ...     2413.0\n",
              "2  False  ...       92.0\n",
              "\n",
              "[3 rows x 24 columns]"
            ]
          },
          "metadata": {
            "tags": []
          },
          "execution_count": 18
        }
      ]
    },
    {
      "cell_type": "markdown",
      "metadata": {
        "id": "7F6Ky4l0zjsc",
        "colab_type": "text"
      },
      "source": [
        "#### **Selection of IMBD movies with Amazon reviews**"
      ]
    },
    {
      "cell_type": "markdown",
      "metadata": {
        "id": "ai02vYTHOUre",
        "colab_type": "text"
      },
      "source": [
        "We are going to work with the movies for which we have Amazon reviews. We select such movies using the Movies_and_TV_metadata database (desciption of the movies with Amazon reviews : http://deepyeti.uscd.edu/jianmo/amazon/index.html), and save the new database in a csv file in the GitHub of our project. "
      ]
    },
    {
      "cell_type": "code",
      "metadata": {
        "id": "CaVp5x9UOzyD",
        "colab_type": "code",
        "outputId": "681450e3-00ad-41ed-d5b6-9cfd7ca2f520",
        "colab": {
          "base_uri": "https://localhost:8080/",
          "height": 408
        }
      },
      "source": [
        "#Importation of the database of the movies with Amazon reviews\n",
        "\n",
        "r = requests.get('https://github.com/Margauxxxxxxx/NLP_Project/blob/master/movies_Amazon.zip?raw=true' ) \n",
        "z = zipfile.ZipFile(io.BytesIO(r.content))\n",
        "z = z.extractall()\n",
        "\n",
        "df_movies = pd.read_csv('movies_Amazon.csv')\n",
        "s = 'The database of Amazon movies has {:,} rows and {:,} columns'\n",
        "print(s.format(df_movies.shape[0], df_movies.shape[1]))\n",
        "df_movies.head(3)"
      ],
      "execution_count": 0,
      "outputs": [
        {
          "output_type": "stream",
          "text": [
            "The database of Amazon movies has 16,777 rows and 15 columns\n"
          ],
          "name": "stdout"
        },
        {
          "output_type": "execute_result",
          "data": {
            "text/html": [
              "<div>\n",
              "<style scoped>\n",
              "    .dataframe tbody tr th:only-of-type {\n",
              "        vertical-align: middle;\n",
              "    }\n",
              "\n",
              "    .dataframe tbody tr th {\n",
              "        vertical-align: top;\n",
              "    }\n",
              "\n",
              "    .dataframe thead th {\n",
              "        text-align: right;\n",
              "    }\n",
              "</style>\n",
              "<table border=\"1\" class=\"dataframe\">\n",
              "  <thead>\n",
              "    <tr style=\"text-align: right;\">\n",
              "      <th></th>\n",
              "      <th>category</th>\n",
              "      <th>title</th>\n",
              "      <th>rank</th>\n",
              "      <th>main_cat</th>\n",
              "      <th>asin</th>\n",
              "      <th>image</th>\n",
              "      <th>description</th>\n",
              "      <th>brand</th>\n",
              "      <th>also_buy</th>\n",
              "      <th>also_view</th>\n",
              "      <th>price</th>\n",
              "      <th>details</th>\n",
              "      <th>feature</th>\n",
              "      <th>date</th>\n",
              "      <th>tech1</th>\n",
              "    </tr>\n",
              "  </thead>\n",
              "  <tbody>\n",
              "    <tr>\n",
              "      <th>0</th>\n",
              "      <td>['Movies &amp; TV', 'A&amp;E Home Video', 'All A&amp;E Tit...</td>\n",
              "      <td>The Avengers</td>\n",
              "      <td>718,117inMoviesTV(</td>\n",
              "      <td>Movies &amp; TV</td>\n",
              "      <td>0767015525</td>\n",
              "      <td>NaN</td>\n",
              "      <td>['The long-running Avengers series added some ...</td>\n",
              "      <td>NaN</td>\n",
              "      <td>['B00005O7NC', 'B0000639DY', 'B00007GZYB', 'B0...</td>\n",
              "      <td>['B0083SBMBM', 'B00E5G03I4', 'B00005O7NC', 'B0...</td>\n",
              "      <td>NaN</td>\n",
              "      <td>NaN</td>\n",
              "      <td>NaN</td>\n",
              "      <td>NaN</td>\n",
              "      <td>NaN</td>\n",
              "    </tr>\n",
              "    <tr>\n",
              "      <th>1</th>\n",
              "      <td>['Movies &amp; TV', 'A&amp;E Home Video', 'All A&amp;E Tit...</td>\n",
              "      <td>Jane Eyre</td>\n",
              "      <td>44,230inMoviesTV(</td>\n",
              "      <td>Movies &amp; TV</td>\n",
              "      <td>0767020294</td>\n",
              "      <td>['https://images-na.ssl-images-amazon.com/imag...</td>\n",
              "      <td>[\"Samantha Morton, Ciaran Hinds. A young gover...</td>\n",
              "      <td>Samantha Morton</td>\n",
              "      <td>['B0053Q9DHW', 'B000784WMW', 'B00005RHF8', 'B0...</td>\n",
              "      <td>['B000784WMW', 'B0053Q9DHW', 'B000MGBLHS', 'B0...</td>\n",
              "      <td>$9.09</td>\n",
              "      <td>NaN</td>\n",
              "      <td>NaN</td>\n",
              "      <td>NaN</td>\n",
              "      <td>NaN</td>\n",
              "    </tr>\n",
              "    <tr>\n",
              "      <th>2</th>\n",
              "      <td>['Movies &amp; TV', 'Studio Specials', 'Sony Pictu...</td>\n",
              "      <td>Absence of Malice</td>\n",
              "      <td>159,100inMoviesTV(</td>\n",
              "      <td>Movies &amp; TV</td>\n",
              "      <td>0767804325</td>\n",
              "      <td>['https://images-na.ssl-images-amazon.com/imag...</td>\n",
              "      <td>[\"In America, can a man be guilty until proven...</td>\n",
              "      <td>Bob Balaban</td>\n",
              "      <td>['B00407PNX8', 'B007N31YH0', 'B000059HAN', 'B0...</td>\n",
              "      <td>['B00407PNX8', 'B000059HAN', 'B00AY587RY', 'B0...</td>\n",
              "      <td>$8.95</td>\n",
              "      <td>NaN</td>\n",
              "      <td>NaN</td>\n",
              "      <td>NaN</td>\n",
              "      <td>NaN</td>\n",
              "    </tr>\n",
              "  </tbody>\n",
              "</table>\n",
              "</div>"
            ],
            "text/plain": [
              "                                            category  ... tech1\n",
              "0  ['Movies & TV', 'A&E Home Video', 'All A&E Tit...  ...   NaN\n",
              "1  ['Movies & TV', 'A&E Home Video', 'All A&E Tit...  ...   NaN\n",
              "2  ['Movies & TV', 'Studio Specials', 'Sony Pictu...  ...   NaN\n",
              "\n",
              "[3 rows x 15 columns]"
            ]
          },
          "metadata": {
            "tags": []
          },
          "execution_count": 19
        }
      ]
    },
    {
      "cell_type": "markdown",
      "metadata": {
        "id": "kYhsdkKdQvkP",
        "colab_type": "text"
      },
      "source": [
        "We are now going to select the movies that are in both databases."
      ]
    },
    {
      "cell_type": "code",
      "metadata": {
        "id": "z1XN-HSSQuLC",
        "colab_type": "code",
        "colab": {}
      },
      "source": [
        "#We look title by title to know which movies are present in both databases\n",
        "\n",
        "ASIN_to_keep=[]\n",
        "movies_to_keep=[]\n",
        "for k in range(len(df_movies.title)):\n",
        "    if df_movies.title[k] in list(df.title):\n",
        "        ASIN_to_keep.append(df_movies.asin[k])\n",
        "        movies_to_keep.append(df_movies.title[k])\n"
      ],
      "execution_count": 0,
      "outputs": []
    },
    {
      "cell_type": "code",
      "metadata": {
        "id": "eM7xs_sjRDxo",
        "colab_type": "code",
        "outputId": "d81e764f-e858-4801-ce0e-fe4e6c1478a4",
        "colab": {
          "base_uri": "https://localhost:8080/",
          "height": 425
        }
      },
      "source": [
        "df = df[df['title'].isin(movies_to_keep)]\n",
        "s = 'The new movies_database has {:,} rows and {:,} columns'\n",
        "print(s.format(df.shape[0], df.shape[1]))\n",
        "df.head(3)"
      ],
      "execution_count": 0,
      "outputs": [
        {
          "output_type": "stream",
          "text": [
            "The new movies_database has 14,215 rows and 24 columns\n"
          ],
          "name": "stdout"
        },
        {
          "output_type": "execute_result",
          "data": {
            "text/html": [
              "<div>\n",
              "<style scoped>\n",
              "    .dataframe tbody tr th:only-of-type {\n",
              "        vertical-align: middle;\n",
              "    }\n",
              "\n",
              "    .dataframe tbody tr th {\n",
              "        vertical-align: top;\n",
              "    }\n",
              "\n",
              "    .dataframe thead th {\n",
              "        text-align: right;\n",
              "    }\n",
              "</style>\n",
              "<table border=\"1\" class=\"dataframe\">\n",
              "  <thead>\n",
              "    <tr style=\"text-align: right;\">\n",
              "      <th></th>\n",
              "      <th>adult</th>\n",
              "      <th>belongs_to_collection</th>\n",
              "      <th>budget</th>\n",
              "      <th>genres</th>\n",
              "      <th>homepage</th>\n",
              "      <th>id</th>\n",
              "      <th>imdb_id</th>\n",
              "      <th>original_language</th>\n",
              "      <th>original_title</th>\n",
              "      <th>overview</th>\n",
              "      <th>popularity</th>\n",
              "      <th>poster_path</th>\n",
              "      <th>production_companies</th>\n",
              "      <th>production_countries</th>\n",
              "      <th>release_date</th>\n",
              "      <th>revenue</th>\n",
              "      <th>runtime</th>\n",
              "      <th>spoken_languages</th>\n",
              "      <th>status</th>\n",
              "      <th>tagline</th>\n",
              "      <th>title</th>\n",
              "      <th>video</th>\n",
              "      <th>vote_average</th>\n",
              "      <th>vote_count</th>\n",
              "    </tr>\n",
              "  </thead>\n",
              "  <tbody>\n",
              "    <tr>\n",
              "      <th>0</th>\n",
              "      <td>False</td>\n",
              "      <td>{'id': 10194, 'name': 'Toy Story Collection', ...</td>\n",
              "      <td>30000000</td>\n",
              "      <td>[{'id': 16, 'name': 'Animation'}, {'id': 35, '...</td>\n",
              "      <td>http://toystory.disney.com/toy-story</td>\n",
              "      <td>862</td>\n",
              "      <td>tt0114709</td>\n",
              "      <td>en</td>\n",
              "      <td>Toy Story</td>\n",
              "      <td>Led by Woody, Andy's toys live happily in his ...</td>\n",
              "      <td>21.9469</td>\n",
              "      <td>/rhIRbceoE9lR4veEXuwCC2wARtG.jpg</td>\n",
              "      <td>[{'name': 'Pixar Animation Studios', 'id': 3}]</td>\n",
              "      <td>[{'iso_3166_1': 'US', 'name': 'United States o...</td>\n",
              "      <td>1995-10-30</td>\n",
              "      <td>373554033.0</td>\n",
              "      <td>81.0</td>\n",
              "      <td>[{'iso_639_1': 'en', 'name': 'English'}]</td>\n",
              "      <td>Released</td>\n",
              "      <td>NaN</td>\n",
              "      <td>Toy Story</td>\n",
              "      <td>False</td>\n",
              "      <td>7.7</td>\n",
              "      <td>5415.0</td>\n",
              "    </tr>\n",
              "    <tr>\n",
              "      <th>5</th>\n",
              "      <td>False</td>\n",
              "      <td>NaN</td>\n",
              "      <td>60000000</td>\n",
              "      <td>[{'id': 28, 'name': 'Action'}, {'id': 80, 'nam...</td>\n",
              "      <td>NaN</td>\n",
              "      <td>949</td>\n",
              "      <td>tt0113277</td>\n",
              "      <td>en</td>\n",
              "      <td>Heat</td>\n",
              "      <td>Obsessive master thief, Neil McCauley leads a ...</td>\n",
              "      <td>17.9249</td>\n",
              "      <td>/zMyfPUelumio3tiDKPffaUpsQTD.jpg</td>\n",
              "      <td>[{'name': 'Regency Enterprises', 'id': 508}, {...</td>\n",
              "      <td>[{'iso_3166_1': 'US', 'name': 'United States o...</td>\n",
              "      <td>1995-12-15</td>\n",
              "      <td>187436818.0</td>\n",
              "      <td>170.0</td>\n",
              "      <td>[{'iso_639_1': 'en', 'name': 'English'}, {'iso...</td>\n",
              "      <td>Released</td>\n",
              "      <td>A Los Angeles Crime Saga</td>\n",
              "      <td>Heat</td>\n",
              "      <td>False</td>\n",
              "      <td>7.7</td>\n",
              "      <td>1886.0</td>\n",
              "    </tr>\n",
              "    <tr>\n",
              "      <th>15</th>\n",
              "      <td>False</td>\n",
              "      <td>NaN</td>\n",
              "      <td>52000000</td>\n",
              "      <td>[{'id': 18, 'name': 'Drama'}, {'id': 80, 'name...</td>\n",
              "      <td>NaN</td>\n",
              "      <td>524</td>\n",
              "      <td>tt0112641</td>\n",
              "      <td>en</td>\n",
              "      <td>Casino</td>\n",
              "      <td>The life of the gambling paradise – Las Vegas ...</td>\n",
              "      <td>10.1374</td>\n",
              "      <td>/xo517ibXBDdYQY81j0WIG7BVcWq.jpg</td>\n",
              "      <td>[{'name': 'Universal Pictures', 'id': 33}, {'n...</td>\n",
              "      <td>[{'iso_3166_1': 'FR', 'name': 'France'}, {'iso...</td>\n",
              "      <td>1995-11-22</td>\n",
              "      <td>116112375.0</td>\n",
              "      <td>178.0</td>\n",
              "      <td>[{'iso_639_1': 'en', 'name': 'English'}]</td>\n",
              "      <td>Released</td>\n",
              "      <td>No one stays at the top forever.</td>\n",
              "      <td>Casino</td>\n",
              "      <td>False</td>\n",
              "      <td>7.8</td>\n",
              "      <td>1343.0</td>\n",
              "    </tr>\n",
              "  </tbody>\n",
              "</table>\n",
              "</div>"
            ],
            "text/plain": [
              "    adult  ... vote_count\n",
              "0   False  ...     5415.0\n",
              "5   False  ...     1886.0\n",
              "15  False  ...     1343.0\n",
              "\n",
              "[3 rows x 24 columns]"
            ]
          },
          "metadata": {
            "tags": []
          },
          "execution_count": 21
        }
      ]
    },
    {
      "cell_type": "markdown",
      "metadata": {
        "id": "8qiibAXZQVGd",
        "colab_type": "text"
      },
      "source": [
        "We saved this database to be able then to downloaded it directly :"
      ]
    },
    {
      "cell_type": "code",
      "metadata": {
        "id": "vDlj7rVd-ccP",
        "colab_type": "code",
        "outputId": "c19859a9-bda3-4cdd-ebdb-0abdc0270dd9",
        "colab": {
          "base_uri": "https://localhost:8080/",
          "height": 425
        }
      },
      "source": [
        "#Database of IMBD movies that have Amazon reviews\n",
        "df = pd.read_csv('https://github.com/Margauxxxxxxx/NLP_Project/blob/master/movies_IMBD.csv?raw=true')\n",
        "s = 'Movies database has {:,} rows and {:,} columns'\n",
        "print(s.format(df.shape[0], df.shape[1]))\n",
        "df.head(3)"
      ],
      "execution_count": 0,
      "outputs": [
        {
          "output_type": "stream",
          "text": [
            "Movies database has 14,215 rows and 24 columns\n"
          ],
          "name": "stdout"
        },
        {
          "output_type": "execute_result",
          "data": {
            "text/html": [
              "<div>\n",
              "<style scoped>\n",
              "    .dataframe tbody tr th:only-of-type {\n",
              "        vertical-align: middle;\n",
              "    }\n",
              "\n",
              "    .dataframe tbody tr th {\n",
              "        vertical-align: top;\n",
              "    }\n",
              "\n",
              "    .dataframe thead th {\n",
              "        text-align: right;\n",
              "    }\n",
              "</style>\n",
              "<table border=\"1\" class=\"dataframe\">\n",
              "  <thead>\n",
              "    <tr style=\"text-align: right;\">\n",
              "      <th></th>\n",
              "      <th>adult</th>\n",
              "      <th>belongs_to_collection</th>\n",
              "      <th>budget</th>\n",
              "      <th>genres</th>\n",
              "      <th>homepage</th>\n",
              "      <th>id</th>\n",
              "      <th>imdb_id</th>\n",
              "      <th>original_language</th>\n",
              "      <th>original_title</th>\n",
              "      <th>overview</th>\n",
              "      <th>popularity</th>\n",
              "      <th>poster_path</th>\n",
              "      <th>production_companies</th>\n",
              "      <th>production_countries</th>\n",
              "      <th>release_date</th>\n",
              "      <th>revenue</th>\n",
              "      <th>runtime</th>\n",
              "      <th>spoken_languages</th>\n",
              "      <th>status</th>\n",
              "      <th>tagline</th>\n",
              "      <th>title</th>\n",
              "      <th>video</th>\n",
              "      <th>vote_average</th>\n",
              "      <th>vote_count</th>\n",
              "    </tr>\n",
              "  </thead>\n",
              "  <tbody>\n",
              "    <tr>\n",
              "      <th>0</th>\n",
              "      <td>False</td>\n",
              "      <td>{'id': 10194, 'name': 'Toy Story Collection', ...</td>\n",
              "      <td>30000000</td>\n",
              "      <td>[{'id': 16, 'name': 'Animation'}, {'id': 35, '...</td>\n",
              "      <td>http://toystory.disney.com/toy-story</td>\n",
              "      <td>862</td>\n",
              "      <td>tt0114709</td>\n",
              "      <td>en</td>\n",
              "      <td>Toy Story</td>\n",
              "      <td>Led by Woody, Andy's toys live happily in his ...</td>\n",
              "      <td>21.946943</td>\n",
              "      <td>/rhIRbceoE9lR4veEXuwCC2wARtG.jpg</td>\n",
              "      <td>[{'name': 'Pixar Animation Studios', 'id': 3}]</td>\n",
              "      <td>[{'iso_3166_1': 'US', 'name': 'United States o...</td>\n",
              "      <td>1995-10-30</td>\n",
              "      <td>373554033.0</td>\n",
              "      <td>81.0</td>\n",
              "      <td>[{'iso_639_1': 'en', 'name': 'English'}]</td>\n",
              "      <td>Released</td>\n",
              "      <td>NaN</td>\n",
              "      <td>Toy Story</td>\n",
              "      <td>False</td>\n",
              "      <td>7.7</td>\n",
              "      <td>5415.0</td>\n",
              "    </tr>\n",
              "    <tr>\n",
              "      <th>1</th>\n",
              "      <td>False</td>\n",
              "      <td>NaN</td>\n",
              "      <td>60000000</td>\n",
              "      <td>[{'id': 28, 'name': 'Action'}, {'id': 80, 'nam...</td>\n",
              "      <td>NaN</td>\n",
              "      <td>949</td>\n",
              "      <td>tt0113277</td>\n",
              "      <td>en</td>\n",
              "      <td>Heat</td>\n",
              "      <td>Obsessive master thief, Neil McCauley leads a ...</td>\n",
              "      <td>17.924927</td>\n",
              "      <td>/zMyfPUelumio3tiDKPffaUpsQTD.jpg</td>\n",
              "      <td>[{'name': 'Regency Enterprises', 'id': 508}, {...</td>\n",
              "      <td>[{'iso_3166_1': 'US', 'name': 'United States o...</td>\n",
              "      <td>1995-12-15</td>\n",
              "      <td>187436818.0</td>\n",
              "      <td>170.0</td>\n",
              "      <td>[{'iso_639_1': 'en', 'name': 'English'}, {'iso...</td>\n",
              "      <td>Released</td>\n",
              "      <td>A Los Angeles Crime Saga</td>\n",
              "      <td>Heat</td>\n",
              "      <td>False</td>\n",
              "      <td>7.7</td>\n",
              "      <td>1886.0</td>\n",
              "    </tr>\n",
              "    <tr>\n",
              "      <th>2</th>\n",
              "      <td>False</td>\n",
              "      <td>NaN</td>\n",
              "      <td>52000000</td>\n",
              "      <td>[{'id': 18, 'name': 'Drama'}, {'id': 80, 'name...</td>\n",
              "      <td>NaN</td>\n",
              "      <td>524</td>\n",
              "      <td>tt0112641</td>\n",
              "      <td>en</td>\n",
              "      <td>Casino</td>\n",
              "      <td>The life of the gambling paradise – Las Vegas ...</td>\n",
              "      <td>10.137389</td>\n",
              "      <td>/xo517ibXBDdYQY81j0WIG7BVcWq.jpg</td>\n",
              "      <td>[{'name': 'Universal Pictures', 'id': 33}, {'n...</td>\n",
              "      <td>[{'iso_3166_1': 'FR', 'name': 'France'}, {'iso...</td>\n",
              "      <td>1995-11-22</td>\n",
              "      <td>116112375.0</td>\n",
              "      <td>178.0</td>\n",
              "      <td>[{'iso_639_1': 'en', 'name': 'English'}]</td>\n",
              "      <td>Released</td>\n",
              "      <td>No one stays at the top forever.</td>\n",
              "      <td>Casino</td>\n",
              "      <td>False</td>\n",
              "      <td>7.8</td>\n",
              "      <td>1343.0</td>\n",
              "    </tr>\n",
              "  </tbody>\n",
              "</table>\n",
              "</div>"
            ],
            "text/plain": [
              "   adult  ... vote_count\n",
              "0  False  ...     5415.0\n",
              "1  False  ...     1886.0\n",
              "2  False  ...     1343.0\n",
              "\n",
              "[3 rows x 24 columns]"
            ]
          },
          "metadata": {
            "tags": []
          },
          "execution_count": 22
        }
      ]
    },
    {
      "cell_type": "markdown",
      "metadata": {
        "id": "UDevH9fZxM87",
        "colab_type": "text"
      },
      "source": [
        "We only keep the movies that have more than 100 votes to remove the outliers that have just few votes and an average rating of 0. "
      ]
    },
    {
      "cell_type": "code",
      "metadata": {
        "id": "TZtv-6LtXd7C",
        "colab_type": "code",
        "outputId": "08836f7e-13ac-4ee4-b58b-90e0f0c159c4",
        "colab": {
          "base_uri": "https://localhost:8080/",
          "height": 35
        }
      },
      "source": [
        "#We are going to work only with the movies that have more than 100 votes\n",
        "df = df[df['vote_count']>100]\n",
        "df.shape"
      ],
      "execution_count": 0,
      "outputs": [
        {
          "output_type": "execute_result",
          "data": {
            "text/plain": [
              "(2646, 24)"
            ]
          },
          "metadata": {
            "tags": []
          },
          "execution_count": 12
        }
      ]
    },
    {
      "cell_type": "markdown",
      "metadata": {
        "id": "aK_A8yASxze9",
        "colab_type": "text"
      },
      "source": [
        "#### **Descriptive Statistics of IMBD database**"
      ]
    },
    {
      "cell_type": "markdown",
      "metadata": {
        "id": "U4Dtpl6oJiDe",
        "colab_type": "text"
      },
      "source": [
        "You can find below some descriptive about our movie_database. We start by studying numeric variables.  "
      ]
    },
    {
      "cell_type": "code",
      "metadata": {
        "id": "Y3TyrjMoL4VL",
        "colab_type": "code",
        "colab": {}
      },
      "source": [
        "#For some variables, the not encoded as numeric variable\n",
        "#For example, we transform popularity and budget to numeric\n",
        "df.popularity = pd.to_numeric(df.popularity, errors='coerce')\n",
        "df.budget = pd.to_numeric(df.budget, errors='coerce')"
      ],
      "execution_count": 0,
      "outputs": []
    },
    {
      "cell_type": "code",
      "metadata": {
        "id": "emdy40GjLaQS",
        "colab_type": "code",
        "outputId": "d204bb13-73f6-4098-d4d6-4304e4e1aa3a",
        "colab": {
          "base_uri": "https://localhost:8080/",
          "height": 300
        }
      },
      "source": [
        "#Description of numeric variables\n",
        "df.drop(['id'], axis=1).describe()"
      ],
      "execution_count": 0,
      "outputs": [
        {
          "output_type": "execute_result",
          "data": {
            "text/html": [
              "<div>\n",
              "<style scoped>\n",
              "    .dataframe tbody tr th:only-of-type {\n",
              "        vertical-align: middle;\n",
              "    }\n",
              "\n",
              "    .dataframe tbody tr th {\n",
              "        vertical-align: top;\n",
              "    }\n",
              "\n",
              "    .dataframe thead th {\n",
              "        text-align: right;\n",
              "    }\n",
              "</style>\n",
              "<table border=\"1\" class=\"dataframe\">\n",
              "  <thead>\n",
              "    <tr style=\"text-align: right;\">\n",
              "      <th></th>\n",
              "      <th>budget</th>\n",
              "      <th>popularity</th>\n",
              "      <th>revenue</th>\n",
              "      <th>runtime</th>\n",
              "      <th>vote_average</th>\n",
              "      <th>vote_count</th>\n",
              "    </tr>\n",
              "  </thead>\n",
              "  <tbody>\n",
              "    <tr>\n",
              "      <th>count</th>\n",
              "      <td>2.646000e+03</td>\n",
              "      <td>2646.000000</td>\n",
              "      <td>2.646000e+03</td>\n",
              "      <td>2646.000000</td>\n",
              "      <td>2646.000000</td>\n",
              "      <td>2646.000000</td>\n",
              "    </tr>\n",
              "    <tr>\n",
              "      <th>mean</th>\n",
              "      <td>3.090131e+07</td>\n",
              "      <td>11.046657</td>\n",
              "      <td>9.355244e+07</td>\n",
              "      <td>107.587302</td>\n",
              "      <td>6.406311</td>\n",
              "      <td>847.160998</td>\n",
              "    </tr>\n",
              "    <tr>\n",
              "      <th>std</th>\n",
              "      <td>4.374776e+07</td>\n",
              "      <td>15.645015</td>\n",
              "      <td>1.798050e+08</td>\n",
              "      <td>21.996952</td>\n",
              "      <td>0.836476</td>\n",
              "      <td>1308.579388</td>\n",
              "    </tr>\n",
              "    <tr>\n",
              "      <th>min</th>\n",
              "      <td>0.000000e+00</td>\n",
              "      <td>0.239993</td>\n",
              "      <td>0.000000e+00</td>\n",
              "      <td>0.000000</td>\n",
              "      <td>3.100000</td>\n",
              "      <td>101.000000</td>\n",
              "    </tr>\n",
              "    <tr>\n",
              "      <th>25%</th>\n",
              "      <td>1.817500e+05</td>\n",
              "      <td>6.965891</td>\n",
              "      <td>2.617845e+05</td>\n",
              "      <td>94.000000</td>\n",
              "      <td>5.800000</td>\n",
              "      <td>176.000000</td>\n",
              "    </tr>\n",
              "    <tr>\n",
              "      <th>50%</th>\n",
              "      <td>1.500000e+07</td>\n",
              "      <td>9.268047</td>\n",
              "      <td>2.826032e+07</td>\n",
              "      <td>104.000000</td>\n",
              "      <td>6.400000</td>\n",
              "      <td>358.500000</td>\n",
              "    </tr>\n",
              "    <tr>\n",
              "      <th>75%</th>\n",
              "      <td>4.000000e+07</td>\n",
              "      <td>12.160227</td>\n",
              "      <td>1.016753e+08</td>\n",
              "      <td>117.000000</td>\n",
              "      <td>7.000000</td>\n",
              "      <td>894.500000</td>\n",
              "    </tr>\n",
              "    <tr>\n",
              "      <th>max</th>\n",
              "      <td>3.800000e+08</td>\n",
              "      <td>547.488298</td>\n",
              "      <td>2.068224e+09</td>\n",
              "      <td>550.000000</td>\n",
              "      <td>9.100000</td>\n",
              "      <td>12269.000000</td>\n",
              "    </tr>\n",
              "  </tbody>\n",
              "</table>\n",
              "</div>"
            ],
            "text/plain": [
              "             budget   popularity  ...  vote_average    vote_count\n",
              "count  2.646000e+03  2646.000000  ...   2646.000000   2646.000000\n",
              "mean   3.090131e+07    11.046657  ...      6.406311    847.160998\n",
              "std    4.374776e+07    15.645015  ...      0.836476   1308.579388\n",
              "min    0.000000e+00     0.239993  ...      3.100000    101.000000\n",
              "25%    1.817500e+05     6.965891  ...      5.800000    176.000000\n",
              "50%    1.500000e+07     9.268047  ...      6.400000    358.500000\n",
              "75%    4.000000e+07    12.160227  ...      7.000000    894.500000\n",
              "max    3.800000e+08   547.488298  ...      9.100000  12269.000000\n",
              "\n",
              "[8 rows x 6 columns]"
            ]
          },
          "metadata": {
            "tags": []
          },
          "execution_count": 15
        }
      ]
    },
    {
      "cell_type": "code",
      "metadata": {
        "id": "onjzMPa7qh1f",
        "colab_type": "code",
        "outputId": "ed0881da-dbb8-4389-d58a-c571c17862ca",
        "colab": {
          "base_uri": "https://localhost:8080/",
          "height": 281
        }
      },
      "source": [
        "#Description of the others variables\n",
        "df.describe(include=[np.object])"
      ],
      "execution_count": 0,
      "outputs": [
        {
          "output_type": "execute_result",
          "data": {
            "text/html": [
              "<div>\n",
              "<style scoped>\n",
              "    .dataframe tbody tr th:only-of-type {\n",
              "        vertical-align: middle;\n",
              "    }\n",
              "\n",
              "    .dataframe tbody tr th {\n",
              "        vertical-align: top;\n",
              "    }\n",
              "\n",
              "    .dataframe thead th {\n",
              "        text-align: right;\n",
              "    }\n",
              "</style>\n",
              "<table border=\"1\" class=\"dataframe\">\n",
              "  <thead>\n",
              "    <tr style=\"text-align: right;\">\n",
              "      <th></th>\n",
              "      <th>adult</th>\n",
              "      <th>belongs_to_collection</th>\n",
              "      <th>genres</th>\n",
              "      <th>homepage</th>\n",
              "      <th>id</th>\n",
              "      <th>imdb_id</th>\n",
              "      <th>original_language</th>\n",
              "      <th>original_title</th>\n",
              "      <th>overview</th>\n",
              "      <th>poster_path</th>\n",
              "      <th>production_companies</th>\n",
              "      <th>production_countries</th>\n",
              "      <th>release_date</th>\n",
              "      <th>spoken_languages</th>\n",
              "      <th>status</th>\n",
              "      <th>tagline</th>\n",
              "      <th>title</th>\n",
              "      <th>video</th>\n",
              "    </tr>\n",
              "  </thead>\n",
              "  <tbody>\n",
              "    <tr>\n",
              "      <th>count</th>\n",
              "      <td>2646</td>\n",
              "      <td>610</td>\n",
              "      <td>2646</td>\n",
              "      <td>1070</td>\n",
              "      <td>2646</td>\n",
              "      <td>2646</td>\n",
              "      <td>2646</td>\n",
              "      <td>2646</td>\n",
              "      <td>2646</td>\n",
              "      <td>2646</td>\n",
              "      <td>2646</td>\n",
              "      <td>2646</td>\n",
              "      <td>2646</td>\n",
              "      <td>2646</td>\n",
              "      <td>2646</td>\n",
              "      <td>2356</td>\n",
              "      <td>2646</td>\n",
              "      <td>2646</td>\n",
              "    </tr>\n",
              "    <tr>\n",
              "      <th>unique</th>\n",
              "      <td>1</td>\n",
              "      <td>424</td>\n",
              "      <td>804</td>\n",
              "      <td>1061</td>\n",
              "      <td>2644</td>\n",
              "      <td>2644</td>\n",
              "      <td>25</td>\n",
              "      <td>2551</td>\n",
              "      <td>2644</td>\n",
              "      <td>2644</td>\n",
              "      <td>2326</td>\n",
              "      <td>336</td>\n",
              "      <td>2111</td>\n",
              "      <td>368</td>\n",
              "      <td>2</td>\n",
              "      <td>2351</td>\n",
              "      <td>2532</td>\n",
              "      <td>1</td>\n",
              "    </tr>\n",
              "    <tr>\n",
              "      <th>top</th>\n",
              "      <td>False</td>\n",
              "      <td>{'id': 645, 'name': 'James Bond Collection', '...</td>\n",
              "      <td>[{'id': 18, 'name': 'Drama'}]</td>\n",
              "      <td>http://www.kungfupanda.com/</td>\n",
              "      <td>265189</td>\n",
              "      <td>tt2121382</td>\n",
              "      <td>en</td>\n",
              "      <td>King Kong</td>\n",
              "      <td>While holidaying in the French Alps, a Swedish...</td>\n",
              "      <td>/o3Im9nPLAgtlw1j2LtpMebAotSe.jpg</td>\n",
              "      <td>[{'name': 'Universal Pictures', 'id': 33}]</td>\n",
              "      <td>[{'iso_3166_1': 'US', 'name': 'United States o...</td>\n",
              "      <td>2012-09-07</td>\n",
              "      <td>[{'iso_639_1': 'en', 'name': 'English'}]</td>\n",
              "      <td>Released</td>\n",
              "      <td>Some things are better left top secret.</td>\n",
              "      <td>Beauty and the Beast</td>\n",
              "      <td>False</td>\n",
              "    </tr>\n",
              "    <tr>\n",
              "      <th>freq</th>\n",
              "      <td>2646</td>\n",
              "      <td>9</td>\n",
              "      <td>156</td>\n",
              "      <td>3</td>\n",
              "      <td>2</td>\n",
              "      <td>2</td>\n",
              "      <td>2357</td>\n",
              "      <td>3</td>\n",
              "      <td>2</td>\n",
              "      <td>2</td>\n",
              "      <td>30</td>\n",
              "      <td>1551</td>\n",
              "      <td>7</td>\n",
              "      <td>1684</td>\n",
              "      <td>2645</td>\n",
              "      <td>2</td>\n",
              "      <td>4</td>\n",
              "      <td>2646</td>\n",
              "    </tr>\n",
              "  </tbody>\n",
              "</table>\n",
              "</div>"
            ],
            "text/plain": [
              "        adult  ...  video\n",
              "count    2646  ...   2646\n",
              "unique      1  ...      1\n",
              "top     False  ...  False\n",
              "freq     2646  ...   2646\n",
              "\n",
              "[4 rows x 18 columns]"
            ]
          },
          "metadata": {
            "tags": []
          },
          "execution_count": 16
        }
      ]
    },
    {
      "cell_type": "code",
      "metadata": {
        "id": "VXbqfRG1J50Q",
        "colab_type": "code",
        "outputId": "0d044903-bfde-4b7c-e5a0-a0fa3e57cda5",
        "colab": {
          "base_uri": "https://localhost:8080/"
        }
      },
      "source": [
        "#Plot of \"budget\" variable\n",
        "sns.distplot(df.budget, kde=False, color='darkturquoise')"
      ],
      "execution_count": 0,
      "outputs": [
        {
          "output_type": "execute_result",
          "data": {
            "text/plain": [
              "<matplotlib.axes._subplots.AxesSubplot at 0x7fac58dde5c0>"
            ]
          },
          "metadata": {
            "tags": []
          },
          "execution_count": 13
        },
        {
          "output_type": "display_data",
          "data": {
            "image/png": "[encoded data removed]",
            "text/plain": [
              "<Figure size 432x288 with 1 Axes>"
            ]
          },
          "metadata": {
            "tags": [],
            "needs_background": "light"
          }
        }
      ]
    },
    {
      "cell_type": "code",
      "metadata": {
        "id": "skL-0-zY2Nqt",
        "colab_type": "code",
        "outputId": "23915b93-1ff6-4d82-eae1-66c07650e167",
        "colab": {
          "base_uri": "https://localhost:8080/"
        }
      },
      "source": [
        "#Plot of \"runtime\" variable\n",
        "sns.distplot(df.runtime, kde=False, color='darkturquoise')\n",
        "#Most films last for 1h40"
      ],
      "execution_count": 0,
      "outputs": [
        {
          "output_type": "execute_result",
          "data": {
            "text/plain": [
              "<matplotlib.axes._subplots.AxesSubplot at 0x7fac579ce908>"
            ]
          },
          "metadata": {
            "tags": []
          },
          "execution_count": 16
        },
        {
          "output_type": "display_data",
          "data": {
            "image/png": "[encoded data removed]",
            "text/plain": [
              "<Figure size 432x288 with 1 Axes>"
            ]
          },
          "metadata": {
            "tags": [],
            "needs_background": "light"
          }
        }
      ]
    },
    {
      "cell_type": "code",
      "metadata": {
        "id": "gVT825EXPaXi",
        "colab_type": "code",
        "outputId": "1d031094-84ff-4da3-a95e-3d033261048a",
        "colab": {
          "base_uri": "https://localhost:8080/"
        }
      },
      "source": [
        "#Plot of \"vote_average\" variable\n",
        "sns.distplot(df.vote_average, kde=False, color='darkturquoise')\n",
        "#This is our variable of interest : we are trying to predict it using several explanatory variables"
      ],
      "execution_count": 0,
      "outputs": [
        {
          "output_type": "execute_result",
          "data": {
            "text/plain": [
              "<matplotlib.axes._subplots.AxesSubplot at 0x7fac5798a240>"
            ]
          },
          "metadata": {
            "tags": []
          },
          "execution_count": 17
        },
        {
          "output_type": "display_data",
          "data": {
            "image/png": "[encoded data removed]",
            "text/plain": [
              "<Figure size 432x288 with 1 Axes>"
            ]
          },
          "metadata": {
            "tags": [],
            "needs_background": "light"
          }
        }
      ]
    },
    {
      "cell_type": "markdown",
      "metadata": {
        "id": "UHCGs73vNWNm",
        "colab_type": "text"
      },
      "source": [
        "Regarding the movies description, more than 75% have no revenue. \n",
        "\n",
        "As some movies have no runtime, we might have to remove them. We can also see that some movies have a very high runtime, so we might see them as well as outliers... \n",
        "\n",
        "We finally can see that the most part of the average vote are between 5 and 6.8 (50%). Moreover, more than 75% of the movies have been ranked by less than 40 spectators. "
      ]
    },
    {
      "cell_type": "markdown",
      "metadata": {
        "id": "Czi4-bcKs9zP",
        "colab_type": "text"
      },
      "source": [
        "Now let's visualize the bivariate distribution and correlation of some variables with our variable of interest \"vote_average\" in a scatterplot."
      ]
    },
    {
      "cell_type": "code",
      "metadata": {
        "id": "GDmfBa5IL7nt",
        "colab_type": "code",
        "colab": {}
      },
      "source": [
        "from scipy.stats import pearsonr"
      ],
      "execution_count": 0,
      "outputs": []
    },
    {
      "cell_type": "code",
      "metadata": {
        "id": "Q7TcBMmXwg9K",
        "colab_type": "code",
        "outputId": "c700cd2f-7952-481d-8d45-adf36a15deca",
        "colab": {
          "base_uri": "https://localhost:8080/"
        }
      },
      "source": [
        "#Correlation between \"vote_average\" and \"popularity\"\n",
        "sns.jointplot(x='popularity', y='vote_average', data=df, kind='kde').annotate(pearsonr)"
      ],
      "execution_count": 0,
      "outputs": [
        {
          "output_type": "stream",
          "text": [
            "/usr/local/lib/python3.6/dist-packages/seaborn/axisgrid.py:1848: UserWarning: JointGrid annotation is deprecated and will be removed in a future release.\n",
            "  warnings.warn(UserWarning(msg))\n"
          ],
          "name": "stderr"
        },
        {
          "output_type": "execute_result",
          "data": {
            "text/plain": [
              "<seaborn.axisgrid.JointGrid at 0x7fac576a2668>"
            ]
          },
          "metadata": {
            "tags": []
          },
          "execution_count": 21
        },
        {
          "output_type": "display_data",
          "data": {
            "image/png": "[encoded data removed]",
            "text/plain": [
              "<Figure size 432x432 with 3 Axes>"
            ]
          },
          "metadata": {
            "tags": [],
            "needs_background": "light"
          }
        }
      ]
    },
    {
      "cell_type": "code",
      "metadata": {
        "id": "ZcFP2pc3wo2z",
        "colab_type": "code",
        "outputId": "496610b1-5c1c-4433-b480-db261a064ed4",
        "colab": {
          "base_uri": "https://localhost:8080/"
        }
      },
      "source": [
        "#Correlation between \"vote_average\" and \"runtime\"\n",
        "sns.jointplot(x='runtime', y='vote_average', data=df, kind='kde').annotate(pearsonr)"
      ],
      "execution_count": 0,
      "outputs": [
        {
          "output_type": "stream",
          "text": [
            "/usr/local/lib/python3.6/dist-packages/seaborn/axisgrid.py:1848: UserWarning: JointGrid annotation is deprecated and will be removed in a future release.\n",
            "  warnings.warn(UserWarning(msg))\n"
          ],
          "name": "stderr"
        },
        {
          "output_type": "execute_result",
          "data": {
            "text/plain": [
              "<seaborn.axisgrid.JointGrid at 0x7fac57742d30>"
            ]
          },
          "metadata": {
            "tags": []
          },
          "execution_count": 22
        },
        {
          "output_type": "display_data",
          "data": {
            "image/png": "[encoded data removed]",
            "text/plain": [
              "<Figure size 432x432 with 3 Axes>"
            ]
          },
          "metadata": {
            "tags": [],
            "needs_background": "light"
          }
        }
      ]
    },
    {
      "cell_type": "code",
      "metadata": {
        "id": "MxhfIhHrw1U1",
        "colab_type": "code",
        "outputId": "60ef5b64-2c09-4916-e87d-2c5d1ce1e6a0",
        "colab": {
          "base_uri": "https://localhost:8080/"
        }
      },
      "source": [
        "#Correlation between \"vote_average\" and \"vote_count\"\n",
        "sns.jointplot(x='vote_count', y='vote_average', data=df, kind='kde').annotate(pearsonr)"
      ],
      "execution_count": 0,
      "outputs": [
        {
          "output_type": "stream",
          "text": [
            "/usr/local/lib/python3.6/dist-packages/seaborn/axisgrid.py:1848: UserWarning: JointGrid annotation is deprecated and will be removed in a future release.\n",
            "  warnings.warn(UserWarning(msg))\n"
          ],
          "name": "stderr"
        },
        {
          "output_type": "execute_result",
          "data": {
            "text/plain": [
              "<seaborn.axisgrid.JointGrid at 0x7fac577f0588>"
            ]
          },
          "metadata": {
            "tags": []
          },
          "execution_count": 23
        },
        {
          "output_type": "display_data",
          "data": {
            "image/png": "[encoded data removed]",
            "text/plain": [
              "<Figure size 432x432 with 3 Axes>"
            ]
          },
          "metadata": {
            "tags": [],
            "needs_background": "light"
          }
        }
      ]
    },
    {
      "cell_type": "markdown",
      "metadata": {
        "id": "Z8GE8eLO41Mu",
        "colab_type": "text"
      },
      "source": [
        "The variables \"runtime\" and \"vote_count\" are the most correlated with \"vote_average\", but not that much."
      ]
    },
    {
      "cell_type": "code",
      "metadata": {
        "id": "_ZUmkRWzvg_B",
        "colab_type": "code",
        "outputId": "7705c8e3-eb4d-400f-c105-39d4d9c2e28e",
        "colab": {
          "base_uri": "https://localhost:8080/"
        }
      },
      "source": [
        "#We count missing values per column in order to understand which variables we are going to use \n",
        "df.isnull().sum(axis=0)"
      ],
      "execution_count": 0,
      "outputs": [
        {
          "output_type": "execute_result",
          "data": {
            "text/plain": [
              "adult                       0\n",
              "belongs_to_collection    2036\n",
              "budget                      0\n",
              "genres                      0\n",
              "homepage                 1576\n",
              "id                          0\n",
              "imdb_id                     0\n",
              "original_language           0\n",
              "original_title              0\n",
              "overview                    0\n",
              "popularity                  0\n",
              "poster_path                 0\n",
              "production_companies        0\n",
              "production_countries        0\n",
              "release_date                0\n",
              "revenue                     0\n",
              "runtime                     0\n",
              "spoken_languages            0\n",
              "status                      0\n",
              "tagline                   290\n",
              "title                       0\n",
              "video                       0\n",
              "vote_average                0\n",
              "vote_count                  0\n",
              "dtype: int64"
            ]
          },
          "metadata": {
            "tags": []
          },
          "execution_count": 24
        }
      ]
    },
    {
      "cell_type": "markdown",
      "metadata": {
        "id": "OcRzLBuoITcE",
        "colab_type": "text"
      },
      "source": [
        "Now let's study the \"genres\" variable, which can be a good explainatory variable :\n"
      ]
    },
    {
      "cell_type": "code",
      "metadata": {
        "id": "2RjryzLmIywO",
        "colab_type": "code",
        "outputId": "2ab0a216-d0d9-40a2-fd2c-5bba82e7208e",
        "colab": {
          "base_uri": "https://localhost:8080/",
          "height": 35
        }
      },
      "source": [
        "#Number of different genres (including combinasions)\n",
        "print(len(df.genres.unique()))"
      ],
      "execution_count": 0,
      "outputs": [
        {
          "output_type": "stream",
          "text": [
            "804\n"
          ],
          "name": "stdout"
        }
      ]
    },
    {
      "cell_type": "markdown",
      "metadata": {
        "id": "lqkeNb2kOd8W",
        "colab_type": "text"
      },
      "source": [
        "We get a high number of \"genres\" as each movie can belongs to several \"genres\" (Drama and romance for example). We are going to fix this problem. "
      ]
    },
    {
      "cell_type": "code",
      "metadata": {
        "id": "PhAlaCrvtSA5",
        "colab_type": "code",
        "colab": {}
      },
      "source": [
        "#We are now going to separate the genres that are in a dictionnary applying literal_eval\n",
        "\n",
        "from ast import literal_eval\n",
        "\n",
        "df_genres = df.copy()\n",
        "df_genres['genres'] = df_genres['genres'].fillna('[]')\n",
        "df_genres['genres'] = df_genres['genres'].apply(literal_eval)\n",
        "df_genres['genres'] = df_genres['genres'].apply(lambda x: [i['name'] for i in x] if isinstance(x, list) else [])\n"
      ],
      "execution_count": 0,
      "outputs": []
    },
    {
      "cell_type": "code",
      "metadata": {
        "id": "C8CKUHUM20Kg",
        "colab_type": "code",
        "outputId": "2bd662a0-596d-450b-ce48-9c0cd60beeef",
        "colab": {
          "base_uri": "https://localhost:8080/",
          "height": 662
        }
      },
      "source": [
        "#For the data analysis, we are going to create a new dataframe with one row per genre per movie (so a movie with more than one genre is going to appear more than one time)\n",
        "\n",
        "g = df_genres.apply(lambda x: pd.Series(x['genres']),axis=1).stack().reset_index(level=1, drop=True)\n",
        "g.name = 'genre'\n",
        "df_genre_solo = df_genres.drop('genres', axis=1).join(g)\n",
        "\n",
        "df_genre_solo.head(5)"
      ],
      "execution_count": 0,
      "outputs": [
        {
          "output_type": "stream",
          "text": [
            "/usr/local/lib/python3.6/dist-packages/ipykernel_launcher.py:2: DeprecationWarning: The default dtype for empty Series will be 'object' instead of 'float64' in a future version. Specify a dtype explicitly to silence this warning.\n",
            "  \n"
          ],
          "name": "stderr"
        },
        {
          "output_type": "execute_result",
          "data": {
            "text/html": [
              "<div>\n",
              "<style scoped>\n",
              "    .dataframe tbody tr th:only-of-type {\n",
              "        vertical-align: middle;\n",
              "    }\n",
              "\n",
              "    .dataframe tbody tr th {\n",
              "        vertical-align: top;\n",
              "    }\n",
              "\n",
              "    .dataframe thead th {\n",
              "        text-align: right;\n",
              "    }\n",
              "</style>\n",
              "<table border=\"1\" class=\"dataframe\">\n",
              "  <thead>\n",
              "    <tr style=\"text-align: right;\">\n",
              "      <th></th>\n",
              "      <th>adult</th>\n",
              "      <th>belongs_to_collection</th>\n",
              "      <th>budget</th>\n",
              "      <th>homepage</th>\n",
              "      <th>id</th>\n",
              "      <th>imdb_id</th>\n",
              "      <th>original_language</th>\n",
              "      <th>original_title</th>\n",
              "      <th>overview</th>\n",
              "      <th>popularity</th>\n",
              "      <th>poster_path</th>\n",
              "      <th>production_companies</th>\n",
              "      <th>production_countries</th>\n",
              "      <th>release_date</th>\n",
              "      <th>revenue</th>\n",
              "      <th>runtime</th>\n",
              "      <th>spoken_languages</th>\n",
              "      <th>status</th>\n",
              "      <th>tagline</th>\n",
              "      <th>title</th>\n",
              "      <th>video</th>\n",
              "      <th>vote_average</th>\n",
              "      <th>vote_count</th>\n",
              "      <th>genre</th>\n",
              "    </tr>\n",
              "  </thead>\n",
              "  <tbody>\n",
              "    <tr>\n",
              "      <th>0</th>\n",
              "      <td>False</td>\n",
              "      <td>{'id': 10194, 'name': 'Toy Story Collection', ...</td>\n",
              "      <td>30000000</td>\n",
              "      <td>http://toystory.disney.com/toy-story</td>\n",
              "      <td>862</td>\n",
              "      <td>tt0114709</td>\n",
              "      <td>en</td>\n",
              "      <td>Toy Story</td>\n",
              "      <td>Led by Woody, Andy's toys live happily in his ...</td>\n",
              "      <td>21.946943</td>\n",
              "      <td>/rhIRbceoE9lR4veEXuwCC2wARtG.jpg</td>\n",
              "      <td>[{'name': 'Pixar Animation Studios', 'id': 3}]</td>\n",
              "      <td>[{'iso_3166_1': 'US', 'name': 'United States o...</td>\n",
              "      <td>1995-10-30</td>\n",
              "      <td>373554033.0</td>\n",
              "      <td>81.0</td>\n",
              "      <td>[{'iso_639_1': 'en', 'name': 'English'}]</td>\n",
              "      <td>Released</td>\n",
              "      <td>NaN</td>\n",
              "      <td>Toy Story</td>\n",
              "      <td>False</td>\n",
              "      <td>7.7</td>\n",
              "      <td>5415.0</td>\n",
              "      <td>Animation</td>\n",
              "    </tr>\n",
              "    <tr>\n",
              "      <th>0</th>\n",
              "      <td>False</td>\n",
              "      <td>{'id': 10194, 'name': 'Toy Story Collection', ...</td>\n",
              "      <td>30000000</td>\n",
              "      <td>http://toystory.disney.com/toy-story</td>\n",
              "      <td>862</td>\n",
              "      <td>tt0114709</td>\n",
              "      <td>en</td>\n",
              "      <td>Toy Story</td>\n",
              "      <td>Led by Woody, Andy's toys live happily in his ...</td>\n",
              "      <td>21.946943</td>\n",
              "      <td>/rhIRbceoE9lR4veEXuwCC2wARtG.jpg</td>\n",
              "      <td>[{'name': 'Pixar Animation Studios', 'id': 3}]</td>\n",
              "      <td>[{'iso_3166_1': 'US', 'name': 'United States o...</td>\n",
              "      <td>1995-10-30</td>\n",
              "      <td>373554033.0</td>\n",
              "      <td>81.0</td>\n",
              "      <td>[{'iso_639_1': 'en', 'name': 'English'}]</td>\n",
              "      <td>Released</td>\n",
              "      <td>NaN</td>\n",
              "      <td>Toy Story</td>\n",
              "      <td>False</td>\n",
              "      <td>7.7</td>\n",
              "      <td>5415.0</td>\n",
              "      <td>Comedy</td>\n",
              "    </tr>\n",
              "    <tr>\n",
              "      <th>0</th>\n",
              "      <td>False</td>\n",
              "      <td>{'id': 10194, 'name': 'Toy Story Collection', ...</td>\n",
              "      <td>30000000</td>\n",
              "      <td>http://toystory.disney.com/toy-story</td>\n",
              "      <td>862</td>\n",
              "      <td>tt0114709</td>\n",
              "      <td>en</td>\n",
              "      <td>Toy Story</td>\n",
              "      <td>Led by Woody, Andy's toys live happily in his ...</td>\n",
              "      <td>21.946943</td>\n",
              "      <td>/rhIRbceoE9lR4veEXuwCC2wARtG.jpg</td>\n",
              "      <td>[{'name': 'Pixar Animation Studios', 'id': 3}]</td>\n",
              "      <td>[{'iso_3166_1': 'US', 'name': 'United States o...</td>\n",
              "      <td>1995-10-30</td>\n",
              "      <td>373554033.0</td>\n",
              "      <td>81.0</td>\n",
              "      <td>[{'iso_639_1': 'en', 'name': 'English'}]</td>\n",
              "      <td>Released</td>\n",
              "      <td>NaN</td>\n",
              "      <td>Toy Story</td>\n",
              "      <td>False</td>\n",
              "      <td>7.7</td>\n",
              "      <td>5415.0</td>\n",
              "      <td>Family</td>\n",
              "    </tr>\n",
              "    <tr>\n",
              "      <th>1</th>\n",
              "      <td>False</td>\n",
              "      <td>NaN</td>\n",
              "      <td>60000000</td>\n",
              "      <td>NaN</td>\n",
              "      <td>949</td>\n",
              "      <td>tt0113277</td>\n",
              "      <td>en</td>\n",
              "      <td>Heat</td>\n",
              "      <td>Obsessive master thief, Neil McCauley leads a ...</td>\n",
              "      <td>17.924927</td>\n",
              "      <td>/zMyfPUelumio3tiDKPffaUpsQTD.jpg</td>\n",
              "      <td>[{'name': 'Regency Enterprises', 'id': 508}, {...</td>\n",
              "      <td>[{'iso_3166_1': 'US', 'name': 'United States o...</td>\n",
              "      <td>1995-12-15</td>\n",
              "      <td>187436818.0</td>\n",
              "      <td>170.0</td>\n",
              "      <td>[{'iso_639_1': 'en', 'name': 'English'}, {'iso...</td>\n",
              "      <td>Released</td>\n",
              "      <td>A Los Angeles Crime Saga</td>\n",
              "      <td>Heat</td>\n",
              "      <td>False</td>\n",
              "      <td>7.7</td>\n",
              "      <td>1886.0</td>\n",
              "      <td>Action</td>\n",
              "    </tr>\n",
              "    <tr>\n",
              "      <th>1</th>\n",
              "      <td>False</td>\n",
              "      <td>NaN</td>\n",
              "      <td>60000000</td>\n",
              "      <td>NaN</td>\n",
              "      <td>949</td>\n",
              "      <td>tt0113277</td>\n",
              "      <td>en</td>\n",
              "      <td>Heat</td>\n",
              "      <td>Obsessive master thief, Neil McCauley leads a ...</td>\n",
              "      <td>17.924927</td>\n",
              "      <td>/zMyfPUelumio3tiDKPffaUpsQTD.jpg</td>\n",
              "      <td>[{'name': 'Regency Enterprises', 'id': 508}, {...</td>\n",
              "      <td>[{'iso_3166_1': 'US', 'name': 'United States o...</td>\n",
              "      <td>1995-12-15</td>\n",
              "      <td>187436818.0</td>\n",
              "      <td>170.0</td>\n",
              "      <td>[{'iso_639_1': 'en', 'name': 'English'}, {'iso...</td>\n",
              "      <td>Released</td>\n",
              "      <td>A Los Angeles Crime Saga</td>\n",
              "      <td>Heat</td>\n",
              "      <td>False</td>\n",
              "      <td>7.7</td>\n",
              "      <td>1886.0</td>\n",
              "      <td>Crime</td>\n",
              "    </tr>\n",
              "  </tbody>\n",
              "</table>\n",
              "</div>"
            ],
            "text/plain": [
              "   adult  ...      genre\n",
              "0  False  ...  Animation\n",
              "0  False  ...     Comedy\n",
              "0  False  ...     Family\n",
              "1  False  ...     Action\n",
              "1  False  ...      Crime\n",
              "\n",
              "[5 rows x 24 columns]"
            ]
          },
          "metadata": {
            "tags": []
          },
          "execution_count": 19
        }
      ]
    },
    {
      "cell_type": "code",
      "metadata": {
        "id": "UQ0B3glEGQRw",
        "colab_type": "code",
        "outputId": "3b4a97c4-79c9-498c-e766-7e0d222d2ce3",
        "colab": {
          "base_uri": "https://localhost:8080/",
          "height": 35
        }
      },
      "source": [
        "#Number of different genres\n",
        "print(len(df_genre_solo.genre.unique()))"
      ],
      "execution_count": 0,
      "outputs": [
        {
          "output_type": "stream",
          "text": [
            "20\n"
          ],
          "name": "stdout"
        }
      ]
    },
    {
      "cell_type": "code",
      "metadata": {
        "id": "Cp8JfDir3w4L",
        "colab_type": "code",
        "outputId": "409b5c11-6f52-48e9-f685-e8311ac661e9",
        "colab": {
          "base_uri": "https://localhost:8080/",
          "height": 567
        }
      },
      "source": [
        "#We plot the occurences per genres in order to see which are the most represented\n",
        "genre_count = df_genre_solo['genre'].value_counts().sort_index()\n",
        "df_genre_count = pd.DataFrame({'genre': genre_count.index, 'count': genre_count.values})\n",
        "f, ax = plt.subplots(figsize=(23, 9))\n",
        "sns.barplot(x = 'count', y = 'genre', data=df_genre_count)\n",
        "ax.set_title('Occurences per genre :')\n",
        "ax.set_xlabel('Occurrences')\n",
        "ax.set_ylabel('Genres')\n",
        "plt.show()"
      ],
      "execution_count": 0,
      "outputs": [
        {
          "output_type": "display_data",
          "data": {
            "image/png": "[encoded data removed]",
            "text/plain": [
              "<Figure size 1656x648 with 1 Axes>"
            ]
          },
          "metadata": {
            "tags": [],
            "needs_background": "light"
          }
        }
      ]
    },
    {
      "cell_type": "markdown",
      "metadata": {
        "id": "WgU5WE9KF_Gu",
        "colab_type": "text"
      },
      "source": [
        "We can see that some genres are more represented that other ones. "
      ]
    },
    {
      "cell_type": "markdown",
      "metadata": {
        "id": "2Zrg6y_AdZYP",
        "colab_type": "text"
      },
      "source": [
        "We can also study the original language : "
      ]
    },
    {
      "cell_type": "code",
      "metadata": {
        "id": "Jg0nhh5RmWW4",
        "colab_type": "code",
        "outputId": "e0578712-4fc2-4a2b-87a0-eb1e64bd5521",
        "colab": {
          "base_uri": "https://localhost:8080/",
          "height": 567
        }
      },
      "source": [
        "language_count = df['original_language'].value_counts().sort_index()\n",
        "df_language_count = pd.DataFrame({'language': language_count.index[3:], 'count': language_count.values[3:]})\n",
        "f, ax = plt.subplots(figsize=(23, 9))\n",
        "sns.barplot(x = 'count', y = 'language', data=df_language_count)\n",
        "ax.set_title('Occurences per language :')\n",
        "ax.set_xlabel('Occurrences')\n",
        "ax.set_ylabel('Languages')\n",
        "plt.show()"
      ],
      "execution_count": 0,
      "outputs": [
        {
          "output_type": "display_data",
          "data": {
            "image/png": "[encoded data removed]",
            "text/plain": [
              "<Figure size 1656x648 with 1 Axes>"
            ]
          },
          "metadata": {
            "tags": [],
            "needs_background": "light"
          }
        }
      ]
    },
    {
      "cell_type": "markdown",
      "metadata": {
        "id": "-Z7GQ-3UoNYT",
        "colab_type": "text"
      },
      "source": [
        "As expected, most movies are english films. There is still a significant number of french movies. And therefore in order to have consistent classes of original languages, we will just use the 2 most represented languages : english and french."
      ]
    },
    {
      "cell_type": "markdown",
      "metadata": {
        "id": "-caIskyiJUCk",
        "colab_type": "text"
      },
      "source": [
        "Now let's visualize the length of the \"overview\" variable : "
      ]
    },
    {
      "cell_type": "code",
      "metadata": {
        "id": "IM3t8f5UJGEb",
        "colab_type": "code",
        "outputId": "233a4db6-11e6-434a-ab81-9938ee6b85ee",
        "colab": {
          "base_uri": "https://localhost:8080/"
        }
      },
      "source": [
        "# Length of overviews in characters\n",
        "df.overview =df.overview.apply(str) \n",
        "print(\"Mean Length of overviews :\", df.overview.drop_duplicates().apply(len).mean())\n",
        "#Distribution of overview's lenght\n",
        "sns.distplot(df.overview.drop_duplicates().apply(len), bins=50, kde=False, color='darkturquoise')"
      ],
      "execution_count": 0,
      "outputs": [
        {
          "output_type": "stream",
          "text": [
            "Mean Length of overviews : 295.10249621785175\n"
          ],
          "name": "stdout"
        },
        {
          "output_type": "execute_result",
          "data": {
            "text/plain": [
              "<matplotlib.axes._subplots.AxesSubplot at 0x7fac536ad4e0>"
            ]
          },
          "metadata": {
            "tags": []
          },
          "execution_count": 31
        },
        {
          "output_type": "display_data",
          "data": {
            "image/png": "[encoded data removed]",
            "text/plain": [
              "<Figure size 432x288 with 1 Axes>"
            ]
          },
          "metadata": {
            "tags": [],
            "needs_background": "light"
          }
        }
      ]
    },
    {
      "cell_type": "markdown",
      "metadata": {
        "id": "n-bxrLV6wqyr",
        "colab_type": "text"
      },
      "source": [
        "The mean length of the overviews is of 295 characters, which is not that much. That is why we are going to use Amazon reviews for Sentiment Analysis. "
      ]
    },
    {
      "cell_type": "markdown",
      "metadata": {
        "id": "3og5wkr4ySB3",
        "colab_type": "text"
      },
      "source": [
        "#### **Import of the Amazon reviews**"
      ]
    },
    {
      "cell_type": "markdown",
      "metadata": {
        "id": "yvwgIXDaz16Z",
        "colab_type": "text"
      },
      "source": [
        "We use the Amazon review data for Movies and TV (3 millions of written movie reviews : http://deepyeti.uscd.edu/jianmo/amazon/index.html). \n",
        "\n",
        "As this database is huge, we focus on the reviews of the IMBD movies with more than 100 votes. This correspond to about 90 000 reviews for 800 different films. \n",
        "This database have been saved in a csv file that we can download from the GitHub of our project. "
      ]
    },
    {
      "cell_type": "code",
      "metadata": {
        "id": "rwGhfaYcz2nO",
        "colab_type": "code",
        "outputId": "d5e51d80-5e46-4c2f-9ae7-0eeb17b8143f",
        "colab": {
          "base_uri": "https://localhost:8080/",
          "height": 225
        }
      },
      "source": [
        "#Importation of the database of the movies with Amazon reviews\n",
        "\n",
        "r = requests.get('https://github.com/Margauxxxxxxx/NLP_Project/blob/master/Amazon_reviews_IMBD.zip?raw=true' ) \n",
        "z = zipfile.ZipFile(io.BytesIO(r.content))\n",
        "z = z.extractall()\n",
        "\n",
        "df_amazon = pd.read_csv('Amazon_reviews_IMBD.csv', engine='python')\n",
        "df_amazon.rename(columns = {'reviewText':'comment'}, inplace = True)\n",
        "df_amazon['label']=[0]*df_amazon.shape[0] #To be determined by NLP\n",
        "\n",
        "s = 'The database has {:,} rows and {:,} columns'\n",
        "print(s.format(df_amazon.shape[0], df_amazon.shape[1]))\n",
        "df_amazon.head(5)"
      ],
      "execution_count": 0,
      "outputs": [
        {
          "output_type": "stream",
          "text": [
            "The database has 90,855 rows and 5 columns\n"
          ],
          "name": "stdout"
        },
        {
          "output_type": "execute_result",
          "data": {
            "text/html": [
              "<div>\n",
              "<style scoped>\n",
              "    .dataframe tbody tr th:only-of-type {\n",
              "        vertical-align: middle;\n",
              "    }\n",
              "\n",
              "    .dataframe tbody tr th {\n",
              "        vertical-align: top;\n",
              "    }\n",
              "\n",
              "    .dataframe thead th {\n",
              "        text-align: right;\n",
              "    }\n",
              "</style>\n",
              "<table border=\"1\" class=\"dataframe\">\n",
              "  <thead>\n",
              "    <tr style=\"text-align: right;\">\n",
              "      <th></th>\n",
              "      <th>overall</th>\n",
              "      <th>asin</th>\n",
              "      <th>comment</th>\n",
              "      <th>title</th>\n",
              "      <th>label</th>\n",
              "    </tr>\n",
              "  </thead>\n",
              "  <tbody>\n",
              "    <tr>\n",
              "      <th>0</th>\n",
              "      <td>5.0</td>\n",
              "      <td>0005089549</td>\n",
              "      <td>So sorry I didn't purchase this years ago when...</td>\n",
              "      <td>I.Q.</td>\n",
              "      <td>0</td>\n",
              "    </tr>\n",
              "    <tr>\n",
              "      <th>1</th>\n",
              "      <td>5.0</td>\n",
              "      <td>0005089549</td>\n",
              "      <td>Believe me when I tell you that you will recei...</td>\n",
              "      <td>I.Q.</td>\n",
              "      <td>0</td>\n",
              "    </tr>\n",
              "    <tr>\n",
              "      <th>2</th>\n",
              "      <td>2.0</td>\n",
              "      <td>0005089549</td>\n",
              "      <td>NOt a great tape but the quality is good and f...</td>\n",
              "      <td>I.Q.</td>\n",
              "      <td>0</td>\n",
              "    </tr>\n",
              "    <tr>\n",
              "      <th>3</th>\n",
              "      <td>5.0</td>\n",
              "      <td>0005089549</td>\n",
              "      <td>It met all of my expectations.  I was well sat...</td>\n",
              "      <td>I.Q.</td>\n",
              "      <td>0</td>\n",
              "    </tr>\n",
              "    <tr>\n",
              "      <th>4</th>\n",
              "      <td>5.0</td>\n",
              "      <td>000503860X</td>\n",
              "      <td>I have seen X live many times, both in the ear...</td>\n",
              "      <td>Junior</td>\n",
              "      <td>0</td>\n",
              "    </tr>\n",
              "  </tbody>\n",
              "</table>\n",
              "</div>"
            ],
            "text/plain": [
              "   overall        asin  ...   title label\n",
              "0      5.0  0005089549  ...    I.Q.     0\n",
              "1      5.0  0005089549  ...    I.Q.     0\n",
              "2      2.0  0005089549  ...    I.Q.     0\n",
              "3      5.0  0005089549  ...    I.Q.     0\n",
              "4      5.0  000503860X  ...  Junior     0\n",
              "\n",
              "[5 rows x 5 columns]"
            ]
          },
          "metadata": {
            "tags": []
          },
          "execution_count": 5
        }
      ]
    },
    {
      "cell_type": "markdown",
      "metadata": {
        "id": "tb158u-2FiQN",
        "colab_type": "text"
      },
      "source": [
        "Descriptive statistics of the Amazon reviews database :"
      ]
    },
    {
      "cell_type": "code",
      "metadata": {
        "id": "mH10v0gsE90Q",
        "colab_type": "code",
        "outputId": "e8ef4da8-3d90-47a0-9052-1ad2b911be20",
        "colab": {
          "base_uri": "https://localhost:8080/",
          "height": 298
        }
      },
      "source": [
        "#Plot of the \"overall\" variable of the Amazon reviews database\n",
        "#Overall correspond to note given by the client to the product\n",
        "sns.distplot(df_amazon.overall, kde=False, color='darkturquoise')"
      ],
      "execution_count": 0,
      "outputs": [
        {
          "output_type": "execute_result",
          "data": {
            "text/plain": [
              "<matplotlib.axes._subplots.AxesSubplot at 0x7f0983440ba8>"
            ]
          },
          "metadata": {
            "tags": []
          },
          "execution_count": 6
        },
        {
          "output_type": "display_data",
          "data": {
            "image/png": "[encoded data removed]",
            "text/plain": [
              "<Figure size 432x288 with 1 Axes>"
            ]
          },
          "metadata": {
            "tags": [],
            "needs_background": "light"
          }
        }
      ]
    },
    {
      "cell_type": "markdown",
      "metadata": {
        "id": "8ZxgtoP_Qq1_",
        "colab_type": "text"
      },
      "source": [
        "As explained in our report, we use another base to train our NLP models. This database contains 50 000 written film reviews already tagged. "
      ]
    },
    {
      "cell_type": "markdown",
      "metadata": {
        "id": "LGHEcQq74BBF",
        "colab_type": "text"
      },
      "source": [
        "We download from GitHub the data that we use to train and choose the best Sentiment Analysis model. Large Movie Review Dataset (https://ai.stanford.edu/~amaas/data/sentiment/): 50000 written movie reviews labelled (positive/negative)"
      ]
    },
    {
      "cell_type": "code",
      "metadata": {
        "id": "xGlbRNYA4CwM",
        "colab_type": "code",
        "outputId": "d80b1f66-15a1-4099-9e90-01e2679ff146",
        "colab": {
          "base_uri": "https://localhost:8080/",
          "height": 206
        }
      },
      "source": [
        "#Data use to train and choose the model\n",
        "#Data already tagged\n",
        "#50 000 film overviews\n",
        "df1=pd.read_csv('https://github.com/Margauxxxxxxx/NLP_Project/blob/master/test_neg.csv?raw=true',engine='python')\n",
        "df2=pd.read_csv('https://github.com/Margauxxxxxxx/NLP_Project/blob/master/test_pos.csv?raw=true',engine='python')\n",
        "df3=pd.read_csv('https://github.com/Margauxxxxxxx/NLP_Project/blob/master/train_neg.csv?raw=true',engine='python')\n",
        "df4=pd.read_csv('https://github.com/Margauxxxxxxx/NLP_Project/blob/master/train_pos.csv?raw=true',engine='python')\n",
        "\n",
        "df_tagged=pd.concat([df1,df4,df3,df2],axis=0)\n",
        "df_tagged['label']=12500*[0]+12500*[1]+12500*[0]+12500*[1]\n",
        "df_tagged.reset_index(drop=True, inplace=True)\n",
        "df_tagged.head()"
      ],
      "execution_count": 0,
      "outputs": [
        {
          "output_type": "execute_result",
          "data": {
            "text/html": [
              "<div>\n",
              "<style scoped>\n",
              "    .dataframe tbody tr th:only-of-type {\n",
              "        vertical-align: middle;\n",
              "    }\n",
              "\n",
              "    .dataframe tbody tr th {\n",
              "        vertical-align: top;\n",
              "    }\n",
              "\n",
              "    .dataframe thead th {\n",
              "        text-align: right;\n",
              "    }\n",
              "</style>\n",
              "<table border=\"1\" class=\"dataframe\">\n",
              "  <thead>\n",
              "    <tr style=\"text-align: right;\">\n",
              "      <th></th>\n",
              "      <th>comment</th>\n",
              "      <th>id</th>\n",
              "      <th>label</th>\n",
              "    </tr>\n",
              "  </thead>\n",
              "  <tbody>\n",
              "    <tr>\n",
              "      <th>0</th>\n",
              "      <td>Once again Mr. Costner has dragged out a movie...</td>\n",
              "      <td>tt0406816</td>\n",
              "      <td>0</td>\n",
              "    </tr>\n",
              "    <tr>\n",
              "      <th>1</th>\n",
              "      <td>This is a pale imitation of 'Officer and a Gen...</td>\n",
              "      <td>tt0406816</td>\n",
              "      <td>0</td>\n",
              "    </tr>\n",
              "    <tr>\n",
              "      <th>2</th>\n",
              "      <td>It seems ever since 1982, about every two or t...</td>\n",
              "      <td>tt0406816</td>\n",
              "      <td>0</td>\n",
              "    </tr>\n",
              "    <tr>\n",
              "      <th>3</th>\n",
              "      <td>Wow, another Kevin Costner hero movie. Postman...</td>\n",
              "      <td>tt0406816</td>\n",
              "      <td>0</td>\n",
              "    </tr>\n",
              "    <tr>\n",
              "      <th>4</th>\n",
              "      <td>Alas, another Costner movie that was an hour t...</td>\n",
              "      <td>tt0406816</td>\n",
              "      <td>0</td>\n",
              "    </tr>\n",
              "  </tbody>\n",
              "</table>\n",
              "</div>"
            ],
            "text/plain": [
              "                                             comment         id  label\n",
              "0  Once again Mr. Costner has dragged out a movie...  tt0406816      0\n",
              "1  This is a pale imitation of 'Officer and a Gen...  tt0406816      0\n",
              "2  It seems ever since 1982, about every two or t...  tt0406816      0\n",
              "3  Wow, another Kevin Costner hero movie. Postman...  tt0406816      0\n",
              "4  Alas, another Costner movie that was an hour t...  tt0406816      0"
            ]
          },
          "metadata": {
            "tags": []
          },
          "execution_count": 7
        }
      ]
    },
    {
      "cell_type": "markdown",
      "metadata": {
        "id": "Jv7cLvTeXcz7",
        "colab_type": "text"
      },
      "source": [
        "### **II - Sentiment Analysis : predicting the polarity of Amazon reviews**"
      ]
    },
    {
      "cell_type": "markdown",
      "metadata": {
        "id": "N1nVRybuLlPx",
        "colab_type": "text"
      },
      "source": [
        "We are using two different approaches : one using Word2Vec as a word embedding technique and a second one using the pretrained model of BERT. "
      ]
    },
    {
      "cell_type": "code",
      "metadata": {
        "id": "oDdvpk1rXG7b",
        "colab_type": "code",
        "colab": {}
      },
      "source": [
        "#Model are trained on tagged movie overviews\n",
        "#Split train/validation/test sets\n",
        "#We use 35 000 reviews to train our models, 7500 to evaluate them and another 7500 to choose the best model. \n",
        "train_set,val_set= train_test_split(df_tagged,test_size=0.3, random_state=42)\n",
        "test_set,val_set= train_test_split(val_set,test_size=0.5, random_state=42)\n",
        "train_set.reset_index(inplace=True)\n",
        "val_set.reset_index(inplace=True)\n",
        "test_set.reset_index(inplace=True)"
      ],
      "execution_count": 0,
      "outputs": []
    },
    {
      "cell_type": "markdown",
      "metadata": {
        "id": "7BYeJbwbY-wr",
        "colab_type": "text"
      },
      "source": [
        "#####**Word2Vec Approach**"
      ]
    },
    {
      "cell_type": "markdown",
      "metadata": {
        "id": "tRcnFX5TR8vb",
        "colab_type": "text"
      },
      "source": [
        "We use Word2Vec as an embedding technique and then use machine learning on the vectors created to predict the polarity of the reviews"
      ]
    },
    {
      "cell_type": "markdown",
      "metadata": {
        "id": "NJsqmI0Vak0q",
        "colab_type": "text"
      },
      "source": [
        "Data preprocessing :\n",
        "\n",
        "We start the data preprocessing by cleaning the text. Our cleaning functions include a function to lowercase, one remove the html characters, one remove frequent stop words (of, the...) and finally another to remove special characters like \"\". "
      ]
    },
    {
      "cell_type": "code",
      "metadata": {
        "id": "J1eVsDk6avq1",
        "colab_type": "code",
        "outputId": "3330f594-a54d-44cd-86a5-eb7052e460c5",
        "colab": {
          "base_uri": "https://localhost:8080/",
          "height": 92
        }
      },
      "source": [
        "#Cleaning functions\n",
        "import html\n",
        "import nltk\n",
        "nltk.download('stopwords')\n",
        "nltk.download('punkt')\n",
        "from nltk.corpus import stopwords\n",
        "from nltk.tokenize import word_tokenize \n",
        "\n",
        "def lowercase(tokens):\n",
        "    tokens = list(map(lambda x: x.lower(), tokens))\n",
        "    return ''.join(list(tokens))\n",
        "\n",
        "def remove_html(tokens):\n",
        "    return html.unescape(tokens)\n",
        "\n",
        "def remove_stop_words(tokens):\n",
        "    stop_words = set(stopwords.words('english')) \n",
        "    tokens = word_tokenize(tokens) \n",
        "    filtered_sentence = [w for w in tokens if not w in stop_words] \n",
        "    return ' '.join(filtered_sentence)\n",
        "\n",
        "special=r\"\\&\\#[0-9]+\\;''``\"\n",
        "def remove_special_characters(tokens):\n",
        "    tokens = word_tokenize(tokens) \n",
        "    filtered_sentence = [w for w in tokens if not w in special] \n",
        "    return ' '.join(filtered_sentence)"
      ],
      "execution_count": 0,
      "outputs": [
        {
          "output_type": "stream",
          "text": [
            "[nltk_data] Downloading package stopwords to /root/nltk_data...\n",
            "[nltk_data]   Unzipping corpora/stopwords.zip.\n",
            "[nltk_data] Downloading package punkt to /root/nltk_data...\n",
            "[nltk_data]   Unzipping tokenizers/punkt.zip.\n"
          ],
          "name": "stdout"
        }
      ]
    },
    {
      "cell_type": "code",
      "metadata": {
        "id": "mobLXFkna2_l",
        "colab_type": "code",
        "outputId": "946c593f-8979-4251-a54a-4072f77d0ff5",
        "colab": {
          "base_uri": "https://localhost:8080/",
          "height": 92
        }
      },
      "source": [
        "#Example\n",
        "example=lowercase(df_tagged.comment[12342])\n",
        "example=remove_html(example)\n",
        "example=remove_stop_words(example)\n",
        "example=remove_special_characters(example)\n",
        "print('TEXTE ORIGINAL :',df_tagged.comment[12342],'\\n')\n",
        "print('TEXTE NETTOYE :',example)"
      ],
      "execution_count": 0,
      "outputs": [
        {
          "output_type": "stream",
          "text": [
            "TEXTE ORIGINAL : This is the worst movie I have ever seen in my entire life. Unless you're into masochism, never see it. It was an insufferably long, pointless, eye-harming, depressing movie and will forever top my list of bad movies. Whoever wrote this movie is a sadist. I almost cried at the end, that's how bad it was. I'd like to give it zero stars, but since that's not an option, I give it one. \n",
            "\n",
            "TEXTE NETTOYE : worst movie ever seen entire life . unless 're masochism , never see . insufferably long , pointless , eye-harming , depressing movie forever top list bad movies . whoever wrote movie sadist . almost cried end , 's bad . 'd like give zero stars , since 's option , give one .\n"
          ],
          "name": "stdout"
        }
      ]
    },
    {
      "cell_type": "markdown",
      "metadata": {
        "id": "cUbmcTcBbUeT",
        "colab_type": "text"
      },
      "source": [
        "We now lemmatize and tokenize the text. "
      ]
    },
    {
      "cell_type": "code",
      "metadata": {
        "id": "5FFDMwCwbFT6",
        "colab_type": "code",
        "outputId": "f6a759bc-64e0-42c6-8a2f-3d0e6dc01b6a",
        "colab": {
          "base_uri": "https://localhost:8080/",
          "height": 111
        }
      },
      "source": [
        "#Lemmatizing and tokenizing\n",
        "\n",
        "nltk.download('wordnet')\n",
        "nltk.download('averaged_perceptron_tagger')\n",
        "from nltk import pos_tag\n",
        "from nltk.stem import WordNetLemmatizer\n",
        "wordnet_lemmatizer = WordNetLemmatizer()\n",
        "\n",
        "punctuations=\"?:!.,;\"\n",
        "\n",
        "#To lemmatize word per word\n",
        "#We first have to determine the function of each words (using POS) to get the best lemmatization\n",
        "def word_lemmatize(tagged):\n",
        "    #print(tagged)\n",
        "    pos=tagged[1][0]\n",
        "    word=tagged[0]\n",
        "    #print(pos)\n",
        "    if pos=='J':\n",
        "        return(wordnet_lemmatizer.lemmatize(word, pos=\"a\"))\n",
        "    elif pos=='V':\n",
        "        return(wordnet_lemmatizer.lemmatize(word, pos=\"v\"))\n",
        "    elif pos=='N':\n",
        "        return(wordnet_lemmatizer.lemmatize(word, pos=\"n\"))\n",
        "    elif pos=='R':\n",
        "        return(wordnet_lemmatizer.lemmatize(word, pos=\"r\"))\n",
        "    else:          \n",
        "        return(word)\n",
        "\n",
        "#To lemmatize and tokenize the overview\n",
        "def lemmatize_tokenize(tokens):\n",
        "    sentence=[]\n",
        "    sentence_words = word_tokenize(tokens)\n",
        "    tagged=pos_tag(sentence_words)\n",
        "    for k in range(len(sentence_words)):\n",
        "        tag=tagged[k]\n",
        "        if (tag[0] in punctuations)==False:\n",
        "            #To remove punctuations\n",
        "            sentence.append(word_lemmatize(tag))\n",
        "    return sentence"
      ],
      "execution_count": 0,
      "outputs": [
        {
          "output_type": "stream",
          "text": [
            "[nltk_data] Downloading package wordnet to /root/nltk_data...\n",
            "[nltk_data]   Unzipping corpora/wordnet.zip.\n",
            "[nltk_data] Downloading package averaged_perceptron_tagger to\n",
            "[nltk_data]     /root/nltk_data...\n",
            "[nltk_data]   Unzipping taggers/averaged_perceptron_tagger.zip.\n"
          ],
          "name": "stdout"
        }
      ]
    },
    {
      "cell_type": "code",
      "metadata": {
        "id": "REgp761Ebak5",
        "colab_type": "code",
        "outputId": "9ea30525-dbed-4978-d9ed-bdb72c7c6941",
        "colab": {
          "base_uri": "https://localhost:8080/",
          "height": 55
        }
      },
      "source": [
        "example_preprocessed=lemmatize_tokenize(example)\n",
        "print('TEXTE FINAL:',example_preprocessed)"
      ],
      "execution_count": 0,
      "outputs": [
        {
          "output_type": "stream",
          "text": [
            "TEXTE FINAL: ['bad', 'movie', 'ever', 'see', 'entire', 'life', 'unless', \"'re\", 'masochism', 'never', 'see', 'insufferably', 'long', 'pointless', 'eye-harming', 'depressing', 'movie', 'forever', 'top', 'list', 'bad', 'movie', 'whoever', 'write', 'movie', 'sadist', 'almost', 'cried', 'end', \"'s\", 'bad', \"'d\", 'like', 'give', 'zero', 'star', 'since', \"'s\", 'option', 'give', 'one']\n"
          ],
          "name": "stdout"
        }
      ]
    },
    {
      "cell_type": "markdown",
      "metadata": {
        "id": "tt_vbnKwbqOa",
        "colab_type": "text"
      },
      "source": [
        " Let's apply this functions to the data. "
      ]
    },
    {
      "cell_type": "code",
      "metadata": {
        "id": "Gd8oejHhb1XK",
        "colab_type": "code",
        "colab": {}
      },
      "source": [
        "train_set[\"preprocessed\"]=train_set.comment.apply(lambda row: lowercase(row)).apply(lambda row: remove_html(row)).apply(lambda row: remove_stop_words(row)).apply(lambda row: remove_special_characters(row))\n",
        "val_set[\"preprocessed\"]=val_set.comment.apply(lambda row: lowercase(row)).apply(lambda row: remove_html(row)).apply(lambda row: remove_stop_words(row)).apply(lambda row: remove_special_characters(row))\n",
        "test_set[\"preprocessed\"]=test_set.comment.apply(lambda row: lowercase(row)).apply(lambda row: remove_html(row)).apply(lambda row: remove_stop_words(row)).apply(lambda row: remove_special_characters(row))"
      ],
      "execution_count": 0,
      "outputs": []
    },
    {
      "cell_type": "code",
      "metadata": {
        "id": "NUJefRX3b1kK",
        "colab_type": "code",
        "colab": {}
      },
      "source": [
        "#It takes some time\n",
        "train_set[\"preprocessed\"]=train_set.preprocessed.apply(lambda row: lemmatize_tokenize(row))\n",
        "val_set[\"preprocessed\"]=val_set.preprocessed.apply(lambda row: lemmatize_tokenize(row))\n",
        "test_set[\"preprocessed\"]=test_set.preprocessed.apply(lambda row: lemmatize_tokenize(row))"
      ],
      "execution_count": 0,
      "outputs": []
    },
    {
      "cell_type": "code",
      "metadata": {
        "id": "DJgLblkgb1o2",
        "colab_type": "code",
        "outputId": "849deccf-5fd4-432b-d9b2-cbbdcefacdea",
        "colab": {
          "base_uri": "https://localhost:8080/",
          "height": 206
        }
      },
      "source": [
        "train_set.head()"
      ],
      "execution_count": 0,
      "outputs": [
        {
          "output_type": "execute_result",
          "data": {
            "text/html": [
              "<div>\n",
              "<style scoped>\n",
              "    .dataframe tbody tr th:only-of-type {\n",
              "        vertical-align: middle;\n",
              "    }\n",
              "\n",
              "    .dataframe tbody tr th {\n",
              "        vertical-align: top;\n",
              "    }\n",
              "\n",
              "    .dataframe thead th {\n",
              "        text-align: right;\n",
              "    }\n",
              "</style>\n",
              "<table border=\"1\" class=\"dataframe\">\n",
              "  <thead>\n",
              "    <tr style=\"text-align: right;\">\n",
              "      <th></th>\n",
              "      <th>index</th>\n",
              "      <th>comment</th>\n",
              "      <th>id</th>\n",
              "      <th>label</th>\n",
              "      <th>preprocessed</th>\n",
              "    </tr>\n",
              "  </thead>\n",
              "  <tbody>\n",
              "    <tr>\n",
              "      <th>0</th>\n",
              "      <td>38094</td>\n",
              "      <td>A bunch of full-length movies featuring the Mu...</td>\n",
              "      <td>tt0079588</td>\n",
              "      <td>1</td>\n",
              "      <td>[bunch, full-length, movie, feature, muppets, ...</td>\n",
              "    </tr>\n",
              "    <tr>\n",
              "      <th>1</th>\n",
              "      <td>40624</td>\n",
              "      <td>This film has to be as near to perfect a film ...</td>\n",
              "      <td>tt0043117</td>\n",
              "      <td>1</td>\n",
              "      <td>[film, near, perfect, film, john, ford, make, ...</td>\n",
              "    </tr>\n",
              "    <tr>\n",
              "      <th>2</th>\n",
              "      <td>49425</td>\n",
              "      <td>Quick summary of the book: Boy, Billy Tepper, ...</td>\n",
              "      <td>tt0103112</td>\n",
              "      <td>1</td>\n",
              "      <td>[quick, summary, book, boy, billy, tepper, 12,...</td>\n",
              "    </tr>\n",
              "    <tr>\n",
              "      <th>3</th>\n",
              "      <td>35734</td>\n",
              "      <td>I have yet to read a negative professional rev...</td>\n",
              "      <td>tt0445161</td>\n",
              "      <td>0</td>\n",
              "      <td>[yet, read, negative, professional, review, mo...</td>\n",
              "    </tr>\n",
              "    <tr>\n",
              "      <th>4</th>\n",
              "      <td>41708</td>\n",
              "      <td>The young John Garfield turned in a fine perfo...</td>\n",
              "      <td>tt0032022</td>\n",
              "      <td>1</td>\n",
              "      <td>[young, john, garfield, turn, fine, performanc...</td>\n",
              "    </tr>\n",
              "  </tbody>\n",
              "</table>\n",
              "</div>"
            ],
            "text/plain": [
              "   index  ...                                       preprocessed\n",
              "0  38094  ...  [bunch, full-length, movie, feature, muppets, ...\n",
              "1  40624  ...  [film, near, perfect, film, john, ford, make, ...\n",
              "2  49425  ...  [quick, summary, book, boy, billy, tepper, 12,...\n",
              "3  35734  ...  [yet, read, negative, professional, review, mo...\n",
              "4  41708  ...  [young, john, garfield, turn, fine, performanc...\n",
              "\n",
              "[5 rows x 5 columns]"
            ]
          },
          "metadata": {
            "tags": []
          },
          "execution_count": 27
        }
      ]
    },
    {
      "cell_type": "markdown",
      "metadata": {
        "id": "gveEU689b0LR",
        "colab_type": "text"
      },
      "source": [
        "Now we are going to use word2vec."
      ]
    },
    {
      "cell_type": "code",
      "metadata": {
        "id": "pIxvp9KPcCUx",
        "colab_type": "code",
        "colab": {}
      },
      "source": [
        "#Words embedding with Word2vec\n",
        "from gensim.models import Word2Vec\n",
        "from multiprocessing import cpu_count\n",
        "cpu = cpu_count()\n",
        "\n",
        "#The vocabulary is constructed using only the train_set\n",
        "model_vw = Word2Vec(size=100, window=5, min_count=3, workers=cpu)\n",
        "model_vw.build_vocab(train_set.preprocessed)"
      ],
      "execution_count": 0,
      "outputs": []
    },
    {
      "cell_type": "code",
      "metadata": {
        "id": "lQnAiEnWcZYN",
        "colab_type": "code",
        "colab": {}
      },
      "source": [
        "#To transform the results of word2vec into vectors\n",
        "def vector_construction(text, size,model):\n",
        "    vec = np.zeros(size).reshape((1, size))\n",
        "    nb = 0\n",
        "    for word in text:\n",
        "        try:\n",
        "            vec=vec+model[word].reshape((1, size))\n",
        "            nb=nb+1.\n",
        "        except KeyError:\n",
        "            continue\n",
        "    if nb != 0:\n",
        "        vec=vec/nb\n",
        "    return vec"
      ],
      "execution_count": 0,
      "outputs": []
    },
    {
      "cell_type": "code",
      "metadata": {
        "id": "ouaiQQtedBO5",
        "colab_type": "code",
        "colab": {}
      },
      "source": [
        "#Training on train_set\n",
        "print(\"Training the W2V ...\")\n",
        "model_vw.train(train_set.preprocessed, total_examples=len(train_set.preprocessed), epochs=2)\n",
        "train_array = np.concatenate([vector_construction(z, 100,model_vw) for z in train_set.preprocessed])"
      ],
      "execution_count": 0,
      "outputs": []
    },
    {
      "cell_type": "code",
      "metadata": {
        "id": "6Y_VlFyydHOv",
        "colab_type": "code",
        "outputId": "354c0e07-9990-4a2a-dcf7-68fd968ff7cb",
        "colab": {
          "base_uri": "https://localhost:8080/",
          "height": 299
        }
      },
      "source": [
        "model_vw.most_similar('awful')"
      ],
      "execution_count": 0,
      "outputs": [
        {
          "output_type": "stream",
          "text": [
            "/usr/local/lib/python3.6/dist-packages/ipykernel_launcher.py:1: DeprecationWarning: Call to deprecated `most_similar` (Method will be removed in 4.0.0, use self.wv.most_similar() instead).\n",
            "  \"\"\"Entry point for launching an IPython kernel.\n",
            "/usr/local/lib/python3.6/dist-packages/gensim/matutils.py:737: FutureWarning: Conversion of the second argument of issubdtype from `int` to `np.signedinteger` is deprecated. In future, it will be treated as `np.int64 == np.dtype(int).type`.\n",
            "  if np.issubdtype(vec.dtype, np.int):\n"
          ],
          "name": "stderr"
        },
        {
          "output_type": "execute_result",
          "data": {
            "text/plain": [
              "[('horrible', 0.9326626062393188),\n",
              " ('terrible', 0.914169192314148),\n",
              " ('dreadful', 0.8500727415084839),\n",
              " ('atrocious', 0.827540397644043),\n",
              " ('bad', 0.8036673069000244),\n",
              " ('pathetic', 0.7990529537200928),\n",
              " ('lousy', 0.7928122878074646),\n",
              " ('suck', 0.7920595407485962),\n",
              " ('lame', 0.781204342842102),\n",
              " ('horrendous', 0.7673866748809814)]"
            ]
          },
          "metadata": {
            "tags": []
          },
          "execution_count": 35
        }
      ]
    },
    {
      "cell_type": "code",
      "metadata": {
        "id": "ZopL9h8wdOV7",
        "colab_type": "code",
        "outputId": "2ceb0305-7da5-4bc5-c766-1237e08dad4a",
        "colab": {
          "base_uri": "https://localhost:8080/",
          "height": 93
        }
      },
      "source": [
        "#Training on val_set\n",
        "print(\"Training the W2V ...\")\n",
        "model_vw.train(val_set.preprocessed, total_examples=len(val_set.preprocessed), epochs=2)\n",
        "val_array = np.concatenate([vector_construction(z, 100,model_vw) for z in val_set.preprocessed])"
      ],
      "execution_count": 0,
      "outputs": [
        {
          "output_type": "stream",
          "text": [
            "Training the W2V ...\n"
          ],
          "name": "stdout"
        },
        {
          "output_type": "stream",
          "text": [
            "/usr/local/lib/python3.6/dist-packages/ipykernel_launcher.py:6: DeprecationWarning: Call to deprecated `__getitem__` (Method will be removed in 4.0.0, use self.wv.__getitem__() instead).\n",
            "  \n"
          ],
          "name": "stderr"
        }
      ]
    },
    {
      "cell_type": "markdown",
      "metadata": {
        "id": "XoQ8pXAIdD1e",
        "colab_type": "text"
      },
      "source": [
        "As we get transformed our sentences into vectors, we can now use machine learning techniques to predict the polarity of the overview. We are going to use XGBoost."
      ]
    },
    {
      "cell_type": "code",
      "metadata": {
        "id": "g9DlMrZWdEH7",
        "colab_type": "code",
        "colab": {}
      },
      "source": [
        "X_train= pd.DataFrame(train_array)\n",
        "y_train= train_set[\"label\"]\n",
        "\n",
        "X_val= pd.DataFrame(val_array)\n",
        "y_val= val_set[\"label\"]"
      ],
      "execution_count": 0,
      "outputs": []
    },
    {
      "cell_type": "code",
      "metadata": {
        "id": "gF7bfjQeeUom",
        "colab_type": "code",
        "colab": {}
      },
      "source": [
        "#XGBoost \n",
        "import xgboost as xgb\n",
        "train=xgb.DMatrix(X_train, label=y_train)\n",
        "test=xgb.DMatrix(X_val, label=y_val)\n",
        "xgb_reg = xgb.XGBClassifier(n_estimators=100, max_depth=8, learning_rate=0.1, subsample=0.5)\n",
        "xgb = xgb_reg.fit(X_train, y_train)\n",
        "#Predictions\n",
        "y_pred_boost=xgb.predict(X_val)"
      ],
      "execution_count": 0,
      "outputs": []
    },
    {
      "cell_type": "code",
      "metadata": {
        "id": "0ZJ2xBbyyvyP",
        "colab_type": "code",
        "colab": {}
      },
      "source": [
        "#To evaluate the accuracy of our predictions\n",
        "from sklearn.metrics import classification_report, confusion_matrix, roc_curve, roc_auc_score, accuracy_score\n",
        "\n",
        "def metrics(y_true,y_pred):\n",
        "\n",
        "  #Accuracy\n",
        "  accuracy=accuracy_score(y_true, y_pred)\n",
        "  print(\"Baseline Accuracy: \",round(accuracy*100),\"%\")\n",
        "\n",
        "  #Classification report\n",
        "  print('')\n",
        "  print('Classification report')\n",
        "  print(classification_report(y_true,y_pred,target_names=['positive','negative']))\n",
        "    \n",
        "  #Confusion matrix\n",
        "  print('')\n",
        "  print('Confusion matrix')\n",
        "  cm=confusion_matrix(y_true,y_pred)\n",
        "  labels = ['negative','positive']\n",
        "  df_cm = pd.DataFrame(cm, index=labels, columns=labels)\n",
        "  sns.heatmap(df_cm, annot=True, annot_kws={\"size\": 18},cmap='coolwarm', linewidth=0.5, fmt=\"\")\n",
        "  b, t = plt.ylim() \n",
        "  b += 0.5 \n",
        "  t -= 0.5 \n",
        "  plt.ylim(b, t) \n",
        "  plt.show()\n",
        "    \n",
        "\n",
        "def roc(y_true0,score_preds0,y_true1,score_preds1):\n",
        "  #ROC curve : to compare two models (used after to compare our models)\n",
        "  lr_fpr0, lr_tpr0, _ = roc_curve(y_true0,score_preds0)\n",
        "  auc = roc_auc_score(y_true0,score_preds0)\n",
        "  lr_fpr1, lr_tpr1, _ = roc_curve(y_true1,score_preds1)\n",
        "  auc1 = roc_auc_score(y_true1,score_preds1)\n",
        "  plt.plot(lr_fpr0,lr_tpr0, color='darkorange', label='ROC curve Word2Vec(area = %0.3f)' % auc)\n",
        "  plt.plot(lr_fpr1, lr_tpr1, label='ROC curve BERT (area = %0.3f)' % auc1)\n",
        "  plt.plot([0, 1], [0, 1], color='navy', linestyle='--')\n",
        "  plt.xlabel('False Positive Rate')\n",
        "  plt.ylabel('True Positive Rate')\n",
        "  plt.legend(loc=\"lower right\")\n",
        "  plt.show()"
      ],
      "execution_count": 0,
      "outputs": []
    },
    {
      "cell_type": "markdown",
      "metadata": {
        "id": "JhylVNP7SDQw",
        "colab_type": "text"
      },
      "source": [
        "We evaluate the results using XGBoost :"
      ]
    },
    {
      "cell_type": "code",
      "metadata": {
        "id": "p-uhHo6ly5jR",
        "colab_type": "code",
        "outputId": "037a1353-8c35-4876-ca17-75b50c68def5",
        "colab": {
          "base_uri": "https://localhost:8080/",
          "height": 519
        }
      },
      "source": [
        "#Results using XGBoost\n",
        "metrics(y_val,y_pred_boost)"
      ],
      "execution_count": 0,
      "outputs": [
        {
          "output_type": "stream",
          "text": [
            "Baseline Accuracy:  79.0 %\n",
            "\n",
            "Classification report\n",
            "              precision    recall  f1-score   support\n",
            "\n",
            "    positive       0.79      0.80      0.80      3804\n",
            "    negative       0.79      0.78      0.79      3696\n",
            "\n",
            "    accuracy                           0.79      7500\n",
            "   macro avg       0.79      0.79      0.79      7500\n",
            "weighted avg       0.79      0.79      0.79      7500\n",
            "\n",
            "\n",
            "Confusion matrix\n"
          ],
          "name": "stdout"
        },
        {
          "output_type": "display_data",
          "data": {
            "image/png": "[encoded data removed]",
            "text/plain": [
              "<Figure size 432x288 with 2 Axes>"
            ]
          },
          "metadata": {
            "tags": [],
            "needs_background": "light"
          }
        }
      ]
    },
    {
      "cell_type": "markdown",
      "metadata": {
        "id": "8w1gVCqRXaZd",
        "colab_type": "text"
      },
      "source": [
        "We get an accuracy of about 80% and we can see our model predicts negative overview better than positive. "
      ]
    },
    {
      "cell_type": "markdown",
      "metadata": {
        "id": "3Lsz-MZHzDqX",
        "colab_type": "text"
      },
      "source": [
        "Word2vec hyperparameters : we want to choose the best vocabulary size to improve the accuracy of our model. We test sizes between 50 and 250. "
      ]
    },
    {
      "cell_type": "code",
      "metadata": {
        "id": "ye1kCUNIzEin",
        "colab_type": "code",
        "colab": {}
      },
      "source": [
        "import time\n",
        "def duration(start_time, end_time):\n",
        "    length = end_time - start_time\n",
        "    mins = int(length / 60)\n",
        "    secs = int(length - (mins * 60))\n",
        "    return mins, secs"
      ],
      "execution_count": 0,
      "outputs": []
    },
    {
      "cell_type": "code",
      "metadata": {
        "id": "5cK4CR6dzL9y",
        "colab_type": "code",
        "outputId": "61eb6b64-e35b-4075-ef46-10c08af5986e",
        "colab": {
          "base_uri": "https://localhost:8080/",
          "height": 346
        }
      },
      "source": [
        "#Attention, quite long to run. \n",
        "size=np.arange(50,300,50)\n",
        "accuracy_train=[]\n",
        "accuracy_val=[]\n",
        "\n",
        "for k in size:\n",
        "  start_time = time.time()\n",
        "  print('We are at step: ',k)\n",
        "  wv= Word2Vec(size=k, window=5, min_count=3, workers=cpu)\n",
        "  wv.build_vocab(train_set.preprocessed)\n",
        "  wv.train(train_set.preprocessed, total_examples=len(train_set.preprocessed), epochs=5)\n",
        "  train_array = np.concatenate([vector_construction(z,k,wv) for z in train_set.preprocessed])\n",
        "  wv.train(val_set.preprocessed, total_examples=len(val_set.preprocessed), epochs=5)\n",
        "  val_array = np.concatenate([vector_construction(z, k,wv) for z in val_set.preprocessed])\n",
        "  X_train= pd.DataFrame(train_array)\n",
        "  y_train= train_set[\"label\"]\n",
        "\n",
        "  X_val= pd.DataFrame(val_array)\n",
        "  y_val= val_set[\"label\"]\n",
        "\n",
        "  import xgboost as xgb\n",
        "  train=xgb.DMatrix(X_train, label=y_train)\n",
        "  test=xgb.DMatrix(X_val, label=y_val)\n",
        "  xgb_reg = xgb.XGBClassifier(n_estimators=200, max_depth=8, learning_rate=0.1, subsample=0.5)\n",
        "  xgb_test= xgb_reg.fit(X_train, y_train)\n",
        "\n",
        "  y_pred_val=xgb_test.predict(X_val)\n",
        "  y_pred_train=xgb_test.predict(X_train)\n",
        "\n",
        "  accuracy_train.append(accuracy_score(y_train, y_pred_train))\n",
        "  accuracy_val.append(accuracy_score(y_val, y_pred_val))\n",
        "  end_time = time.time()\n",
        "  epoch_mins, epoch_secs = duration(start_time, end_time)\n",
        "  print('Duration: ',epoch_mins,'m', epoch_secs,'s')\n",
        "  print('')"
      ],
      "execution_count": 0,
      "outputs": [
        {
          "output_type": "stream",
          "text": [
            "We are at step:  50\n"
          ],
          "name": "stdout"
        },
        {
          "output_type": "stream",
          "text": [
            "/usr/local/lib/python3.6/dist-packages/ipykernel_launcher.py:6: DeprecationWarning: Call to deprecated `__getitem__` (Method will be removed in 4.0.0, use self.wv.__getitem__() instead).\n",
            "  \n"
          ],
          "name": "stderr"
        },
        {
          "output_type": "stream",
          "text": [
            "Duration:  2 m 33 s\n",
            "\n",
            "We are at step:  100\n",
            "Duration:  3 m 35 s\n",
            "\n",
            "We are at step:  150\n",
            "Duration:  4 m 46 s\n",
            "\n",
            "We are at step:  200\n",
            "Duration:  5 m 45 s\n",
            "\n",
            "We are at step:  250\n",
            "Duration:  6 m 52 s\n",
            "\n"
          ],
          "name": "stdout"
        }
      ]
    },
    {
      "cell_type": "code",
      "metadata": {
        "id": "wQkxFFMLzroP",
        "colab_type": "code",
        "outputId": "239430e1-0bb8-4f13-ae21-127357ce78d5",
        "colab": {
          "base_uri": "https://localhost:8080/",
          "height": 295
        }
      },
      "source": [
        "plt.plot(size,accuracy_train,label='Training data')\n",
        "plt.plot(size,accuracy_val,label='Validation data')\n",
        "plt.xlabel('Dimension of the word vectors.')\n",
        "plt.ylabel('Accuracy')\n",
        "plt.title('Choosingt the size of the word vectors')\n",
        "plt.legend()\n",
        "plt.show()"
      ],
      "execution_count": 0,
      "outputs": [
        {
          "output_type": "display_data",
          "data": {
            "image/png": "[encoded data removed]",
            "text/plain": [
              "<Figure size 432x288 with 1 Axes>"
            ]
          },
          "metadata": {
            "tags": [],
            "needs_background": "light"
          }
        }
      ]
    },
    {
      "cell_type": "markdown",
      "metadata": {
        "id": "sNeJh488piBj",
        "colab_type": "text"
      },
      "source": [
        "So we choose 100 as dimension. "
      ]
    },
    {
      "cell_type": "code",
      "metadata": {
        "id": "F0H71dolzyYJ",
        "colab_type": "code",
        "colab": {}
      },
      "source": [
        "#Final Word2Vec model\n",
        "model_vw = Word2Vec(size=100, window=5, min_count=3, workers=cpu)\n",
        "model_vw.build_vocab(train_set.preprocessed)"
      ],
      "execution_count": 0,
      "outputs": []
    },
    {
      "cell_type": "markdown",
      "metadata": {
        "id": "N7mD264rZdcX",
        "colab_type": "text"
      },
      "source": [
        "#####**Using BERT for classification**"
      ]
    },
    {
      "cell_type": "markdown",
      "metadata": {
        "id": "WI73UMYdZ4rQ",
        "colab_type": "text"
      },
      "source": [
        "We now use BERT to train another classifier. \n",
        "\n",
        "Data Preprocessing :"
      ]
    },
    {
      "cell_type": "code",
      "metadata": {
        "id": "raz82asuZb9P",
        "colab_type": "code",
        "colab": {}
      },
      "source": [
        "!pip install transformers"
      ],
      "execution_count": 0,
      "outputs": []
    },
    {
      "cell_type": "code",
      "metadata": {
        "id": "Lh4eSwKTZ66N",
        "colab_type": "code",
        "colab": {}
      },
      "source": [
        "#We use the data preprocesssing seen in class \n",
        "import torch.nn as nn\n",
        "from torch.utils.data import Dataset\n",
        "from transformers import BertTokenizer, AutoModel, AutoTokenizer\n",
        "from torch.utils.data import DataLoader, RandomSampler\n",
        "\n",
        "class SSTDataset(Dataset):\n",
        "\n",
        "    def __init__(self,df, maxlen, model_name='bert-base-uncased'):\n",
        "\n",
        "        #Keep only the necessary columns\n",
        "        self.df = df[['comment','label']]\n",
        "\n",
        "        #Initialize the BERT tokenizer\n",
        "        self.tokenizer = AutoTokenizer.from_pretrained(model_name)\n",
        "\n",
        "        self.maxlen = maxlen\n",
        "\n",
        "    def __len__(self):\n",
        "        return len(self.df)\n",
        "\n",
        "    def __getitem__(self, index):\n",
        "\n",
        "        #Selecting the sentence and label at the specified index in the data frame\n",
        "        sentence = self.df.loc[index, 'comment']\n",
        "        label = self.df.loc[index, 'label']\n",
        "\n",
        "        #Preprocessing the text to be suitable for BERT\n",
        "        tokens = self.tokenizer.tokenize(sentence) #Tokenize the sentence\n",
        "        if self.tokenizer.cls_token is None:\n",
        "          bos_token = self.tokenizer.bos_token\n",
        "        else:\n",
        "          bos_token = self.tokenizer.cls_token\n",
        "          \n",
        "        if self.tokenizer.sep_token is None:\n",
        "          eos_token = self.tokenizer.eos_token\n",
        "        else:\n",
        "          eos_token = self.tokenizer.sep_token\n",
        "        \n",
        "        tokens = [bos_token] + tokens + [eos_token] #Insering the CLS and SEP token in the beginning and end of the sentence\n",
        "        if len(tokens) < self.maxlen:\n",
        "            tokens = tokens + [self.tokenizer.pad_token for _ in range(self.maxlen - len(tokens))] #Padding sentences\n",
        "        else:\n",
        "            tokens = tokens[:self.maxlen-1] + [eos_token] #Prunning the list to be of specified max length\n",
        "\n",
        "        tokens_ids = self.tokenizer.convert_tokens_to_ids(tokens) #Obtaining the indices of the tokens in the BERT Vocabulary\n",
        "        tokens_ids_tensor = torch.tensor(tokens_ids) #Converting the list to a pytorch tensor\n",
        "        #Obtaining the attention mask i.e a tensor containing 1s for no padded tokens and 0s for padded ones\n",
        "        attn_mask = (tokens_ids_tensor != 0).long()\n",
        "\n",
        "        return tokens_ids_tensor, attn_mask, label"
      ],
      "execution_count": 0,
      "outputs": []
    },
    {
      "cell_type": "markdown",
      "metadata": {
        "id": "cM1nDtZ2dHnc",
        "colab_type": "text"
      },
      "source": [
        "The length maximum is fixed as high as possible (the gap in average accuracy between maxlen=128 and maxlen=256 is around 2%). "
      ]
    },
    {
      "cell_type": "code",
      "metadata": {
        "id": "eKbzKL81aFGT",
        "colab_type": "code",
        "outputId": "43dbd80d-3f54-4510-802e-6be878d41b5a",
        "colab": {
          "base_uri": "https://localhost:8080/",
          "height": 118,
          "referenced_widgets": [
            "933d59bb3a664f4c8b0daeea3e5a84f8",
            "8d74995f1a3e47cbb45c36cb016845a6",
            "7e50a75375e74351bb1e2aa13116b7eb",
            "54e0a20b9e784cc3a78b5bbb85450ab4",
            "90e1ff9da19548b6a838a5a808d665af",
            "1081c9ba5045421fac8cf5440f2c1a34",
            "e458787e00d849c8b54bd8005e419542",
            "a146433da0b843d0a4255c9c728aa034",
            "de5c5599c07145dfb22419a30d90280c",
            "ee85692fece549b390ac63657a5673ce",
            "7a2966d0120649dc9b65571123a8ed8b",
            "0f6433cb612a46d98005ff53e6ce3d34",
            "eeaa4d48d4024083a913a7ad078af956",
            "b7eb0988aafd4b62bcd265cafa929643",
            "2fb4c91d7c624374acc968617423c0a7",
            "a56fd89aefb3493285f8304c8c8bf816"
          ]
        }
      },
      "source": [
        "#Creating training, validation and test dataloaders\n",
        "train = SSTDataset(df=train_set, maxlen = 256, model_name='bert-base-uncased')\n",
        "val = SSTDataset(df=val_set, maxlen = 256, model_name='bert-base-uncased')\n",
        "test= SSTDataset(df=test_set, maxlen = 256, model_name='bert-base-uncased')\n",
        "\n",
        "\n",
        "train_loader = DataLoader(train, batch_size =16,sampler = RandomSampler(train_set),num_workers=5)\n",
        "val_loader = DataLoader(val, batch_size =16,sampler = RandomSampler(val_set),num_workers=5)\n",
        "test_loader = DataLoader(test, batch_size =16,sampler = RandomSampler(test_set),num_workers=5)"
      ],
      "execution_count": 0,
      "outputs": [
        {
          "output_type": "display_data",
          "data": {
            "application/vnd.jupyter.widget-view+json": {
              "model_id": "933d59bb3a664f4c8b0daeea3e5a84f8",
              "version_minor": 0,
              "version_major": 2
            },
            "text/plain": [
              "HBox(children=(IntProgress(value=0, description='Downloading', max=361, style=ProgressStyle(description_width=…"
            ]
          },
          "metadata": {
            "tags": []
          }
        },
        {
          "output_type": "stream",
          "text": [
            "\n"
          ],
          "name": "stdout"
        },
        {
          "output_type": "display_data",
          "data": {
            "application/vnd.jupyter.widget-view+json": {
              "model_id": "de5c5599c07145dfb22419a30d90280c",
              "version_minor": 0,
              "version_major": 2
            },
            "text/plain": [
              "HBox(children=(IntProgress(value=0, description='Downloading', max=231508, style=ProgressStyle(description_wid…"
            ]
          },
          "metadata": {
            "tags": []
          }
        },
        {
          "output_type": "stream",
          "text": [
            "\n"
          ],
          "name": "stdout"
        }
      ]
    },
    {
      "cell_type": "markdown",
      "metadata": {
        "id": "LuaOgvTlaK0c",
        "colab_type": "text"
      },
      "source": [
        "Model definition : we are using the classifier based on BERT of the library Transformer\n",
        "\n",
        "For the parameters  (the learning rate for example), we follow the recommandation of the original article introducing BERT : https://arxiv.org/pdf/1810.04805.pdf\n",
        "\n"
      ]
    },
    {
      "cell_type": "code",
      "metadata": {
        "id": "4oOCyzqJaLcC",
        "colab_type": "code",
        "outputId": "0c8edf70-8792-4cdb-f9f1-e7cd8e72600b",
        "colab": {
          "base_uri": "https://localhost:8080/",
          "height": 86,
          "referenced_widgets": [
            "f428c05a420042f8abdb4f5538a44bc2",
            "7c6e282bbc084ce59d4b4953a8a9edb5",
            "847fcf04e86843f3868bf0b7ef762a77",
            "839d6b6f167347f99e967f0df347f33e",
            "0f1552648942406f918836a44a5b4de4",
            "b1bf332670e7481f9236fc921cbccf50",
            "c53bb77342e947bbb56c4c7b6fc2ab6d",
            "3fafb0c56afd4256b153f32722d6d506"
          ]
        }
      },
      "source": [
        "import torch\n",
        "from transformers import BertForSequenceClassification, AdamW, BertConfig\n",
        "\n",
        "# BertForSequenceClassification : pretrained BERT model for classification\n",
        "model = BertForSequenceClassification.from_pretrained(\"bert-base-uncased\", num_labels = 2, output_attentions = False, output_hidden_states = False)\n",
        "\n",
        "#To use GPU\n",
        "model.cuda()\n",
        "device = torch.device(\"cuda\")\n",
        "print('We will use the GPU:', torch.cuda.get_device_name(0))\n",
        "\n",
        "#Optimizer\n",
        "# Default learning rate: 5e-5\n",
        "optimizer = AdamW(model.parameters(),lr = 2e-5)"
      ],
      "execution_count": 0,
      "outputs": [
        {
          "output_type": "display_data",
          "data": {
            "application/vnd.jupyter.widget-view+json": {
              "model_id": "f428c05a420042f8abdb4f5538a44bc2",
              "version_minor": 0,
              "version_major": 2
            },
            "text/plain": [
              "HBox(children=(IntProgress(value=0, description='Downloading', max=440473133, style=ProgressStyle(description_…"
            ]
          },
          "metadata": {
            "tags": []
          }
        },
        {
          "output_type": "stream",
          "text": [
            "\n",
            "We will use the GPU: Tesla P100-PCIE-16GB\n"
          ],
          "name": "stdout"
        }
      ]
    },
    {
      "cell_type": "code",
      "metadata": {
        "id": "d1HSPBK_ZkLi",
        "colab_type": "code",
        "colab": {}
      },
      "source": [
        "from transformers import get_linear_schedule_with_warmup\n",
        "#To update the learning rate \n",
        "scheduler = get_linear_schedule_with_warmup(optimizer,num_warmup_steps = 0,num_training_steps = len(train_set))\n"
      ],
      "execution_count": 0,
      "outputs": []
    },
    {
      "cell_type": "markdown",
      "metadata": {
        "id": "3qWpTILPaRFO",
        "colab_type": "text"
      },
      "source": [
        "Model training"
      ]
    },
    {
      "cell_type": "code",
      "metadata": {
        "id": "jBxfM0gOz_Mx",
        "colab_type": "code",
        "colab": {}
      },
      "source": [
        "# Function to calculate the accuracy of our predictions \n",
        "def accuracy(preds, labels):\n",
        "    pred_flat = np.argmax(preds, axis=1).flatten()\n",
        "    labels_flat = labels.flatten()\n",
        "    return np.sum(pred_flat == labels_flat) / len(labels_flat)\n"
      ],
      "execution_count": 0,
      "outputs": []
    },
    {
      "cell_type": "markdown",
      "metadata": {
        "id": "s5o3hhjcd7UO",
        "colab_type": "text"
      },
      "source": [
        "This is our main function where we train and then evaluate our BERT classifier. "
      ]
    },
    {
      "cell_type": "code",
      "metadata": {
        "id": "A3Jkr1ZVz_h4",
        "colab_type": "code",
        "colab": {}
      },
      "source": [
        "def train_evaluate(model,optimizer,train_loader,val_loader):\n",
        "\n",
        "  #####\n",
        "  #Training part\n",
        "  #####\n",
        "  print('Training...')\n",
        "\n",
        "  model.train()\n",
        "  \n",
        "  train_loss = 0\n",
        "  train_accuracy = 0\n",
        "\n",
        "  for step, (seq, attn_masks, labels) in enumerate(train_loader):\n",
        "\n",
        "      # Report progress\n",
        "      if step % 400 == 0 :\n",
        "        print(int(100*step/len(train_loader)),'% finished')\n",
        "\n",
        "      #To cuda\n",
        "      seq, attn_masks, labels = seq.cuda(), attn_masks.cuda(), labels.cuda()\n",
        "      \n",
        "      model.zero_grad()        \n",
        "\n",
        "      loss, logits = model(seq,attention_mask=attn_masks,labels=labels)\n",
        "\n",
        "      #Loss\n",
        "      train_loss += loss.item()\n",
        "\n",
        "      #Accuracy\n",
        "      logits = logits.detach().cpu().numpy()\n",
        "      label = labels.to('cpu').numpy()\n",
        "      train_accuracy += accuracy(logits, label)\n",
        "        \n",
        "      # Backward pass \n",
        "      loss.backward()\n",
        "\n",
        "      \n",
        "      #To prevent explosion of gradients\n",
        "      torch.nn.utils.clip_grad_norm_(model.parameters(), 1.0)\n",
        "\n",
        "      #Optimization step\n",
        "      optimizer.step()\n",
        "\n",
        "      # Update the learning rate.\n",
        "      scheduler.step()\n",
        "\n",
        "  #Calculate the average loss and accuracy\n",
        "  avg_train_loss = train_loss / len(train_loader)  \n",
        "  avg_train_accuracy = train_accuracy / len(train_loader)          \n",
        "    \n",
        "  print(\"Training finished\")\n",
        "  print(\"  Average training loss: {0:.3f}\".format(avg_train_loss))\n",
        "  print(\"  Average training accuracy: {0:.3f}\".format(avg_train_accuracy))\n",
        "\n",
        "  #####\n",
        "  #Validation part\n",
        "  #####\n",
        "  print(\"\")\n",
        "  print(\"Validation...\")\n",
        "\n",
        "  model.eval()\n",
        "\n",
        "  eval_accuracy = 0\n",
        "  eval_loss = 0\n",
        "  #eval_steps = 0\n",
        "\n",
        "  for (seq, attn_masks, labels) in val_loader:\n",
        "\n",
        "    #To cuda\n",
        "    seq, attn_masks, labels = seq.cuda(), attn_masks.cuda(), labels.cuda()\n",
        "\n",
        "    with torch.no_grad():      \n",
        "      loss, logits = model(seq, attention_mask=attn_masks,labels=labels)\n",
        "            \n",
        "      #Loss.\n",
        "      eval_loss += loss.item()\n",
        "\n",
        "      #Accuracy\n",
        "      logits = logits.detach().cpu().numpy()\n",
        "      label = labels.to('cpu').numpy()\n",
        "      eval_accuracy += accuracy(logits,label)\n",
        "        \n",
        "\n",
        "  #Average accuracy over the validation set\n",
        "  avg_val_accuracy = eval_accuracy / len(val_loader)\n",
        "    \n",
        "  #Average loss over the validation set\n",
        "  avg_val_loss = eval_loss / len(val_loader)\n",
        "    \n",
        "  print(\"\") \n",
        "  print(\"Validation finished\")  \n",
        "  print(\"  Average validation loss: {0:.3f}\".format(avg_val_loss))\n",
        "  print(\"  Average validation accuracy: {0:.3f}\".format(avg_val_accuracy))\n",
        "\n",
        "  return avg_train_loss,avg_train_accuracy,avg_val_loss,avg_val_accuracy"
      ],
      "execution_count": 0,
      "outputs": []
    },
    {
      "cell_type": "markdown",
      "metadata": {
        "id": "JA7syhoQeNZa",
        "colab_type": "text"
      },
      "source": [
        "The number of epochs recommanded for classification is between 2 and 4."
      ]
    },
    {
      "cell_type": "code",
      "metadata": {
        "id": "F-_-I2K2z_mI",
        "colab_type": "code",
        "outputId": "cb06f7f3-6ab9-4c55-b4d3-bfaa3995aa6a",
        "colab": {
          "base_uri": "https://localhost:8080/",
          "height": 1000
        }
      },
      "source": [
        "#Attention, take some time \n",
        "#Duration dependent of the GPU proposed by Google Colab\n",
        "N_EPOCHS = 4\n",
        "loss_min = float('inf')\n",
        "for epoch in range(N_EPOCHS):\n",
        "  print('')\n",
        "  print('======== Epoch {:} / {:} ========'.format(epoch+ 1, N_EPOCHS)) \n",
        "  start_time = time.time()\n",
        "    \n",
        "  avg_train_loss,avg_train_accuracy,avg_eval_loss,avg_eval_accuracy = train_evaluate(model,optimizer,train_loader,val_loader)\n",
        "       \n",
        "  end_time = time.time()\n",
        "  epoch_mins, epoch_secs = duration(start_time, end_time)\n",
        "  print('')\n",
        "  print(f'Epoch: {epoch+1:02} | Epoch Time: {epoch_mins}m {epoch_secs}s')\n",
        "\n",
        "  if avg_eval_loss < loss_min:\n",
        "        loss_min = avg_eval_loss\n",
        "        torch.save(model.state_dict(), 'best_model.pt')\n"
      ],
      "execution_count": 0,
      "outputs": [
        {
          "output_type": "stream",
          "text": [
            "\n",
            "======== Epoch 1 / 4 ========\n",
            "Training...\n",
            "0 % finished\n",
            "18 % finished\n",
            "36 % finished\n",
            "54 % finished\n",
            "73 % finished\n",
            "91 % finished\n",
            "Training finished\n",
            "  Average training loss: 0.264\n",
            "  Average training accuracy: 0.896\n",
            "\n",
            "Validation...\n",
            "\n",
            "Validation finished\n",
            "  Average validation loss: 0.226\n",
            "  Average validation accuracy: 0.915\n",
            "\n",
            "Epoch: 01 | Epoch Time: 15m 51s\n",
            "\n",
            "======== Epoch 2 / 4 ========\n",
            "Training...\n",
            "0 % finished\n",
            "18 % finished\n",
            "36 % finished\n",
            "54 % finished\n",
            "73 % finished\n",
            "91 % finished\n",
            "Training finished\n",
            "  Average training loss: 0.160\n",
            "  Average training accuracy: 0.951\n",
            "\n",
            "Validation...\n",
            "\n",
            "Validation finished\n",
            "  Average validation loss: 0.272\n",
            "  Average validation accuracy: 0.919\n",
            "\n",
            "Epoch: 02 | Epoch Time: 15m 49s\n",
            "\n",
            "======== Epoch 3 / 4 ========\n",
            "Training...\n",
            "0 % finished\n",
            "18 % finished\n",
            "36 % finished\n",
            "54 % finished\n",
            "73 % finished\n",
            "91 % finished\n",
            "Training finished\n",
            "  Average training loss: 0.100\n",
            "  Average training accuracy: 0.975\n",
            "\n",
            "Validation...\n",
            "\n",
            "Validation finished\n",
            "  Average validation loss: 0.395\n",
            "  Average validation accuracy: 0.916\n",
            "\n",
            "Epoch: 03 | Epoch Time: 15m 48s\n",
            "\n",
            "======== Epoch 4 / 4 ========\n",
            "Training...\n",
            "0 % finished\n",
            "18 % finished\n",
            "36 % finished\n",
            "54 % finished\n",
            "73 % finished\n",
            "91 % finished\n",
            "Training finished\n",
            "  Average training loss: 0.060\n",
            "  Average training accuracy: 0.986\n",
            "\n",
            "Validation...\n",
            "\n",
            "Validation finished\n",
            "  Average validation loss: 0.410\n",
            "  Average validation accuracy: 0.920\n",
            "\n",
            "Epoch: 04 | Epoch Time: 15m 47s\n"
          ],
          "name": "stdout"
        }
      ]
    },
    {
      "cell_type": "markdown",
      "metadata": {
        "id": "aIMvhVka0aHp",
        "colab_type": "text"
      },
      "source": [
        "#####**Models evaluation : BERT or Word2Vec ?**"
      ]
    },
    {
      "cell_type": "code",
      "metadata": {
        "id": "fsmxm3FP1EC7",
        "colab_type": "code",
        "outputId": "97f1a70b-b606-4c42-9963-76bc29f99074",
        "colab": {
          "base_uri": "https://localhost:8080/",
          "height": 587
        }
      },
      "source": [
        "#####\n",
        "#BERT\n",
        "#####\n",
        "print('Results for BERT :')\n",
        "start_time = time.time()\n",
        "model.load_state_dict(torch.load('best_model.pt'))  \n",
        "model.eval()\n",
        "\n",
        "y_pred=[]\n",
        "y_true=[]\n",
        "scores=[]\n",
        "\n",
        "for (seq, attn_masks, labels) in test_loader:\n",
        "  #To cuda\n",
        "  seq, attn_masks, labels = seq.cuda(), attn_masks.cuda(), labels.cuda()\n",
        "\n",
        "  with torch.no_grad():      \n",
        "    loss, logits = model(seq, attention_mask=attn_masks,labels=labels)\n",
        " \n",
        "    #Prediction\n",
        "    logits = logits.detach().cpu().numpy()\n",
        "    label = labels.to('cpu').numpy()\n",
        "    y_pred=y_pred+(list(np.argmax(logits, axis=1).flatten()))\n",
        "    y_true=y_true+(list(label))\n",
        "    scores=scores+(list(logits[:,1]))\n",
        "\n",
        "metrics(y_true,y_pred)\n",
        "\n",
        "end_time = time.time()\n",
        "epoch_mins, epoch_secs = duration(start_time, end_time)\n",
        "print('')\n",
        "print('Duration: ',epoch_mins,'m', epoch_secs,'s')"
      ],
      "execution_count": 0,
      "outputs": [
        {
          "output_type": "stream",
          "text": [
            "Results for BERT :\n",
            "Baseline Accuracy:  93.0 %\n",
            "\n",
            "Classification report\n",
            "              precision    recall  f1-score   support\n",
            "\n",
            "    positive       0.93      0.92      0.93      3753\n",
            "    negative       0.92      0.94      0.93      3747\n",
            "\n",
            "    accuracy                           0.93      7500\n",
            "   macro avg       0.93      0.93      0.93      7500\n",
            "weighted avg       0.93      0.93      0.93      7500\n",
            "\n",
            "\n",
            "Confusion matrix\n"
          ],
          "name": "stdout"
        },
        {
          "output_type": "display_data",
          "data": {
            "image/png": "[encoded data removed]",
            "text/plain": [
              "<Figure size 432x288 with 2 Axes>"
            ]
          },
          "metadata": {
            "tags": [],
            "needs_background": "light"
          }
        },
        {
          "output_type": "stream",
          "text": [
            "\n",
            "Duration:  1 m 0 s\n"
          ],
          "name": "stdout"
        }
      ]
    },
    {
      "cell_type": "code",
      "metadata": {
        "id": "BZ3fc5id1KC8",
        "colab_type": "code",
        "outputId": "0ee8f407-4775-4c77-eda9-a23694683e18",
        "colab": {
          "base_uri": "https://localhost:8080/",
          "height": 640
        }
      },
      "source": [
        "#########\n",
        "#Word2Vec\n",
        "#########\n",
        "print('Results for Word2Vec :')\n",
        "start_time = time.time()\n",
        "\n",
        "model_vw.train(test_set.preprocessed, total_examples=len(test_set.preprocessed), epochs=4)\n",
        "test_array = np.concatenate([vector_construction(z, 100,model_vw) for z in test_set.preprocessed])\n",
        "y_pred_test=xgb.predict(pd.DataFrame(test_array))\n",
        "scores_x=xgb.predict_proba(pd.DataFrame(test_array))\n",
        "metrics(test_set[\"label\"],y_pred_test)\n",
        "\n",
        "end_time = time.time()\n",
        "epoch_mins, epoch_secs = duration(start_time, end_time)\n",
        "print('')\n",
        "print('Duration: ',epoch_mins,'m', epoch_secs,'s')"
      ],
      "execution_count": 0,
      "outputs": [
        {
          "output_type": "stream",
          "text": [
            "Results for Word2Vec :\n"
          ],
          "name": "stdout"
        },
        {
          "output_type": "stream",
          "text": [
            "/usr/local/lib/python3.6/dist-packages/ipykernel_launcher.py:6: DeprecationWarning: Call to deprecated `__getitem__` (Method will be removed in 4.0.0, use self.wv.__getitem__() instead).\n",
            "  \n"
          ],
          "name": "stderr"
        },
        {
          "output_type": "stream",
          "text": [
            "Baseline Accuracy:  81.0 %\n",
            "\n",
            "Classification report\n",
            "              precision    recall  f1-score   support\n",
            "\n",
            "    positive       0.85      0.75      0.80      3753\n",
            "    negative       0.77      0.87      0.82      3747\n",
            "\n",
            "    accuracy                           0.81      7500\n",
            "   macro avg       0.81      0.81      0.81      7500\n",
            "weighted avg       0.81      0.81      0.81      7500\n",
            "\n",
            "\n",
            "Confusion matrix\n"
          ],
          "name": "stdout"
        },
        {
          "output_type": "display_data",
          "data": {
            "image/png": "[encoded data removed]",
            "text/plain": [
              "<Figure size 432x288 with 2 Axes>"
            ]
          },
          "metadata": {
            "tags": [],
            "needs_background": "light"
          }
        },
        {
          "output_type": "stream",
          "text": [
            "\n",
            "Duration:  0 m 9 s\n"
          ],
          "name": "stdout"
        }
      ]
    },
    {
      "cell_type": "code",
      "metadata": {
        "id": "gSQNxQb01UkG",
        "colab_type": "code",
        "outputId": "a00a6238-27c1-4e62-be96-e8049b48c412",
        "colab": {
          "base_uri": "https://localhost:8080/",
          "height": 279
        }
      },
      "source": [
        "roc(test_set[\"label\"],scores_x[:,1],y_true,scores)"
      ],
      "execution_count": 0,
      "outputs": [
        {
          "output_type": "display_data",
          "data": {
            "image/png": "[encoded data removed]",
            "text/plain": [
              "<Figure size 432x288 with 1 Axes>"
            ]
          },
          "metadata": {
            "tags": [],
            "needs_background": "light"
          }
        }
      ]
    },
    {
      "cell_type": "markdown",
      "metadata": {
        "id": "ORF7OmBBqa7i",
        "colab_type": "text"
      },
      "source": [
        "The model BERT is clearly more accurate and outperforms the simple model using Word2Vec. We therefore use BERT to predict the polarity of the overviews of Amazon. "
      ]
    },
    {
      "cell_type": "markdown",
      "metadata": {
        "id": "z9Oe1rah2BAJ",
        "colab_type": "text"
      },
      "source": [
        "#####**Inference on Amazon review : using BERT for classification**"
      ]
    },
    {
      "cell_type": "code",
      "metadata": {
        "id": "XKjrsCpQ17o0",
        "colab_type": "code",
        "colab": {}
      },
      "source": [
        "#We load the best model\n",
        "model.load_state_dict(torch.load('best_model.pt'))\n",
        "def predict_polarity(model,df):\n",
        "  sentiment=[]\n",
        "  data=SSTDataset(df=df,maxlen=256)\n",
        "  loader = DataLoader(data, batch_size =16,num_workers=5)\n",
        "  model.eval()\n",
        "  for step, (seq, attn_masks,labels) in enumerate(loader):\n",
        "\n",
        "    # Report progress\n",
        "    if step % 1000 == 0 :\n",
        "      print(int(100*step/len(loader)),'% finished')\n",
        "\n",
        "    #To cuda\n",
        "    seq, attn_masks, labels = seq.cuda(), attn_masks.cuda(), labels.cuda()\n",
        "\n",
        "    with torch.no_grad():      \n",
        "      output = model(seq, attention_mask=attn_masks)\n",
        "      logits=output[0]\n",
        "      preds=logits.to('cpu').numpy()\n",
        "      preds=np.argmax(preds, axis=1).flatten()\n",
        "    sentiment=sentiment+list(preds)\n",
        "\n",
        "  return sentiment"
      ],
      "execution_count": 0,
      "outputs": []
    },
    {
      "cell_type": "code",
      "metadata": {
        "id": "ZXeUaFbs2IZk",
        "colab_type": "code",
        "outputId": "e4bab540-a7a0-49d7-a9f7-80d7c607e2d4",
        "colab": {
          "base_uri": "https://localhost:8080/",
          "height": 129
        }
      },
      "source": [
        "df_amazon['label']=predict_polarity(model,df_amazon)"
      ],
      "execution_count": 0,
      "outputs": [
        {
          "output_type": "stream",
          "text": [
            "0 % finished\n",
            "17 % finished\n",
            "35 % finished\n",
            "52 % finished\n",
            "70 % finished\n",
            "88 % finished\n"
          ],
          "name": "stdout"
        }
      ]
    },
    {
      "cell_type": "markdown",
      "metadata": {
        "id": "wdVFIdPNrZas",
        "colab_type": "text"
      },
      "source": [
        "Some descriptive statistics on our predictions"
      ]
    },
    {
      "cell_type": "code",
      "metadata": {
        "id": "2T8TO4nSrYwO",
        "colab_type": "code",
        "outputId": "2d883f47-e1fc-4f99-e8cc-dcb1c67db5d8",
        "colab": {
          "base_uri": "https://localhost:8080/",
          "height": 36
        }
      },
      "source": [
        "print('Positive reviews: ', round(sum(df_amazon.label)/df_amazon.shape[0]*100), '%')"
      ],
      "execution_count": 0,
      "outputs": [
        {
          "output_type": "stream",
          "text": [
            "Positive reviews:  85 %\n"
          ],
          "name": "stdout"
        }
      ]
    },
    {
      "cell_type": "code",
      "metadata": {
        "id": "PrLgO0L7rfNz",
        "colab_type": "code",
        "outputId": "4cd46476-f785-4193-ab3b-750177c9abd2",
        "colab": {
          "base_uri": "https://localhost:8080/",
          "height": 282
        }
      },
      "source": [
        "#Link between the overall note and the predicted polarity\n",
        "part_positif=df_amazon[['overall','label']].groupby(['overall']).mean()\n",
        "x=[1,2,3,4,5]\n",
        "height = list(part_positif.label)\n",
        "width = 1.0\n",
        "plt.bar(x, height, width, color='blue')\n",
        "plt.xlabel('Note sur Amazon')\n",
        "plt.ylabel('Part de commentaires positifs')\n",
        "plt.show()\n",
        "#92% of the overview with a rating for the product of 5 are positive"
      ],
      "execution_count": 0,
      "outputs": [
        {
          "output_type": "display_data",
          "data": {
            "image/png": "[encoded data removed]",
            "text/plain": [
              "<Figure size 432x288 with 1 Axes>"
            ]
          },
          "metadata": {
            "tags": [],
            "needs_background": "light"
          }
        }
      ]
    },
    {
      "cell_type": "code",
      "metadata": {
        "id": "IIP9ZUOGrp0d",
        "colab_type": "code",
        "outputId": "d9c87d6a-44e5-4fb8-8504-7e42413fa1c9",
        "colab": {
          "base_uri": "https://localhost:8080/",
          "height": 281
        }
      },
      "source": [
        "part_positif=df_amazon[['asin','label']].groupby(['asin']).mean()\n",
        "part_positif=list(part_positif.label)\n",
        "plt.hist(part_positif)\n",
        "plt.xlabel('Part of positive review')\n",
        "plt.ylabel('Numbers of films')\n",
        "plt.show()\n",
        "#More than 200 films have between 80 and 90% of positive review"
      ],
      "execution_count": 0,
      "outputs": [
        {
          "output_type": "display_data",
          "data": {
            "image/png": "[encoded data removed]",
            "text/plain": [
              "<Figure size 432x288 with 1 Axes>"
            ]
          },
          "metadata": {
            "tags": [],
            "needs_background": "light"
          }
        }
      ]
    },
    {
      "cell_type": "markdown",
      "metadata": {
        "id": "fjY0Xi_9K_DJ",
        "colab_type": "text"
      },
      "source": [
        "### **III - Data preprocessing and topic model for the overview**"
      ]
    },
    {
      "cell_type": "markdown",
      "metadata": {
        "id": "IsfbyOeeOEX-",
        "colab_type": "text"
      },
      "source": [
        "####**Creation of the IMBD working database**"
      ]
    },
    {
      "cell_type": "markdown",
      "metadata": {
        "id": "1DsoyD4kUD84",
        "colab_type": "text"
      },
      "source": [
        "As the process is very long, a csv file with the results of the Sentiment Analysis (which can be found in the GitHub of our project) was created."
      ]
    },
    {
      "cell_type": "code",
      "metadata": {
        "id": "iSo8WcjDUERC",
        "colab_type": "code",
        "outputId": "2871f3fb-a35a-4c00-e0e8-406ce30acfa4",
        "colab": {
          "base_uri": "https://localhost:8080/",
          "height": 206
        }
      },
      "source": [
        "r = requests.get('https://github.com/Margauxxxxxxx/NLP_Project/blob/master/amazon_data_with_polarity.zip?raw=true' ) \n",
        "z = zipfile.ZipFile(io.BytesIO(r.content))\n",
        "z = z.extractall()\n",
        "\n",
        "df_polarity = pd.read_csv('amazon_data_with_polarity.csv', engine='python')\n",
        "df_polarity.head()"
      ],
      "execution_count": 0,
      "outputs": [
        {
          "output_type": "execute_result",
          "data": {
            "text/html": [
              "<div>\n",
              "<style scoped>\n",
              "    .dataframe tbody tr th:only-of-type {\n",
              "        vertical-align: middle;\n",
              "    }\n",
              "\n",
              "    .dataframe tbody tr th {\n",
              "        vertical-align: top;\n",
              "    }\n",
              "\n",
              "    .dataframe thead th {\n",
              "        text-align: right;\n",
              "    }\n",
              "</style>\n",
              "<table border=\"1\" class=\"dataframe\">\n",
              "  <thead>\n",
              "    <tr style=\"text-align: right;\">\n",
              "      <th></th>\n",
              "      <th>overall</th>\n",
              "      <th>asin</th>\n",
              "      <th>comment</th>\n",
              "      <th>title</th>\n",
              "      <th>label</th>\n",
              "    </tr>\n",
              "  </thead>\n",
              "  <tbody>\n",
              "    <tr>\n",
              "      <th>0</th>\n",
              "      <td>5.0</td>\n",
              "      <td>0005089549</td>\n",
              "      <td>So sorry I didn't purchase this years ago when...</td>\n",
              "      <td>I.Q.</td>\n",
              "      <td>1</td>\n",
              "    </tr>\n",
              "    <tr>\n",
              "      <th>1</th>\n",
              "      <td>5.0</td>\n",
              "      <td>0005089549</td>\n",
              "      <td>Believe me when I tell you that you will recei...</td>\n",
              "      <td>I.Q.</td>\n",
              "      <td>1</td>\n",
              "    </tr>\n",
              "    <tr>\n",
              "      <th>2</th>\n",
              "      <td>2.0</td>\n",
              "      <td>0005089549</td>\n",
              "      <td>NOt a great tape but the quality is good and f...</td>\n",
              "      <td>I.Q.</td>\n",
              "      <td>1</td>\n",
              "    </tr>\n",
              "    <tr>\n",
              "      <th>3</th>\n",
              "      <td>5.0</td>\n",
              "      <td>0005089549</td>\n",
              "      <td>It met all of my expectations.  I was well sat...</td>\n",
              "      <td>I.Q.</td>\n",
              "      <td>1</td>\n",
              "    </tr>\n",
              "    <tr>\n",
              "      <th>4</th>\n",
              "      <td>5.0</td>\n",
              "      <td>000503860X</td>\n",
              "      <td>I have seen X live many times, both in the ear...</td>\n",
              "      <td>Junior</td>\n",
              "      <td>1</td>\n",
              "    </tr>\n",
              "  </tbody>\n",
              "</table>\n",
              "</div>"
            ],
            "text/plain": [
              "   overall        asin  ...   title label\n",
              "0      5.0  0005089549  ...    I.Q.     1\n",
              "1      5.0  0005089549  ...    I.Q.     1\n",
              "2      2.0  0005089549  ...    I.Q.     1\n",
              "3      5.0  0005089549  ...    I.Q.     1\n",
              "4      5.0  000503860X  ...  Junior     1\n",
              "\n",
              "[5 rows x 5 columns]"
            ]
          },
          "metadata": {
            "tags": []
          },
          "execution_count": 46
        }
      ]
    },
    {
      "cell_type": "markdown",
      "metadata": {
        "id": "AXvuYISB51nd",
        "colab_type": "text"
      },
      "source": [
        "We create a new variable with the mean of the labels for each movie that is in the list, an also with the number of reviews in the database. This is the variables we are going to use to improve our prediction. "
      ]
    },
    {
      "cell_type": "code",
      "metadata": {
        "id": "91LXUCYRUIVt",
        "colab_type": "code",
        "outputId": "5af9544d-105e-4e06-dec5-6b48cf9cb6d4",
        "colab": {
          "base_uri": "https://localhost:8080/",
          "height": 206
        }
      },
      "source": [
        "#Mean of the labels\n",
        "df_polarity_movie = df_polarity.groupby(['title'], as_index=False)[['label']].mean()\n",
        "df_polarity_movie.rename(columns = {'label':'polarity'}, inplace = True)\n",
        "\n",
        "#Nb of reviews\n",
        "count=df_polarity.groupby(['title'], as_index=False)[['label']].count()\n",
        "df_polarity_movie['nb_review']=list(count.label)\n",
        "df_polarity_movie.head()"
      ],
      "execution_count": 0,
      "outputs": [
        {
          "output_type": "execute_result",
          "data": {
            "text/html": [
              "<div>\n",
              "<style scoped>\n",
              "    .dataframe tbody tr th:only-of-type {\n",
              "        vertical-align: middle;\n",
              "    }\n",
              "\n",
              "    .dataframe tbody tr th {\n",
              "        vertical-align: top;\n",
              "    }\n",
              "\n",
              "    .dataframe thead th {\n",
              "        text-align: right;\n",
              "    }\n",
              "</style>\n",
              "<table border=\"1\" class=\"dataframe\">\n",
              "  <thead>\n",
              "    <tr style=\"text-align: right;\">\n",
              "      <th></th>\n",
              "      <th>title</th>\n",
              "      <th>polarity</th>\n",
              "      <th>nb_review</th>\n",
              "    </tr>\n",
              "  </thead>\n",
              "  <tbody>\n",
              "    <tr>\n",
              "      <th>0</th>\n",
              "      <td>10 Years</td>\n",
              "      <td>1.000000</td>\n",
              "      <td>6</td>\n",
              "    </tr>\n",
              "    <tr>\n",
              "      <th>1</th>\n",
              "      <td>101 Dalmatians</td>\n",
              "      <td>0.875000</td>\n",
              "      <td>8</td>\n",
              "    </tr>\n",
              "    <tr>\n",
              "      <th>2</th>\n",
              "      <td>12 Rounds 2: Reloaded</td>\n",
              "      <td>1.000000</td>\n",
              "      <td>8</td>\n",
              "    </tr>\n",
              "    <tr>\n",
              "      <th>3</th>\n",
              "      <td>12 Years a Slave</td>\n",
              "      <td>0.428571</td>\n",
              "      <td>7</td>\n",
              "    </tr>\n",
              "    <tr>\n",
              "      <th>4</th>\n",
              "      <td>16 Wishes</td>\n",
              "      <td>0.200000</td>\n",
              "      <td>5</td>\n",
              "    </tr>\n",
              "  </tbody>\n",
              "</table>\n",
              "</div>"
            ],
            "text/plain": [
              "                   title  polarity  nb_review\n",
              "0               10 Years  1.000000          6\n",
              "1         101 Dalmatians  0.875000          8\n",
              "2  12 Rounds 2: Reloaded  1.000000          8\n",
              "3       12 Years a Slave  0.428571          7\n",
              "4              16 Wishes  0.200000          5"
            ]
          },
          "metadata": {
            "tags": []
          },
          "execution_count": 47
        }
      ]
    },
    {
      "cell_type": "markdown",
      "metadata": {
        "id": "tkmTIe3O6jHu",
        "colab_type": "text"
      },
      "source": [
        "Now we add this new variables to our IMBD database. As we have no access to all the Amazon reviews database, the number of movies that have more than 100 votes and accessible reviews is 600. "
      ]
    },
    {
      "cell_type": "code",
      "metadata": {
        "id": "Xw60QE-iYKYj",
        "colab_type": "code",
        "outputId": "0db6332b-2892-4e50-aeb4-db4bf9374be5",
        "colab": {
          "base_uri": "https://localhost:8080/",
          "height": 442
        }
      },
      "source": [
        "#Dropping movies duplicate values \n",
        "df.drop_duplicates(subset =\"title\", keep = False, inplace = True) \n",
        "df.reset_index(drop=True, inplace=True)\n",
        "\n",
        "#We merge the movies database with the polarity one\n",
        "df=pd.merge(df, df_polarity_movie, how = 'inner', on ='title')\n",
        "\n",
        "s = 'Movies database has {:,} rows and {:,} columns'\n",
        "print(s.format(df.shape[0], df.shape[1]))\n",
        "df.head(3)"
      ],
      "execution_count": 0,
      "outputs": [
        {
          "output_type": "stream",
          "text": [
            "Movies database has 600 rows and 26 columns\n"
          ],
          "name": "stdout"
        },
        {
          "output_type": "execute_result",
          "data": {
            "text/html": [
              "<div>\n",
              "<style scoped>\n",
              "    .dataframe tbody tr th:only-of-type {\n",
              "        vertical-align: middle;\n",
              "    }\n",
              "\n",
              "    .dataframe tbody tr th {\n",
              "        vertical-align: top;\n",
              "    }\n",
              "\n",
              "    .dataframe thead th {\n",
              "        text-align: right;\n",
              "    }\n",
              "</style>\n",
              "<table border=\"1\" class=\"dataframe\">\n",
              "  <thead>\n",
              "    <tr style=\"text-align: right;\">\n",
              "      <th></th>\n",
              "      <th>adult</th>\n",
              "      <th>belongs_to_collection</th>\n",
              "      <th>budget</th>\n",
              "      <th>genres</th>\n",
              "      <th>homepage</th>\n",
              "      <th>id</th>\n",
              "      <th>imdb_id</th>\n",
              "      <th>original_language</th>\n",
              "      <th>original_title</th>\n",
              "      <th>overview</th>\n",
              "      <th>popularity</th>\n",
              "      <th>poster_path</th>\n",
              "      <th>production_companies</th>\n",
              "      <th>production_countries</th>\n",
              "      <th>release_date</th>\n",
              "      <th>revenue</th>\n",
              "      <th>runtime</th>\n",
              "      <th>spoken_languages</th>\n",
              "      <th>status</th>\n",
              "      <th>tagline</th>\n",
              "      <th>title</th>\n",
              "      <th>video</th>\n",
              "      <th>vote_average</th>\n",
              "      <th>vote_count</th>\n",
              "      <th>polarity</th>\n",
              "      <th>nb_review</th>\n",
              "    </tr>\n",
              "  </thead>\n",
              "  <tbody>\n",
              "    <tr>\n",
              "      <th>0</th>\n",
              "      <td>False</td>\n",
              "      <td>NaN</td>\n",
              "      <td>0</td>\n",
              "      <td>[{'id': 18, 'name': 'Drama'}, {'id': 10749, 'n...</td>\n",
              "      <td>NaN</td>\n",
              "      <td>649</td>\n",
              "      <td>tt0061395</td>\n",
              "      <td>fr</td>\n",
              "      <td>Belle de jour</td>\n",
              "      <td>Beautiful young housewife Séverine Serizy cann...</td>\n",
              "      <td>10.142662</td>\n",
              "      <td>/rHvKWARrhNwSjbTMJrn5v4LtUJE.jpg</td>\n",
              "      <td>[{'name': 'Paris Films Productions', 'id': 386...</td>\n",
              "      <td>[{'iso_3166_1': 'FR', 'name': 'France'}, {'iso...</td>\n",
              "      <td>1967-05-24</td>\n",
              "      <td>0.0</td>\n",
              "      <td>101.0</td>\n",
              "      <td>[{'iso_639_1': 'fr', 'name': 'Français'}, {'is...</td>\n",
              "      <td>Released</td>\n",
              "      <td>Luis Bunuel's Masterpiece of Erotica!</td>\n",
              "      <td>Belle de Jour</td>\n",
              "      <td>False</td>\n",
              "      <td>7.3</td>\n",
              "      <td>163.0</td>\n",
              "      <td>0.674419</td>\n",
              "      <td>43</td>\n",
              "    </tr>\n",
              "    <tr>\n",
              "      <th>1</th>\n",
              "      <td>False</td>\n",
              "      <td>{'id': 9887, 'name': 'Species Collection', 'po...</td>\n",
              "      <td>35000000</td>\n",
              "      <td>[{'id': 878, 'name': 'Science Fiction'}, {'id'...</td>\n",
              "      <td>NaN</td>\n",
              "      <td>9348</td>\n",
              "      <td>tt0114508</td>\n",
              "      <td>en</td>\n",
              "      <td>Species</td>\n",
              "      <td>In 1993, the Search for Extra Terrestrial Inte...</td>\n",
              "      <td>13.492845</td>\n",
              "      <td>/94P6kzKH8aPmQmPr9yZjgy7BtQQ.jpg</td>\n",
              "      <td>[{'name': 'Metro-Goldwyn-Mayer (MGM)', 'id': 8...</td>\n",
              "      <td>[{'iso_3166_1': 'US', 'name': 'United States o...</td>\n",
              "      <td>1995-07-07</td>\n",
              "      <td>113374103.0</td>\n",
              "      <td>108.0</td>\n",
              "      <td>[{'iso_639_1': 'en', 'name': 'English'}]</td>\n",
              "      <td>Released</td>\n",
              "      <td>Our time is up.</td>\n",
              "      <td>Species</td>\n",
              "      <td>False</td>\n",
              "      <td>5.5</td>\n",
              "      <td>457.0</td>\n",
              "      <td>0.867987</td>\n",
              "      <td>303</td>\n",
              "    </tr>\n",
              "    <tr>\n",
              "      <th>2</th>\n",
              "      <td>False</td>\n",
              "      <td>NaN</td>\n",
              "      <td>25000000</td>\n",
              "      <td>[{'id': 35, 'name': 'Comedy'}, {'id': 18, 'nam...</td>\n",
              "      <td>NaN</td>\n",
              "      <td>11777</td>\n",
              "      <td>tt0110099</td>\n",
              "      <td>en</td>\n",
              "      <td>I.Q.</td>\n",
              "      <td>Albert Einstein helps a young man who's in lov...</td>\n",
              "      <td>5.146351999999999</td>\n",
              "      <td>/kAYymfWcktoHSjQJEtfEIeByZR9.jpg</td>\n",
              "      <td>[{'name': 'Paramount Pictures', 'id': 4}]</td>\n",
              "      <td>[{'iso_3166_1': 'US', 'name': 'United States o...</td>\n",
              "      <td>1994-12-24</td>\n",
              "      <td>0.0</td>\n",
              "      <td>100.0</td>\n",
              "      <td>[{'iso_639_1': 'en', 'name': 'English'}, {'iso...</td>\n",
              "      <td>Released</td>\n",
              "      <td>Think Love.</td>\n",
              "      <td>I.Q.</td>\n",
              "      <td>False</td>\n",
              "      <td>5.9</td>\n",
              "      <td>112.0</td>\n",
              "      <td>1.000000</td>\n",
              "      <td>4</td>\n",
              "    </tr>\n",
              "  </tbody>\n",
              "</table>\n",
              "</div>"
            ],
            "text/plain": [
              "   adult  ... nb_review\n",
              "0  False  ...        43\n",
              "1  False  ...       303\n",
              "2  False  ...         4\n",
              "\n",
              "[3 rows x 26 columns]"
            ]
          },
          "metadata": {
            "tags": []
          },
          "execution_count": 48
        }
      ]
    },
    {
      "cell_type": "markdown",
      "metadata": {
        "id": "FL8qZe6lKWUm",
        "colab_type": "text"
      },
      "source": [
        "After the data analysis, we are going to drop some variables that does not seem to be very interesting for the prediction of the rating. Thus we are going to drop : \"homepage\", \"imdb_id\" (keeping \"id\" is enough), \"poster_path\", \"status\" and \"video\". We are not going to keep the variable \"production_countries\" and \"spoken_languages\" because they are correlated with the 'original_language' and/or give no more information. There are too many production companies so we are going to drop this column too. \n",
        "\n",
        "The variables variables \"adult\" and \"belongs_to_collection\" are transformed into dummies. \n"
      ]
    },
    {
      "cell_type": "code",
      "metadata": {
        "id": "6rGaxO5vKVSi",
        "colab_type": "code",
        "colab": {}
      },
      "source": [
        "df.drop(['homepage', 'imdb_id', 'poster_path', 'status','video','original_title','production_countries', 'spoken_languages','production_companies'], axis=1,inplace=True)\n",
        "df['adult'] = pd.get_dummies(df['adult'])\n",
        "df['belongs_to_collection'] = pd.isna(df['belongs_to_collection'])\n",
        "df['belongs_to_collection'] = pd.get_dummies(df['belongs_to_collection'])"
      ],
      "execution_count": 0,
      "outputs": []
    },
    {
      "cell_type": "markdown",
      "metadata": {
        "id": "SVJSi4NQfua1",
        "colab_type": "text"
      },
      "source": [
        " We distinguish between films in english, french or other languages."
      ]
    },
    {
      "cell_type": "code",
      "metadata": {
        "id": "Bv1ncSLrreVN",
        "colab_type": "code",
        "colab": {}
      },
      "source": [
        "df['en']=1*(df.original_language=='en')\n",
        "df['fr']=1*(df.original_language=='fr')\n",
        "df.drop(['original_language'], axis=1,inplace=True)"
      ],
      "execution_count": 0,
      "outputs": []
    },
    {
      "cell_type": "markdown",
      "metadata": {
        "id": "2Ggd94h7tN6C",
        "colab_type": "text"
      },
      "source": [
        "We create two new dummies variables from 'release_date' : 'year' and 'month'. "
      ]
    },
    {
      "cell_type": "code",
      "metadata": {
        "id": "jttiXr28tOF_",
        "colab_type": "code",
        "outputId": "90d9db04-a41a-4c37-ea50-43ff9fb08c21",
        "colab": {
          "base_uri": "https://localhost:8080/",
          "height": 442
        }
      },
      "source": [
        "#Creation of new variables 'year' and 'month' instead of 'release-date'\n",
        "df=df.dropna(subset=['release_date'])\n",
        "df['release_date']=df['release_date'].astype(str)\n",
        "df['release_date'] = pd.to_datetime(df['release_date'], errors='coerce', format='%Y-%m-%d')\n",
        "df['year'] = pd.DatetimeIndex(df['release_date']).year\n",
        "df['month'] = pd.DatetimeIndex(df['release_date']).month\n",
        "df = df.drop(['release_date'], axis=1)\n",
        "\n",
        "#Turning them into dummies\n",
        "df_month = pd.get_dummies(df['month'])\n",
        "df = pd.concat([df, df_month], axis = 1)\n",
        "df.drop(['month'], axis=1,inplace=True)\n",
        "df.rename(columns={1.0: \"january\", 2.0: \"february\", 3.0: \"march\", 4.0: \"april\", 5.0: \"may\", 6.0: \"june\", 7.0: \"july\", 8.0: \"august\", 9.0: \"september\", 10.0: \"october\", 11.0: \"november\", 12.0: \"december\"},inplace=True)\n",
        "\n",
        "s = 'Movies database has {:,} rows and {:,} columns'\n",
        "print(s.format(df.shape[0], df.shape[1]))\n",
        "df.head(3)"
      ],
      "execution_count": 0,
      "outputs": [
        {
          "output_type": "stream",
          "text": [
            "Movies database has 600 rows and 30 columns\n"
          ],
          "name": "stdout"
        },
        {
          "output_type": "execute_result",
          "data": {
            "text/html": [
              "<div>\n",
              "<style scoped>\n",
              "    .dataframe tbody tr th:only-of-type {\n",
              "        vertical-align: middle;\n",
              "    }\n",
              "\n",
              "    .dataframe tbody tr th {\n",
              "        vertical-align: top;\n",
              "    }\n",
              "\n",
              "    .dataframe thead th {\n",
              "        text-align: right;\n",
              "    }\n",
              "</style>\n",
              "<table border=\"1\" class=\"dataframe\">\n",
              "  <thead>\n",
              "    <tr style=\"text-align: right;\">\n",
              "      <th></th>\n",
              "      <th>adult</th>\n",
              "      <th>belongs_to_collection</th>\n",
              "      <th>budget</th>\n",
              "      <th>genres</th>\n",
              "      <th>id</th>\n",
              "      <th>overview</th>\n",
              "      <th>popularity</th>\n",
              "      <th>revenue</th>\n",
              "      <th>runtime</th>\n",
              "      <th>tagline</th>\n",
              "      <th>title</th>\n",
              "      <th>vote_average</th>\n",
              "      <th>vote_count</th>\n",
              "      <th>polarity</th>\n",
              "      <th>nb_review</th>\n",
              "      <th>en</th>\n",
              "      <th>fr</th>\n",
              "      <th>year</th>\n",
              "      <th>january</th>\n",
              "      <th>february</th>\n",
              "      <th>march</th>\n",
              "      <th>april</th>\n",
              "      <th>may</th>\n",
              "      <th>june</th>\n",
              "      <th>july</th>\n",
              "      <th>august</th>\n",
              "      <th>september</th>\n",
              "      <th>october</th>\n",
              "      <th>november</th>\n",
              "      <th>december</th>\n",
              "    </tr>\n",
              "  </thead>\n",
              "  <tbody>\n",
              "    <tr>\n",
              "      <th>0</th>\n",
              "      <td>1</td>\n",
              "      <td>0</td>\n",
              "      <td>0</td>\n",
              "      <td>[{'id': 18, 'name': 'Drama'}, {'id': 10749, 'n...</td>\n",
              "      <td>649</td>\n",
              "      <td>Beautiful young housewife Séverine Serizy cann...</td>\n",
              "      <td>10.142662</td>\n",
              "      <td>0.0</td>\n",
              "      <td>101.0</td>\n",
              "      <td>Luis Bunuel's Masterpiece of Erotica!</td>\n",
              "      <td>Belle de Jour</td>\n",
              "      <td>7.3</td>\n",
              "      <td>163.0</td>\n",
              "      <td>0.674419</td>\n",
              "      <td>43</td>\n",
              "      <td>0</td>\n",
              "      <td>1</td>\n",
              "      <td>1967</td>\n",
              "      <td>0</td>\n",
              "      <td>0</td>\n",
              "      <td>0</td>\n",
              "      <td>0</td>\n",
              "      <td>1</td>\n",
              "      <td>0</td>\n",
              "      <td>0</td>\n",
              "      <td>0</td>\n",
              "      <td>0</td>\n",
              "      <td>0</td>\n",
              "      <td>0</td>\n",
              "      <td>0</td>\n",
              "    </tr>\n",
              "    <tr>\n",
              "      <th>1</th>\n",
              "      <td>1</td>\n",
              "      <td>1</td>\n",
              "      <td>35000000</td>\n",
              "      <td>[{'id': 878, 'name': 'Science Fiction'}, {'id'...</td>\n",
              "      <td>9348</td>\n",
              "      <td>In 1993, the Search for Extra Terrestrial Inte...</td>\n",
              "      <td>13.492845</td>\n",
              "      <td>113374103.0</td>\n",
              "      <td>108.0</td>\n",
              "      <td>Our time is up.</td>\n",
              "      <td>Species</td>\n",
              "      <td>5.5</td>\n",
              "      <td>457.0</td>\n",
              "      <td>0.867987</td>\n",
              "      <td>303</td>\n",
              "      <td>1</td>\n",
              "      <td>0</td>\n",
              "      <td>1995</td>\n",
              "      <td>0</td>\n",
              "      <td>0</td>\n",
              "      <td>0</td>\n",
              "      <td>0</td>\n",
              "      <td>0</td>\n",
              "      <td>0</td>\n",
              "      <td>1</td>\n",
              "      <td>0</td>\n",
              "      <td>0</td>\n",
              "      <td>0</td>\n",
              "      <td>0</td>\n",
              "      <td>0</td>\n",
              "    </tr>\n",
              "    <tr>\n",
              "      <th>2</th>\n",
              "      <td>1</td>\n",
              "      <td>0</td>\n",
              "      <td>25000000</td>\n",
              "      <td>[{'id': 35, 'name': 'Comedy'}, {'id': 18, 'nam...</td>\n",
              "      <td>11777</td>\n",
              "      <td>Albert Einstein helps a young man who's in lov...</td>\n",
              "      <td>5.146351999999999</td>\n",
              "      <td>0.0</td>\n",
              "      <td>100.0</td>\n",
              "      <td>Think Love.</td>\n",
              "      <td>I.Q.</td>\n",
              "      <td>5.9</td>\n",
              "      <td>112.0</td>\n",
              "      <td>1.000000</td>\n",
              "      <td>4</td>\n",
              "      <td>1</td>\n",
              "      <td>0</td>\n",
              "      <td>1994</td>\n",
              "      <td>0</td>\n",
              "      <td>0</td>\n",
              "      <td>0</td>\n",
              "      <td>0</td>\n",
              "      <td>0</td>\n",
              "      <td>0</td>\n",
              "      <td>0</td>\n",
              "      <td>0</td>\n",
              "      <td>0</td>\n",
              "      <td>0</td>\n",
              "      <td>0</td>\n",
              "      <td>1</td>\n",
              "    </tr>\n",
              "  </tbody>\n",
              "</table>\n",
              "</div>"
            ],
            "text/plain": [
              "   adult  belongs_to_collection    budget  ... october november december\n",
              "0      1                      0         0  ...       0        0        0\n",
              "1      1                      1  35000000  ...       0        0        0\n",
              "2      1                      0  25000000  ...       0        0        1\n",
              "\n",
              "[3 rows x 30 columns]"
            ]
          },
          "metadata": {
            "tags": []
          },
          "execution_count": 51
        }
      ]
    },
    {
      "cell_type": "markdown",
      "metadata": {
        "id": "8fq2mrMXUdCf",
        "colab_type": "text"
      },
      "source": [
        "In order to use the values that are contained in the dictionnaries we create a function that extract the information out the string columns that contain lists of dictionaries, and then we create dummy columns for the categorical columns. "
      ]
    },
    {
      "cell_type": "code",
      "metadata": {
        "id": "JgrZEky6yboh",
        "colab_type": "code",
        "outputId": "89f20d4b-48db-4bbc-eff7-d57855ada1bd",
        "colab": {
          "base_uri": "https://localhost:8080/",
          "height": 424
        }
      },
      "source": [
        "#We create a function that extract the information out the string columns that contain lists of dictionaries\n",
        "\n",
        "import re\n",
        "\n",
        "patternname = r\"(?:.name.: .)(\\w{1,}\\s{0,}\\w{0,})\"\n",
        "patternlang = r\"(?:.iso_639_1.: .)(\\w{1,}\\s{0,}\\w{0,})\"\n",
        "\n",
        "def dict2list(x):\n",
        "    if type(x) is str:\n",
        "        templist = x.strip('[]').split(',')\n",
        "        namelist = []\n",
        "        lang = False\n",
        "        for element in templist:\n",
        "            if re.search(patternlang, element):\n",
        "                namelist.append(re.search(patternlang, element).group(0)[14:])\n",
        "                lang = True\n",
        "            elif re.search(patternname, element) and not lang:\n",
        "                namelist.append(re.search(patternname, element).group(0)[9:])\n",
        "        if len(namelist) > 0:\n",
        "            return {k: 1 for k in namelist}\n",
        "        else:\n",
        "            return x\n",
        "    else:\n",
        "        return x\n",
        "\n",
        "df_extrait = df.applymap(dict2list)\n",
        "df_extrait.head(3)"
      ],
      "execution_count": 0,
      "outputs": [
        {
          "output_type": "execute_result",
          "data": {
            "text/html": [
              "<div>\n",
              "<style scoped>\n",
              "    .dataframe tbody tr th:only-of-type {\n",
              "        vertical-align: middle;\n",
              "    }\n",
              "\n",
              "    .dataframe tbody tr th {\n",
              "        vertical-align: top;\n",
              "    }\n",
              "\n",
              "    .dataframe thead th {\n",
              "        text-align: right;\n",
              "    }\n",
              "</style>\n",
              "<table border=\"1\" class=\"dataframe\">\n",
              "  <thead>\n",
              "    <tr style=\"text-align: right;\">\n",
              "      <th></th>\n",
              "      <th>adult</th>\n",
              "      <th>belongs_to_collection</th>\n",
              "      <th>budget</th>\n",
              "      <th>genres</th>\n",
              "      <th>id</th>\n",
              "      <th>overview</th>\n",
              "      <th>popularity</th>\n",
              "      <th>revenue</th>\n",
              "      <th>runtime</th>\n",
              "      <th>tagline</th>\n",
              "      <th>title</th>\n",
              "      <th>vote_average</th>\n",
              "      <th>vote_count</th>\n",
              "      <th>polarity</th>\n",
              "      <th>nb_review</th>\n",
              "      <th>en</th>\n",
              "      <th>fr</th>\n",
              "      <th>year</th>\n",
              "      <th>january</th>\n",
              "      <th>february</th>\n",
              "      <th>march</th>\n",
              "      <th>april</th>\n",
              "      <th>may</th>\n",
              "      <th>june</th>\n",
              "      <th>july</th>\n",
              "      <th>august</th>\n",
              "      <th>september</th>\n",
              "      <th>october</th>\n",
              "      <th>november</th>\n",
              "      <th>december</th>\n",
              "    </tr>\n",
              "  </thead>\n",
              "  <tbody>\n",
              "    <tr>\n",
              "      <th>0</th>\n",
              "      <td>1</td>\n",
              "      <td>0</td>\n",
              "      <td>0</td>\n",
              "      <td>{'Drama': 1, 'Romance': 1}</td>\n",
              "      <td>649</td>\n",
              "      <td>Beautiful young housewife Séverine Serizy cann...</td>\n",
              "      <td>10.142662</td>\n",
              "      <td>0.0</td>\n",
              "      <td>101.0</td>\n",
              "      <td>Luis Bunuel's Masterpiece of Erotica!</td>\n",
              "      <td>Belle de Jour</td>\n",
              "      <td>7.3</td>\n",
              "      <td>163.0</td>\n",
              "      <td>0.674419</td>\n",
              "      <td>43</td>\n",
              "      <td>0</td>\n",
              "      <td>1</td>\n",
              "      <td>1967</td>\n",
              "      <td>0</td>\n",
              "      <td>0</td>\n",
              "      <td>0</td>\n",
              "      <td>0</td>\n",
              "      <td>1</td>\n",
              "      <td>0</td>\n",
              "      <td>0</td>\n",
              "      <td>0</td>\n",
              "      <td>0</td>\n",
              "      <td>0</td>\n",
              "      <td>0</td>\n",
              "      <td>0</td>\n",
              "    </tr>\n",
              "    <tr>\n",
              "      <th>1</th>\n",
              "      <td>1</td>\n",
              "      <td>1</td>\n",
              "      <td>35000000</td>\n",
              "      <td>{'Science Fiction': 1, 'Horror': 1, 'Action': 1}</td>\n",
              "      <td>9348</td>\n",
              "      <td>In 1993, the Search for Extra Terrestrial Inte...</td>\n",
              "      <td>13.492845</td>\n",
              "      <td>113374103.0</td>\n",
              "      <td>108.0</td>\n",
              "      <td>Our time is up.</td>\n",
              "      <td>Species</td>\n",
              "      <td>5.5</td>\n",
              "      <td>457.0</td>\n",
              "      <td>0.867987</td>\n",
              "      <td>303</td>\n",
              "      <td>1</td>\n",
              "      <td>0</td>\n",
              "      <td>1995</td>\n",
              "      <td>0</td>\n",
              "      <td>0</td>\n",
              "      <td>0</td>\n",
              "      <td>0</td>\n",
              "      <td>0</td>\n",
              "      <td>0</td>\n",
              "      <td>1</td>\n",
              "      <td>0</td>\n",
              "      <td>0</td>\n",
              "      <td>0</td>\n",
              "      <td>0</td>\n",
              "      <td>0</td>\n",
              "    </tr>\n",
              "    <tr>\n",
              "      <th>2</th>\n",
              "      <td>1</td>\n",
              "      <td>0</td>\n",
              "      <td>25000000</td>\n",
              "      <td>{'Comedy': 1, 'Drama': 1, 'Romance': 1}</td>\n",
              "      <td>11777</td>\n",
              "      <td>Albert Einstein helps a young man who's in lov...</td>\n",
              "      <td>5.146351999999999</td>\n",
              "      <td>0.0</td>\n",
              "      <td>100.0</td>\n",
              "      <td>Think Love.</td>\n",
              "      <td>I.Q.</td>\n",
              "      <td>5.9</td>\n",
              "      <td>112.0</td>\n",
              "      <td>1.000000</td>\n",
              "      <td>4</td>\n",
              "      <td>1</td>\n",
              "      <td>0</td>\n",
              "      <td>1994</td>\n",
              "      <td>0</td>\n",
              "      <td>0</td>\n",
              "      <td>0</td>\n",
              "      <td>0</td>\n",
              "      <td>0</td>\n",
              "      <td>0</td>\n",
              "      <td>0</td>\n",
              "      <td>0</td>\n",
              "      <td>0</td>\n",
              "      <td>0</td>\n",
              "      <td>0</td>\n",
              "      <td>1</td>\n",
              "    </tr>\n",
              "  </tbody>\n",
              "</table>\n",
              "</div>"
            ],
            "text/plain": [
              "   adult  belongs_to_collection    budget  ... october november december\n",
              "0      1                      0         0  ...       0        0        0\n",
              "1      1                      1  35000000  ...       0        0        0\n",
              "2      1                      0  25000000  ...       0        0        1\n",
              "\n",
              "[3 rows x 30 columns]"
            ]
          },
          "metadata": {
            "tags": []
          },
          "execution_count": 52
        }
      ]
    },
    {
      "cell_type": "code",
      "metadata": {
        "id": "DfhrWL-9zCn6",
        "colab_type": "code",
        "colab": {}
      },
      "source": [
        "#We now use the created dictionaries to create dummy columns for the categorical columns\n",
        "def dict2dummy(df,columns):\n",
        "    columnnames = {}\n",
        "    for col in columns:\n",
        "        columnnames[col] = list(df[col].apply(pd.Series))\n",
        "        df = pd.concat([df.drop([col], axis=1), df[col].apply(pd.Series).fillna(0)],axis=1)\n",
        "    return df,columnnames"
      ],
      "execution_count": 0,
      "outputs": []
    },
    {
      "cell_type": "code",
      "metadata": {
        "id": "z-zWdIErdSf8",
        "colab_type": "code",
        "colab": {}
      },
      "source": [
        "dummyfeatures = ['genres']\n",
        "df,columndictionary = dict2dummy(df_extrait,dummyfeatures)"
      ],
      "execution_count": 0,
      "outputs": []
    },
    {
      "cell_type": "markdown",
      "metadata": {
        "id": "3SCv43PmNdZV",
        "colab_type": "text"
      },
      "source": [
        "Now we are going to drop the rows for which the main variables are NaN and those for which the variables are strings instead of numbers (as we saw in the data analysis). "
      ]
    },
    {
      "cell_type": "code",
      "metadata": {
        "id": "-8BOkmwvXbsc",
        "colab_type": "code",
        "outputId": "72bbb597-60dc-464c-bc70-7aa8ab02e942",
        "colab": {
          "base_uri": "https://localhost:8080/",
          "height": 441
        }
      },
      "source": [
        "df.popularity = pd.to_numeric(df.popularity, errors='coerce')\n",
        "df.budget = pd.to_numeric(df.budget, errors='coerce')\n",
        "\n",
        "df.head(3)"
      ],
      "execution_count": 0,
      "outputs": [
        {
          "output_type": "execute_result",
          "data": {
            "text/html": [
              "<div>\n",
              "<style scoped>\n",
              "    .dataframe tbody tr th:only-of-type {\n",
              "        vertical-align: middle;\n",
              "    }\n",
              "\n",
              "    .dataframe tbody tr th {\n",
              "        vertical-align: top;\n",
              "    }\n",
              "\n",
              "    .dataframe thead th {\n",
              "        text-align: right;\n",
              "    }\n",
              "</style>\n",
              "<table border=\"1\" class=\"dataframe\">\n",
              "  <thead>\n",
              "    <tr style=\"text-align: right;\">\n",
              "      <th></th>\n",
              "      <th>adult</th>\n",
              "      <th>belongs_to_collection</th>\n",
              "      <th>budget</th>\n",
              "      <th>id</th>\n",
              "      <th>overview</th>\n",
              "      <th>popularity</th>\n",
              "      <th>revenue</th>\n",
              "      <th>runtime</th>\n",
              "      <th>tagline</th>\n",
              "      <th>title</th>\n",
              "      <th>vote_average</th>\n",
              "      <th>vote_count</th>\n",
              "      <th>polarity</th>\n",
              "      <th>nb_review</th>\n",
              "      <th>en</th>\n",
              "      <th>fr</th>\n",
              "      <th>year</th>\n",
              "      <th>january</th>\n",
              "      <th>february</th>\n",
              "      <th>march</th>\n",
              "      <th>april</th>\n",
              "      <th>may</th>\n",
              "      <th>june</th>\n",
              "      <th>july</th>\n",
              "      <th>august</th>\n",
              "      <th>september</th>\n",
              "      <th>october</th>\n",
              "      <th>november</th>\n",
              "      <th>december</th>\n",
              "      <th>Drama</th>\n",
              "      <th>Romance</th>\n",
              "      <th>Science Fiction</th>\n",
              "      <th>Horror</th>\n",
              "      <th>Action</th>\n",
              "      <th>Comedy</th>\n",
              "      <th>Adventure</th>\n",
              "      <th>War</th>\n",
              "      <th>Crime</th>\n",
              "      <th>Thriller</th>\n",
              "      <th>Animation</th>\n",
              "      <th>Mystery</th>\n",
              "      <th>Fantasy</th>\n",
              "      <th>History</th>\n",
              "      <th>Family</th>\n",
              "      <th>Music</th>\n",
              "      <th>Western</th>\n",
              "      <th>Documentary</th>\n",
              "      <th>TV Movie</th>\n",
              "    </tr>\n",
              "  </thead>\n",
              "  <tbody>\n",
              "    <tr>\n",
              "      <th>0</th>\n",
              "      <td>1</td>\n",
              "      <td>0</td>\n",
              "      <td>0</td>\n",
              "      <td>649</td>\n",
              "      <td>Beautiful young housewife Séverine Serizy cann...</td>\n",
              "      <td>10.142662</td>\n",
              "      <td>0.0</td>\n",
              "      <td>101.0</td>\n",
              "      <td>Luis Bunuel's Masterpiece of Erotica!</td>\n",
              "      <td>Belle de Jour</td>\n",
              "      <td>7.3</td>\n",
              "      <td>163.0</td>\n",
              "      <td>0.674419</td>\n",
              "      <td>43</td>\n",
              "      <td>0</td>\n",
              "      <td>1</td>\n",
              "      <td>1967</td>\n",
              "      <td>0</td>\n",
              "      <td>0</td>\n",
              "      <td>0</td>\n",
              "      <td>0</td>\n",
              "      <td>1</td>\n",
              "      <td>0</td>\n",
              "      <td>0</td>\n",
              "      <td>0</td>\n",
              "      <td>0</td>\n",
              "      <td>0</td>\n",
              "      <td>0</td>\n",
              "      <td>0</td>\n",
              "      <td>1.0</td>\n",
              "      <td>1.0</td>\n",
              "      <td>0.0</td>\n",
              "      <td>0.0</td>\n",
              "      <td>0.0</td>\n",
              "      <td>0.0</td>\n",
              "      <td>0.0</td>\n",
              "      <td>0.0</td>\n",
              "      <td>0.0</td>\n",
              "      <td>0.0</td>\n",
              "      <td>0.0</td>\n",
              "      <td>0.0</td>\n",
              "      <td>0.0</td>\n",
              "      <td>0.0</td>\n",
              "      <td>0.0</td>\n",
              "      <td>0.0</td>\n",
              "      <td>0.0</td>\n",
              "      <td>0.0</td>\n",
              "      <td>0.0</td>\n",
              "    </tr>\n",
              "    <tr>\n",
              "      <th>1</th>\n",
              "      <td>1</td>\n",
              "      <td>1</td>\n",
              "      <td>35000000</td>\n",
              "      <td>9348</td>\n",
              "      <td>In 1993, the Search for Extra Terrestrial Inte...</td>\n",
              "      <td>13.492845</td>\n",
              "      <td>113374103.0</td>\n",
              "      <td>108.0</td>\n",
              "      <td>Our time is up.</td>\n",
              "      <td>Species</td>\n",
              "      <td>5.5</td>\n",
              "      <td>457.0</td>\n",
              "      <td>0.867987</td>\n",
              "      <td>303</td>\n",
              "      <td>1</td>\n",
              "      <td>0</td>\n",
              "      <td>1995</td>\n",
              "      <td>0</td>\n",
              "      <td>0</td>\n",
              "      <td>0</td>\n",
              "      <td>0</td>\n",
              "      <td>0</td>\n",
              "      <td>0</td>\n",
              "      <td>1</td>\n",
              "      <td>0</td>\n",
              "      <td>0</td>\n",
              "      <td>0</td>\n",
              "      <td>0</td>\n",
              "      <td>0</td>\n",
              "      <td>0.0</td>\n",
              "      <td>0.0</td>\n",
              "      <td>1.0</td>\n",
              "      <td>1.0</td>\n",
              "      <td>1.0</td>\n",
              "      <td>0.0</td>\n",
              "      <td>0.0</td>\n",
              "      <td>0.0</td>\n",
              "      <td>0.0</td>\n",
              "      <td>0.0</td>\n",
              "      <td>0.0</td>\n",
              "      <td>0.0</td>\n",
              "      <td>0.0</td>\n",
              "      <td>0.0</td>\n",
              "      <td>0.0</td>\n",
              "      <td>0.0</td>\n",
              "      <td>0.0</td>\n",
              "      <td>0.0</td>\n",
              "      <td>0.0</td>\n",
              "    </tr>\n",
              "    <tr>\n",
              "      <th>2</th>\n",
              "      <td>1</td>\n",
              "      <td>0</td>\n",
              "      <td>25000000</td>\n",
              "      <td>11777</td>\n",
              "      <td>Albert Einstein helps a young man who's in lov...</td>\n",
              "      <td>5.146352</td>\n",
              "      <td>0.0</td>\n",
              "      <td>100.0</td>\n",
              "      <td>Think Love.</td>\n",
              "      <td>I.Q.</td>\n",
              "      <td>5.9</td>\n",
              "      <td>112.0</td>\n",
              "      <td>1.000000</td>\n",
              "      <td>4</td>\n",
              "      <td>1</td>\n",
              "      <td>0</td>\n",
              "      <td>1994</td>\n",
              "      <td>0</td>\n",
              "      <td>0</td>\n",
              "      <td>0</td>\n",
              "      <td>0</td>\n",
              "      <td>0</td>\n",
              "      <td>0</td>\n",
              "      <td>0</td>\n",
              "      <td>0</td>\n",
              "      <td>0</td>\n",
              "      <td>0</td>\n",
              "      <td>0</td>\n",
              "      <td>1</td>\n",
              "      <td>1.0</td>\n",
              "      <td>1.0</td>\n",
              "      <td>0.0</td>\n",
              "      <td>0.0</td>\n",
              "      <td>0.0</td>\n",
              "      <td>1.0</td>\n",
              "      <td>0.0</td>\n",
              "      <td>0.0</td>\n",
              "      <td>0.0</td>\n",
              "      <td>0.0</td>\n",
              "      <td>0.0</td>\n",
              "      <td>0.0</td>\n",
              "      <td>0.0</td>\n",
              "      <td>0.0</td>\n",
              "      <td>0.0</td>\n",
              "      <td>0.0</td>\n",
              "      <td>0.0</td>\n",
              "      <td>0.0</td>\n",
              "      <td>0.0</td>\n",
              "    </tr>\n",
              "  </tbody>\n",
              "</table>\n",
              "</div>"
            ],
            "text/plain": [
              "   adult  belongs_to_collection    budget  ... Western Documentary  TV Movie\n",
              "0      1                      0         0  ...     0.0         0.0       0.0\n",
              "1      1                      1  35000000  ...     0.0         0.0       0.0\n",
              "2      1                      0  25000000  ...     0.0         0.0       0.0\n",
              "\n",
              "[3 rows x 48 columns]"
            ]
          },
          "metadata": {
            "tags": []
          },
          "execution_count": 55
        }
      ]
    },
    {
      "cell_type": "markdown",
      "metadata": {
        "id": "Um9UGvRzSwsc",
        "colab_type": "text"
      },
      "source": [
        "Now we are going to drop the rows for which the main variables are NaN. We also drop the variables \"title\" and \"tagline\"."
      ]
    },
    {
      "cell_type": "code",
      "metadata": {
        "id": "V44tLaW8TxlX",
        "colab_type": "code",
        "outputId": "2bbf6700-ce6e-44fb-88e5-13d57f187ca0",
        "colab": {
          "base_uri": "https://localhost:8080/",
          "height": 460
        }
      },
      "source": [
        "df_NLP = df.drop(['tagline', 'title'], axis=1)\n",
        "#We keep only the rows without NaN\n",
        "df_NLP=df_NLP.dropna()\n",
        "\n",
        "s = 'The prediction database with NLP has {:,} rows and {:,} columns'\n",
        "print(s.format(df_NLP.shape[0], df_NLP.shape[1]))\n",
        "df_NLP.head(3)"
      ],
      "execution_count": 0,
      "outputs": [
        {
          "output_type": "stream",
          "text": [
            "The prediction database with NLP has 600 rows and 46 columns\n"
          ],
          "name": "stdout"
        },
        {
          "output_type": "execute_result",
          "data": {
            "text/html": [
              "<div>\n",
              "<style scoped>\n",
              "    .dataframe tbody tr th:only-of-type {\n",
              "        vertical-align: middle;\n",
              "    }\n",
              "\n",
              "    .dataframe tbody tr th {\n",
              "        vertical-align: top;\n",
              "    }\n",
              "\n",
              "    .dataframe thead th {\n",
              "        text-align: right;\n",
              "    }\n",
              "</style>\n",
              "<table border=\"1\" class=\"dataframe\">\n",
              "  <thead>\n",
              "    <tr style=\"text-align: right;\">\n",
              "      <th></th>\n",
              "      <th>adult</th>\n",
              "      <th>belongs_to_collection</th>\n",
              "      <th>budget</th>\n",
              "      <th>id</th>\n",
              "      <th>overview</th>\n",
              "      <th>popularity</th>\n",
              "      <th>revenue</th>\n",
              "      <th>runtime</th>\n",
              "      <th>vote_average</th>\n",
              "      <th>vote_count</th>\n",
              "      <th>polarity</th>\n",
              "      <th>nb_review</th>\n",
              "      <th>en</th>\n",
              "      <th>fr</th>\n",
              "      <th>year</th>\n",
              "      <th>january</th>\n",
              "      <th>february</th>\n",
              "      <th>march</th>\n",
              "      <th>april</th>\n",
              "      <th>may</th>\n",
              "      <th>june</th>\n",
              "      <th>july</th>\n",
              "      <th>august</th>\n",
              "      <th>september</th>\n",
              "      <th>october</th>\n",
              "      <th>november</th>\n",
              "      <th>december</th>\n",
              "      <th>Drama</th>\n",
              "      <th>Romance</th>\n",
              "      <th>Science Fiction</th>\n",
              "      <th>Horror</th>\n",
              "      <th>Action</th>\n",
              "      <th>Comedy</th>\n",
              "      <th>Adventure</th>\n",
              "      <th>War</th>\n",
              "      <th>Crime</th>\n",
              "      <th>Thriller</th>\n",
              "      <th>Animation</th>\n",
              "      <th>Mystery</th>\n",
              "      <th>Fantasy</th>\n",
              "      <th>History</th>\n",
              "      <th>Family</th>\n",
              "      <th>Music</th>\n",
              "      <th>Western</th>\n",
              "      <th>Documentary</th>\n",
              "      <th>TV Movie</th>\n",
              "    </tr>\n",
              "  </thead>\n",
              "  <tbody>\n",
              "    <tr>\n",
              "      <th>0</th>\n",
              "      <td>1</td>\n",
              "      <td>0</td>\n",
              "      <td>0</td>\n",
              "      <td>649</td>\n",
              "      <td>Beautiful young housewife Séverine Serizy cann...</td>\n",
              "      <td>10.142662</td>\n",
              "      <td>0.0</td>\n",
              "      <td>101.0</td>\n",
              "      <td>7.3</td>\n",
              "      <td>163.0</td>\n",
              "      <td>0.674419</td>\n",
              "      <td>43</td>\n",
              "      <td>0</td>\n",
              "      <td>1</td>\n",
              "      <td>1967</td>\n",
              "      <td>0</td>\n",
              "      <td>0</td>\n",
              "      <td>0</td>\n",
              "      <td>0</td>\n",
              "      <td>1</td>\n",
              "      <td>0</td>\n",
              "      <td>0</td>\n",
              "      <td>0</td>\n",
              "      <td>0</td>\n",
              "      <td>0</td>\n",
              "      <td>0</td>\n",
              "      <td>0</td>\n",
              "      <td>1.0</td>\n",
              "      <td>1.0</td>\n",
              "      <td>0.0</td>\n",
              "      <td>0.0</td>\n",
              "      <td>0.0</td>\n",
              "      <td>0.0</td>\n",
              "      <td>0.0</td>\n",
              "      <td>0.0</td>\n",
              "      <td>0.0</td>\n",
              "      <td>0.0</td>\n",
              "      <td>0.0</td>\n",
              "      <td>0.0</td>\n",
              "      <td>0.0</td>\n",
              "      <td>0.0</td>\n",
              "      <td>0.0</td>\n",
              "      <td>0.0</td>\n",
              "      <td>0.0</td>\n",
              "      <td>0.0</td>\n",
              "      <td>0.0</td>\n",
              "    </tr>\n",
              "    <tr>\n",
              "      <th>1</th>\n",
              "      <td>1</td>\n",
              "      <td>1</td>\n",
              "      <td>35000000</td>\n",
              "      <td>9348</td>\n",
              "      <td>In 1993, the Search for Extra Terrestrial Inte...</td>\n",
              "      <td>13.492845</td>\n",
              "      <td>113374103.0</td>\n",
              "      <td>108.0</td>\n",
              "      <td>5.5</td>\n",
              "      <td>457.0</td>\n",
              "      <td>0.867987</td>\n",
              "      <td>303</td>\n",
              "      <td>1</td>\n",
              "      <td>0</td>\n",
              "      <td>1995</td>\n",
              "      <td>0</td>\n",
              "      <td>0</td>\n",
              "      <td>0</td>\n",
              "      <td>0</td>\n",
              "      <td>0</td>\n",
              "      <td>0</td>\n",
              "      <td>1</td>\n",
              "      <td>0</td>\n",
              "      <td>0</td>\n",
              "      <td>0</td>\n",
              "      <td>0</td>\n",
              "      <td>0</td>\n",
              "      <td>0.0</td>\n",
              "      <td>0.0</td>\n",
              "      <td>1.0</td>\n",
              "      <td>1.0</td>\n",
              "      <td>1.0</td>\n",
              "      <td>0.0</td>\n",
              "      <td>0.0</td>\n",
              "      <td>0.0</td>\n",
              "      <td>0.0</td>\n",
              "      <td>0.0</td>\n",
              "      <td>0.0</td>\n",
              "      <td>0.0</td>\n",
              "      <td>0.0</td>\n",
              "      <td>0.0</td>\n",
              "      <td>0.0</td>\n",
              "      <td>0.0</td>\n",
              "      <td>0.0</td>\n",
              "      <td>0.0</td>\n",
              "      <td>0.0</td>\n",
              "    </tr>\n",
              "    <tr>\n",
              "      <th>2</th>\n",
              "      <td>1</td>\n",
              "      <td>0</td>\n",
              "      <td>25000000</td>\n",
              "      <td>11777</td>\n",
              "      <td>Albert Einstein helps a young man who's in lov...</td>\n",
              "      <td>5.146352</td>\n",
              "      <td>0.0</td>\n",
              "      <td>100.0</td>\n",
              "      <td>5.9</td>\n",
              "      <td>112.0</td>\n",
              "      <td>1.000000</td>\n",
              "      <td>4</td>\n",
              "      <td>1</td>\n",
              "      <td>0</td>\n",
              "      <td>1994</td>\n",
              "      <td>0</td>\n",
              "      <td>0</td>\n",
              "      <td>0</td>\n",
              "      <td>0</td>\n",
              "      <td>0</td>\n",
              "      <td>0</td>\n",
              "      <td>0</td>\n",
              "      <td>0</td>\n",
              "      <td>0</td>\n",
              "      <td>0</td>\n",
              "      <td>0</td>\n",
              "      <td>1</td>\n",
              "      <td>1.0</td>\n",
              "      <td>1.0</td>\n",
              "      <td>0.0</td>\n",
              "      <td>0.0</td>\n",
              "      <td>0.0</td>\n",
              "      <td>1.0</td>\n",
              "      <td>0.0</td>\n",
              "      <td>0.0</td>\n",
              "      <td>0.0</td>\n",
              "      <td>0.0</td>\n",
              "      <td>0.0</td>\n",
              "      <td>0.0</td>\n",
              "      <td>0.0</td>\n",
              "      <td>0.0</td>\n",
              "      <td>0.0</td>\n",
              "      <td>0.0</td>\n",
              "      <td>0.0</td>\n",
              "      <td>0.0</td>\n",
              "      <td>0.0</td>\n",
              "    </tr>\n",
              "  </tbody>\n",
              "</table>\n",
              "</div>"
            ],
            "text/plain": [
              "   adult  belongs_to_collection    budget  ... Western Documentary  TV Movie\n",
              "0      1                      0         0  ...     0.0         0.0       0.0\n",
              "1      1                      1  35000000  ...     0.0         0.0       0.0\n",
              "2      1                      0  25000000  ...     0.0         0.0       0.0\n",
              "\n",
              "[3 rows x 46 columns]"
            ]
          },
          "metadata": {
            "tags": []
          },
          "execution_count": 56
        }
      ]
    },
    {
      "cell_type": "markdown",
      "metadata": {
        "id": "l5Sd-lQbYkD7",
        "colab_type": "text"
      },
      "source": [
        "#### **Topic Model**\n"
      ]
    },
    {
      "cell_type": "markdown",
      "metadata": {
        "id": "4qoAGZ5vW9Ti",
        "colab_type": "text"
      },
      "source": [
        "Now we are going to use the review to create new variables using a Topic Model. "
      ]
    },
    {
      "cell_type": "code",
      "metadata": {
        "id": "Ddt-XENemotk",
        "colab_type": "code",
        "colab": {}
      },
      "source": [
        "from nltk.tokenize import TreebankWordTokenizer\n",
        "from nltk.tokenize import RegexpTokenizer"
      ],
      "execution_count": 0,
      "outputs": []
    },
    {
      "cell_type": "code",
      "metadata": {
        "id": "DhvseM6q91tp",
        "colab_type": "code",
        "outputId": "23a69ce3-206a-4ba2-9e85-d918d2c28c94",
        "colab": {
          "base_uri": "https://localhost:8080/",
          "height": 54
        }
      },
      "source": [
        "import pickle\n",
        "import gensim\n",
        "import spacy\n",
        "import nltk; nltk.download('stopwords')\n",
        "import gensim.corpora as corpora\n",
        "from gensim.utils import simple_preprocess\n",
        "from gensim.models import CoherenceModel\n",
        "import re"
      ],
      "execution_count": 0,
      "outputs": [
        {
          "output_type": "stream",
          "text": [
            "[nltk_data] Downloading package stopwords to /root/nltk_data...\n",
            "[nltk_data]   Package stopwords is already up-to-date!\n"
          ],
          "name": "stdout"
        }
      ]
    },
    {
      "cell_type": "markdown",
      "metadata": {
        "id": "hqSjvnxs-3vY",
        "colab_type": "text"
      },
      "source": [
        "We start with the text preprocessing."
      ]
    },
    {
      "cell_type": "code",
      "metadata": {
        "id": "mFA0ef2opRXv",
        "colab_type": "code",
        "colab": {}
      },
      "source": [
        "#We drop the rows for which the values of overview are numerics \n",
        "result = df_NLP[(df_NLP['overview'].str.isnumeric()==True)]\n",
        "df_NLP=df_NLP.drop(result.index)\n",
        "df_NLP.overview=df_NLP.overview.apply(str)\n",
        "#We replace the digits by ''\n",
        "df_NLP.overview = df_NLP.overview.str.replace('\\d+', '') "
      ],
      "execution_count": 0,
      "outputs": []
    },
    {
      "cell_type": "markdown",
      "metadata": {
        "id": "X71i2_dLAfY5",
        "colab_type": "text"
      },
      "source": [
        "We create the functions that are going to be used to preprocessed the text that is going to be used for the Topic Model. "
      ]
    },
    {
      "cell_type": "code",
      "metadata": {
        "id": "2lUXYqkenwVf",
        "colab_type": "code",
        "colab": {}
      },
      "source": [
        "from nltk.corpus import stopwords\n",
        "from string import punctuation\n",
        "stop_words = stopwords.words('english')\n",
        "#We extend the stop words to the words discribing a movie/film\n",
        "stop_words.extend(['film','nan', 'story', 'movie'])\n",
        "stop_words.extend(punctuation)\n",
        "\n",
        "nlp = spacy.load('en', disable=['parser', 'ner'])\n",
        "\n",
        "\n",
        "def strip_newline(series):\n",
        "    return [review.replace('\\n','') for review in series]\n",
        "\n",
        "def sent_to_words(sentences):\n",
        "    for sentence in sentences:\n",
        "        yield(gensim.utils.simple_preprocess(str(sentence), deacc=True))\n",
        "\n",
        "def remove_stopwords(texts):\n",
        "    return [[word for word in simple_preprocess(str(doc)) if word not in stop_words] for doc in texts]\n",
        "\n",
        "def bigrams(words, bi_min=15, tri_min=10):\n",
        "    bigram = gensim.models.Phrases(words, min_count = bi_min)\n",
        "    bigram_mod = gensim.models.phrases.Phraser(bigram)\n",
        "    return bigram_mod\n",
        "\n",
        "def lemmatization(texts, allowed=['NOUN','ADV']):\n",
        "     texts_out = []\n",
        "     for sent in texts:\n",
        "         doc = nlp(\" \".join(sent)) \n",
        "         texts_out.append([token.lemma_ for token in doc if token.pos_ in allowed])\n",
        "     return texts_out\n",
        "    \n",
        "def get_corpus(df):\n",
        "    df['overview'] = strip_newline(df.overview)\n",
        "    words = list(sent_to_words(df.overview))\n",
        "    words = remove_stopwords(words)\n",
        "    bigram = bigrams(words)\n",
        "    bigram = [bigram[review] for review in words]\n",
        "    bigram = lemmatization(bigram)\n",
        "    id2word = gensim.corpora.Dictionary(bigram)\n",
        "    id2word.filter_extremes(no_below=5, no_above=0.35)\n",
        "    id2word.compactify()\n",
        "    corpus = [id2word.doc2bow(text) for text in bigram]\n",
        "    return corpus, id2word, bigram\n",
        "\n",
        "train_corpus, train_id2word, bigram_train = get_corpus(df_NLP)"
      ],
      "execution_count": 0,
      "outputs": []
    },
    {
      "cell_type": "code",
      "metadata": {
        "id": "gOZTGNjYmo3w",
        "colab_type": "code",
        "colab": {}
      },
      "source": [
        "!pip install pyLDAvis\n",
        "import pyLDAvis.gensim\n",
        "from gensim.models import LdaModel\n",
        "from gensim import corpora"
      ],
      "execution_count": 0,
      "outputs": []
    },
    {
      "cell_type": "markdown",
      "metadata": {
        "id": "jOtKpBUKciXc",
        "colab_type": "text"
      },
      "source": [
        "In order to train a LDA model we need to choose the number of topics, we are going to compute the coherence score of LDA models with the number of topics from 3 to 10 and choose the one with the best score and for which the word distribution per topic looks sensible."
      ]
    },
    {
      "cell_type": "code",
      "metadata": {
        "id": "EOSUCjniMEKi",
        "colab_type": "code",
        "colab": {}
      },
      "source": [
        "n_topics = range(3, 11)\n",
        "coherence_scores = []\n",
        "for k in n_topics:\n",
        "  lda_model = gensim.models.ldamulticore.LdaMulticore(\n",
        "                             corpus=train_corpus,\n",
        "                             num_topics=k,\n",
        "                             id2word=train_id2word,\n",
        "                             chunksize=100,\n",
        "                             passes=50,\n",
        "                             random_state = 20,\n",
        "                             per_word_topics=True)\n",
        "  coherence_model_lda = CoherenceModel(model=lda_model, texts=bigram_train, dictionary=train_id2word, coherence='c_v')\n",
        "  coherence_lda = coherence_model_lda.get_coherence()\n",
        "  coherence_scores.append(coherence_lda)"
      ],
      "execution_count": 0,
      "outputs": []
    },
    {
      "cell_type": "code",
      "metadata": {
        "id": "lQv60OdAjc2K",
        "colab_type": "code",
        "outputId": "93f54efd-7107-46d2-9d1d-3d690a83d578",
        "colab": {
          "base_uri": "https://localhost:8080/",
          "height": 295
        }
      },
      "source": [
        "plt.plot(range(3,11),coherence_scores,label='Coherence score')\n",
        "plt.xlabel('Number of topics')\n",
        "plt.ylabel('Coherence score')\n",
        "plt.title('Choosing the number of topics for Topic Model')\n",
        "plt.legend()\n",
        "plt.show()"
      ],
      "execution_count": 0,
      "outputs": [
        {
          "output_type": "display_data",
          "data": {
            "image/png": "[encoded data removed]",
            "text/plain": [
              "<Figure size 432x288 with 1 Axes>"
            ]
          },
          "metadata": {
            "tags": [],
            "needs_background": "light"
          }
        }
      ]
    },
    {
      "cell_type": "markdown",
      "metadata": {
        "id": "cF0JHzF3zWFE",
        "colab_type": "text"
      },
      "source": [
        "We choose to work with an LDA Topic model with 7 topics (the number is not so high and we still have good coherence score). A bigger number of topics will give too many new variables and be counterproductive. We are going to see if the word distribution per topic looks sensible."
      ]
    },
    {
      "cell_type": "code",
      "metadata": {
        "id": "eLQvudqwzRV-",
        "colab_type": "code",
        "colab": {}
      },
      "source": [
        "lda_model = gensim.models.ldamulticore.LdaMulticore(\n",
        "                             corpus=train_corpus,\n",
        "                             num_topics=7,\n",
        "                             id2word=train_id2word,\n",
        "                             chunksize=100,\n",
        "                             passes=50,\n",
        "                             random_state = 20,\n",
        "                             per_word_topics=True)"
      ],
      "execution_count": 0,
      "outputs": []
    },
    {
      "cell_type": "code",
      "metadata": {
        "id": "MQiett95urIO",
        "colab_type": "code",
        "outputId": "34e22dc6-2efd-4879-bbe3-f6cc4dc7b9f8",
        "colab": {
          "base_uri": "https://localhost:8080/",
          "height": 36
        }
      },
      "source": [
        "#We compute the coherence of the lda model\n",
        "coherence_model_lda = CoherenceModel(model=lda_model, texts=bigram_train, dictionary=train_id2word, coherence='c_v')\n",
        "coherence_lda = coherence_model_lda.get_coherence()\n",
        "coherence_lda"
      ],
      "execution_count": 0,
      "outputs": [
        {
          "output_type": "execute_result",
          "data": {
            "text/plain": [
              "0.3667529248893195"
            ]
          },
          "metadata": {
            "tags": []
          },
          "execution_count": 65
        }
      ]
    },
    {
      "cell_type": "code",
      "metadata": {
        "id": "1QMbzeCaMNZl",
        "colab_type": "code",
        "outputId": "8393ab07-5d54-4e43-88b2-5a893fe07093",
        "colab": {
          "base_uri": "https://localhost:8080/",
          "height": 881
        }
      },
      "source": [
        "#We represent the best LDA Topic model\n",
        "lda_display = pyLDAvis.gensim.prepare(lda_model, train_corpus, train_id2word)\n",
        "pyLDAvis.display(lda_display)"
      ],
      "execution_count": 0,
      "outputs": [
        {
          "output_type": "execute_result",
          "data": {
            "text/html": [
              "\n",
              "<link rel=\"stylesheet\" type=\"text/css\" href=\"https://cdn.rawgit.com/bmabey/pyLDAvis/files/ldavis.v1.0.0.css\">\n",
              "\n",
              "\n",
              "<div id=\"ldavis_el1361396659511161681032556080\"></div>\n",
              "<script type=\"text/javascript\">\n",
              "\n",
              "var ldavis_el1361396659511161681032556080_data = {\"mdsDat\": {\"x\": [0.1474715557972386, -0.11114845834775099, 0.07946676540569668, -0.01626737948671763, 0.10050618509542125, 0.008109455651520487, -0.20813812411540836], \"y\": [0.0074745784088796965, -0.14958229282015661, -0.1068897147639221, -0.08815250203156277, 0.059741744301198406, 0.18990661354263347, 0.08750157336292985], \"topics\": [1, 2, 3, 4, 5, 6, 7], \"cluster\": [1, 1, 1, 1, 1, 1, 1], \"Freq\": [19.634023666381836, 15.238102912902832, 14.687222480773926, 14.674468040466309, 13.44178295135498, 11.648475646972656, 10.675936698913574]}, \"tinfo\": {\"Term\": [\"life\", \"man\", \"soon\", \"job\", \"crew\", \"family\", \"daughter\", \"sister\", \"love\", \"day\", \"brother\", \"mission\", \"child\", \"year\", \"team\", \"woman\", \"parent\", \"government\", \"town\", \"way\", \"world\", \"couple\", \"relationship\", \"night\", \"drug\", \"son\", \"crime\", \"together\", \"husband\", \"money\", \"first\", \"line\", \"eventually\", \"friendship\", \"adaptation\", \"drug\", \"college\", \"head\", \"student\", \"eye\", \"search\", \"operation\", \"man\", \"dealer\", \"way\", \"disaster\", \"show\", \"seemingly\", \"group\", \"trouble\", \"owner\", \"freedom\", \"book\", \"school\", \"prison\", \"love\", \"always\", \"odd\", \"heart\", \"view\", \"woman\", \"body\", \"life\", \"day\", \"year\", \"even\", \"relationship\", \"struggle\", \"death\", \"time\", \"girl\", \"world\", \"back\", \"friend\", \"mission\", \"government\", \"identity\", \"reality\", \"experience\", \"chaos\", \"authority\", \"case\", \"terror\", \"discover\", \"skill\", \"never\", \"zombie\", \"child\", \"country\", \"party\", \"truth\", \"killer\", \"area\", \"accidentally\", \"hour\", \"bond\", \"agent\", \"rule\", \"tragedy\", \"space\", \"face\", \"animal\", \"court\", \"yet\", \"girl\", \"world\", \"people\", \"friend\", \"still\", \"team\", \"town\", \"parent\", \"family\", \"rescue\", \"force\", \"death\", \"year\", \"husband\", \"mystery\", \"well\", \"chance\", \"jail\", \"award\", \"tension\", \"professor\", \"victim\", \"thing\", \"vacation\", \"police\", \"business\", \"murder\", \"enemy\", \"effort\", \"question\", \"control\", \"consequence\", \"village\", \"vow\", \"encounter\", \"break\", \"year\", \"move\", \"partner\", \"yet\", \"crime\", \"romance\", \"order\", \"death\", \"family\", \"event\", \"man\", \"life\", \"world\", \"woman\", \"force\", \"back\", \"friend\", \"action\", \"killer\", \"television\", \"night\", \"change\", \"daughter\", \"class\", \"passion\", \"house\", \"couple\", \"tale\", \"gang\", \"experiment\", \"career\", \"history\", \"detective\", \"meanwhile\", \"nature\", \"client\", \"son\", \"really\", \"race\", \"machine\", \"comedy\", \"power\", \"invasion\", \"ability\", \"life\", \"music\", \"task\", \"name\", \"event\", \"wife\", \"travel\", \"teacher\", \"self\", \"father\", \"day\", \"family\", \"time\", \"mother\", \"town\", \"world\", \"love\", \"together\", \"sister\", \"brother\", \"pilot\", \"hero\", \"fighter\", \"slowly\", \"weapon\", \"writer\", \"train\", \"wedding\", \"set\", \"ring\", \"discovery\", \"far\", \"vision\", \"long\", \"away\", \"person\", \"mankind\", \"marriage\", \"parent\", \"ex\", \"scheme\", \"leader\", \"home\", \"accident\", \"rescue\", \"shop\", \"survivor\", \"figure\", \"girlfriend\", \"father\", \"boy\", \"war\", \"love\", \"work\", \"order\", \"mother\", \"friend\", \"year\", \"time\", \"back\", \"wife\", \"crew\", \"existence\", \"score\", \"system\", \"soon\", \"path\", \"forever\", \"story\", \"finally\", \"hospital\", \"program\", \"however\", \"part\", \"turn\", \"attention\", \"producer\", \"cop\", \"director\", \"crime\", \"city\", \"relationship\", \"end\", \"travel\", \"together\", \"day\", \"test\", \"figure\", \"school\", \"kid\", \"situation\", \"ally\", \"girlfriend\", \"family\", \"time\", \"friend\", \"woman\", \"earth\", \"team\", \"job\", \"blood\", \"firm\", \"monster\", \"hand\", \"warrior\", \"band\", \"battle\", \"money\", \"past\", \"problem\", \"dragon\", \"survive\", \"attack\", \"character\", \"boss\", \"soldier\", \"escape\", \"memory\", \"action\", \"member\", \"ground\", \"help\", \"teen\", \"plan\", \"court\", \"aid\", \"attempt\", \"team\", \"point\", \"town\", \"game\", \"dream\", \"place\", \"force\", \"together\", \"time\", \"group\"], \"Freq\": [105.0, 68.0, 30.0, 20.0, 18.0, 58.0, 27.0, 18.0, 43.0, 37.0, 17.0, 18.0, 28.0, 46.0, 28.0, 57.0, 22.0, 14.0, 27.0, 27.0, 45.0, 19.0, 20.0, 15.0, 18.0, 19.0, 15.0, 27.0, 11.0, 12.0, 8.49315071105957, 6.400756359100342, 5.438297271728516, 4.600133895874023, 4.4627275466918945, 16.0616455078125, 9.001523971557617, 8.314995765686035, 7.118253231048584, 9.464818000793457, 6.4414238929748535, 5.839901447296143, 51.15106201171875, 4.730187892913818, 20.066547393798828, 4.500039100646973, 4.345465660095215, 3.893866539001465, 11.094109535217285, 5.302363872528076, 5.302498817443848, 3.644925355911255, 6.089273452758789, 6.252079963684082, 9.677867889404297, 23.45745086669922, 5.114141941070557, 2.918393135070801, 6.887718677520752, 2.9275617599487305, 29.599374771118164, 5.680439472198486, 27.282642364501953, 11.388461112976074, 12.410317420959473, 6.044609069824219, 7.488739490509033, 6.010711669921875, 8.176346778869629, 9.31287670135498, 6.7938032150268555, 8.76201057434082, 6.331456661224365, 6.027667045593262, 17.596656799316406, 13.829025268554688, 10.056807518005371, 7.264128684997559, 6.419729709625244, 5.856306076049805, 5.719489574432373, 5.583835124969482, 5.312224864959717, 10.769062042236328, 4.872649669647217, 10.495173454284668, 4.745230197906494, 20.49085807800293, 11.54554271697998, 4.326666831970215, 4.3948283195495605, 10.656734466552734, 3.7640671730041504, 3.7239935398101807, 3.780839681625366, 4.608445167541504, 9.018596649169922, 2.9261531829833984, 3.060065269470215, 5.374197483062744, 2.789226770401001, 3.7017905712127686, 3.583939790725708, 3.903656482696533, 8.33327865600586, 18.563581466674805, 10.685115814208984, 15.049185752868652, 6.0877790451049805, 9.369287490844727, 9.1159086227417, 7.108829498291016, 11.072774887084961, 5.108947277069092, 5.231576919555664, 5.055716514587402, 5.179074287414551, 10.607500076293945, 8.721176147460938, 7.443017482757568, 7.17200231552124, 5.324021339416504, 4.579868793487549, 3.7184860706329346, 3.668627977371216, 5.852451801300049, 11.182173728942871, 3.7077198028564453, 8.303238868713379, 9.796293258666992, 11.507274627685547, 7.778301239013672, 3.1292693614959717, 4.48942756652832, 2.8566768169403076, 2.9935383796691895, 4.992922782897949, 2.716062307357788, 4.783807754516602, 3.7035603523254395, 22.115455627441406, 2.5228002071380615, 6.334224700927734, 3.7179927825927734, 6.908421039581299, 2.513793706893921, 9.413557052612305, 11.791211128234863, 21.258249282836914, 6.609950065612793, 15.940864562988281, 21.013120651245117, 11.822766304016113, 12.759942054748535, 6.9891815185546875, 6.544614791870117, 7.407238960266113, 4.742521286010742, 4.80261754989624, 4.661189079284668, 13.113556861877441, 6.627960681915283, 21.954355239868164, 7.85054874420166, 5.08059549331665, 5.459783554077148, 14.167489051818848, 4.661257266998291, 6.3662333488464355, 3.94926118850708, 3.9519190788269043, 7.498118877410889, 3.813173532485962, 5.546554088592529, 3.486032009124756, 4.499448299407959, 12.648003578186035, 4.3874125480651855, 4.520306587219238, 3.6324808597564697, 3.635049343109131, 4.658634185791016, 2.8209738731384277, 2.9589715003967285, 53.92756271362305, 5.241572856903076, 2.8226683139801025, 2.7596709728240967, 9.283763885498047, 10.018869400024414, 4.338460922241211, 5.081575870513916, 4.46173620223999, 6.021241188049316, 10.157673835754395, 11.984416961669922, 6.998932361602783, 5.132447719573975, 5.498730659484863, 5.450640678405762, 5.115944862365723, 4.510183334350586, 17.885297775268555, 16.752288818359375, 7.521186351776123, 6.530148983001709, 5.809139728546143, 4.960893154144287, 4.956998825073242, 4.818236827850342, 4.799571990966797, 8.347576141357422, 6.7117509841918945, 5.53449010848999, 4.952542304992676, 6.280342102050781, 5.673727035522461, 3.8218564987182617, 6.7465410232543945, 4.100587844848633, 3.9676966667175293, 4.166948318481445, 13.275233268737793, 4.980096340179443, 3.1426074504852295, 4.716670513153076, 11.18561840057373, 5.649003505706787, 6.293150901794434, 3.6875791549682617, 2.83553409576416, 2.9539644718170166, 7.6269850730896, 7.551465034484863, 7.750717639923096, 6.259814262390137, 14.307039260864258, 7.350866317749023, 6.878671646118164, 6.345500946044922, 7.263099670410156, 6.5683674812316895, 6.008325099945068, 5.341855525970459, 5.206620693206787, 17.953296661376953, 7.610673427581787, 6.602462291717529, 6.465029239654541, 24.410964965820312, 5.9969801902771, 4.011302471160889, 8.405611991882324, 6.479098796844482, 3.5903983116149902, 4.870706081390381, 7.803165912628174, 6.406872272491455, 4.178492069244385, 3.5461413860321045, 3.004666328430176, 3.7286033630371094, 3.8238365650177, 7.866837978363037, 9.020769119262695, 9.996048927307129, 6.9746174812316895, 4.009406089782715, 11.375875473022461, 15.43526554107666, 3.0053606033325195, 2.29760479927063, 3.896117687225342, 2.5459251403808594, 1.8618277311325073, 2.1560349464416504, 5.201506614685059, 13.85623836517334, 10.477776527404785, 8.381653785705566, 7.183026313781738, 3.9972219467163086, 4.079082489013672, 19.494375228881836, 5.50020694732666, 4.648621082305908, 8.02181339263916, 8.459440231323242, 6.477044105529785, 7.334318161010742, 4.784633159637451, 8.534930229187012, 5.333450794219971, 3.800467014312744, 3.8035967350006104, 3.698993682861328, 3.8046469688415527, 5.768156051635742, 3.444340944290161, 7.7541184425354, 4.5371623039245605, 3.092855215072632, 7.290518760681152, 7.323410987854004, 2.8162198066711426, 7.230302810668945, 2.954909324645996, 7.514876365661621, 3.1354849338531494, 2.374985694885254, 5.409567832946777, 11.484786987304688, 3.071561098098755, 10.604157447814941, 4.786828517913818, 4.552095890045166, 4.888134956359863, 5.019640922546387, 5.319320201873779, 4.315995693206787, 3.7646536827087402], \"Total\": [105.0, 68.0, 30.0, 20.0, 18.0, 58.0, 27.0, 18.0, 43.0, 37.0, 17.0, 18.0, 28.0, 46.0, 28.0, 57.0, 22.0, 14.0, 27.0, 27.0, 45.0, 19.0, 20.0, 15.0, 18.0, 19.0, 15.0, 27.0, 11.0, 12.0, 9.285395622253418, 7.203362941741943, 6.230373382568359, 5.3908772468566895, 5.254284381866455, 18.966806411743164, 10.846004486083984, 10.021200180053711, 8.763875007629395, 12.094242095947266, 8.351409912109375, 7.604894161224365, 68.21224975585938, 6.508028984069824, 27.62936782836914, 6.247295379638672, 6.111003875732422, 5.678422451019287, 16.86372184753418, 8.074508666992188, 8.081094741821289, 5.663031578063965, 9.773184776306152, 10.806257247924805, 16.8796329498291, 43.4083251953125, 9.4866943359375, 5.537797927856445, 13.30325984954834, 5.696910381317139, 57.76763916015625, 11.231084823608398, 105.51421356201172, 37.513126373291016, 46.66958236694336, 12.689781188964844, 20.63433265686035, 12.753275871276855, 28.71023941040039, 44.5889892578125, 18.688051223754883, 45.99412155151367, 25.935321807861328, 46.478092193603516, 18.38774871826172, 14.619874954223633, 10.848732948303223, 8.055355072021484, 7.211114406585693, 6.647132873535156, 6.510274887084961, 6.376736640930176, 6.102987289428711, 12.662253379821777, 6.5022053718566895, 14.428081512451172, 6.537163257598877, 28.31214141845703, 16.42478370666504, 6.2677459716796875, 6.657678127288818, 17.287948608398438, 6.257236957550049, 6.411584854125977, 6.669338703155518, 8.361785888671875, 16.518917083740234, 5.427150249481201, 5.6865339279174805, 10.076136589050293, 5.427891731262207, 7.509449481964111, 7.379447937011719, 8.280047416687012, 18.688051223754883, 45.99412155151367, 25.088354110717773, 46.478092193603516, 14.4850435256958, 28.13878059387207, 27.657501220703125, 22.50938606262207, 58.56496047973633, 12.061689376831055, 23.18091583251953, 28.71023941040039, 46.66958236694336, 11.39585018157959, 9.509452819824219, 8.231043815612793, 8.923771858215332, 7.1966681480407715, 6.356739044189453, 5.356910705566406, 5.340545654296875, 8.614956855773926, 17.56179428100586, 6.3401055335998535, 14.542266845703125, 17.164228439331055, 20.31060791015625, 14.447903633117676, 5.901920795440674, 8.47415542602539, 5.467562198638916, 5.733484745025635, 9.623973846435547, 5.333484649658203, 9.428805351257324, 7.439568042755127, 46.66958236694336, 5.460644721984863, 13.871230125427246, 8.280047416687012, 15.429707527160645, 5.62039041519165, 21.268842697143555, 28.71023941040039, 58.56496047973633, 18.791837692260742, 68.21224975585938, 105.51421356201172, 45.99412155151367, 57.76763916015625, 23.18091583251953, 25.935321807861328, 46.478092193603516, 13.985774993896484, 17.287948608398438, 5.450620651245117, 15.942336082458496, 8.294994354248047, 27.89793586730957, 10.137228012084961, 6.845669746398926, 7.434907913208008, 19.549972534179688, 6.437710762023926, 9.12742805480957, 5.710666656494141, 5.7249603271484375, 11.000811576843262, 5.607724189758301, 8.391576766967773, 5.300936698913574, 7.013195991516113, 19.78077507019043, 7.042979717254639, 7.5769195556640625, 6.30960750579834, 6.442636489868164, 8.289266586303711, 5.451705455780029, 5.718870639801025, 105.51421356201172, 10.374249458312988, 5.5869574546813965, 5.472654819488525, 18.791837692260742, 22.262950897216797, 9.053051948547363, 12.260743141174316, 10.253666877746582, 16.269393920898438, 37.513126373291016, 58.56496047973633, 44.5889892578125, 19.687543869018555, 27.657501220703125, 45.99412155151367, 43.4083251953125, 27.468456268310547, 18.674240112304688, 17.541500091552734, 8.310093879699707, 7.319753170013428, 6.597558498382568, 5.749627590179443, 5.746279239654541, 5.607218265533447, 5.606897830963135, 10.151113510131836, 8.438868522644043, 7.324460506439209, 6.7327752113342285, 8.694317817687988, 8.143776893615723, 5.586282253265381, 10.45077896118164, 6.7071614265441895, 6.574748516082764, 7.001395225524902, 22.50938606262207, 8.473261833190918, 5.592807292938232, 8.4509916305542, 20.66315269470215, 10.785524368286133, 12.061689376831055, 7.137433052062988, 5.579773902893066, 5.906606197357178, 15.60350513458252, 16.269393920898438, 16.838212966918945, 13.847755432128906, 43.4083251953125, 20.322935104370117, 21.268842697143555, 19.687543869018555, 46.478092193603516, 46.66958236694336, 44.5889892578125, 25.935321807861328, 22.262950897216797, 18.74089241027832, 8.39834976196289, 7.389880657196045, 7.252586364746094, 30.250207901000977, 7.808178424835205, 5.789827823638916, 12.236946105957031, 9.515151977539062, 5.36832857131958, 7.355541706085205, 12.812431335449219, 10.8787260055542, 7.4809956550598145, 6.354114055633545, 5.647578716278076, 7.211108684539795, 7.4897685050964355, 15.429707527160645, 17.968299865722656, 20.63433265686035, 14.576984405517578, 9.053051948547363, 27.468456268310547, 37.513126373291016, 7.342447757720947, 5.906606197357178, 10.806257247924805, 7.3076324462890625, 5.483235836029053, 6.352055072784424, 15.60350513458252, 58.56496047973633, 44.5889892578125, 46.478092193603516, 57.76763916015625, 12.85024356842041, 28.13878059387207, 20.400846481323242, 6.290230751037598, 5.437978744506836, 9.651371002197266, 10.249612808227539, 8.415716171264648, 9.825569152832031, 6.5742387771606445, 12.082945823669434, 7.5677080154418945, 5.453418254852295, 5.582695484161377, 5.858750343322754, 6.423048973083496, 10.181154251098633, 6.303960800170898, 14.366943359375, 8.506430625915527, 5.8546319007873535, 13.985774993896484, 14.131935119628906, 5.464631080627441, 15.626543045043945, 6.424062728881836, 17.268604278564453, 7.379447937011719, 5.597883224487305, 12.908797264099121, 28.13878059387207, 7.651601791381836, 27.657501220703125, 13.600175857543945, 13.46884536743164, 16.65154457092285, 23.18091583251953, 27.468456268310547, 44.5889892578125, 16.86372184753418], \"Category\": [\"Default\", \"Default\", \"Default\", \"Default\", \"Default\", \"Default\", \"Default\", \"Default\", \"Default\", \"Default\", \"Default\", \"Default\", \"Default\", \"Default\", \"Default\", \"Default\", \"Default\", \"Default\", \"Default\", \"Default\", \"Default\", \"Default\", \"Default\", \"Default\", \"Default\", \"Default\", \"Default\", \"Default\", \"Default\", \"Default\", \"Topic1\", \"Topic1\", \"Topic1\", \"Topic1\", \"Topic1\", \"Topic1\", \"Topic1\", \"Topic1\", \"Topic1\", \"Topic1\", \"Topic1\", \"Topic1\", \"Topic1\", \"Topic1\", \"Topic1\", \"Topic1\", \"Topic1\", \"Topic1\", \"Topic1\", \"Topic1\", \"Topic1\", \"Topic1\", \"Topic1\", \"Topic1\", \"Topic1\", \"Topic1\", \"Topic1\", \"Topic1\", \"Topic1\", \"Topic1\", \"Topic1\", \"Topic1\", \"Topic1\", \"Topic1\", \"Topic1\", \"Topic1\", \"Topic1\", \"Topic1\", \"Topic1\", \"Topic1\", \"Topic1\", \"Topic1\", \"Topic1\", \"Topic1\", \"Topic2\", \"Topic2\", \"Topic2\", \"Topic2\", \"Topic2\", \"Topic2\", \"Topic2\", \"Topic2\", \"Topic2\", \"Topic2\", \"Topic2\", \"Topic2\", \"Topic2\", \"Topic2\", \"Topic2\", \"Topic2\", \"Topic2\", \"Topic2\", \"Topic2\", \"Topic2\", \"Topic2\", \"Topic2\", \"Topic2\", \"Topic2\", \"Topic2\", \"Topic2\", \"Topic2\", \"Topic2\", \"Topic2\", \"Topic2\", \"Topic2\", \"Topic2\", \"Topic2\", \"Topic2\", \"Topic2\", \"Topic2\", \"Topic2\", \"Topic2\", \"Topic2\", \"Topic2\", \"Topic2\", \"Topic2\", \"Topic2\", \"Topic3\", \"Topic3\", \"Topic3\", \"Topic3\", \"Topic3\", \"Topic3\", \"Topic3\", \"Topic3\", \"Topic3\", \"Topic3\", \"Topic3\", \"Topic3\", \"Topic3\", \"Topic3\", \"Topic3\", \"Topic3\", \"Topic3\", \"Topic3\", \"Topic3\", \"Topic3\", \"Topic3\", \"Topic3\", \"Topic3\", \"Topic3\", \"Topic3\", \"Topic3\", \"Topic3\", \"Topic3\", \"Topic3\", \"Topic3\", \"Topic3\", \"Topic3\", \"Topic3\", \"Topic3\", \"Topic3\", \"Topic3\", \"Topic3\", \"Topic3\", \"Topic3\", \"Topic3\", \"Topic3\", \"Topic3\", \"Topic4\", \"Topic4\", \"Topic4\", \"Topic4\", \"Topic4\", \"Topic4\", \"Topic4\", \"Topic4\", \"Topic4\", \"Topic4\", \"Topic4\", \"Topic4\", \"Topic4\", \"Topic4\", \"Topic4\", \"Topic4\", \"Topic4\", \"Topic4\", \"Topic4\", \"Topic4\", \"Topic4\", \"Topic4\", \"Topic4\", \"Topic4\", \"Topic4\", \"Topic4\", \"Topic4\", \"Topic4\", \"Topic4\", \"Topic4\", \"Topic4\", \"Topic4\", \"Topic4\", \"Topic4\", \"Topic4\", \"Topic4\", \"Topic4\", \"Topic4\", \"Topic4\", \"Topic4\", \"Topic4\", \"Topic4\", \"Topic4\", \"Topic5\", \"Topic5\", \"Topic5\", \"Topic5\", \"Topic5\", \"Topic5\", \"Topic5\", \"Topic5\", \"Topic5\", \"Topic5\", \"Topic5\", \"Topic5\", \"Topic5\", \"Topic5\", \"Topic5\", \"Topic5\", \"Topic5\", \"Topic5\", \"Topic5\", \"Topic5\", \"Topic5\", \"Topic5\", \"Topic5\", \"Topic5\", \"Topic5\", \"Topic5\", \"Topic5\", \"Topic5\", \"Topic5\", \"Topic5\", \"Topic5\", \"Topic5\", \"Topic5\", \"Topic5\", \"Topic5\", \"Topic5\", \"Topic5\", \"Topic5\", \"Topic5\", \"Topic5\", \"Topic5\", \"Topic5\", \"Topic5\", \"Topic6\", \"Topic6\", \"Topic6\", \"Topic6\", \"Topic6\", \"Topic6\", \"Topic6\", \"Topic6\", \"Topic6\", \"Topic6\", \"Topic6\", \"Topic6\", \"Topic6\", \"Topic6\", \"Topic6\", \"Topic6\", \"Topic6\", \"Topic6\", \"Topic6\", \"Topic6\", \"Topic6\", \"Topic6\", \"Topic6\", \"Topic6\", \"Topic6\", \"Topic6\", \"Topic6\", \"Topic6\", \"Topic6\", \"Topic6\", \"Topic6\", \"Topic6\", \"Topic6\", \"Topic6\", \"Topic6\", \"Topic6\", \"Topic6\", \"Topic6\", \"Topic7\", \"Topic7\", \"Topic7\", \"Topic7\", \"Topic7\", \"Topic7\", \"Topic7\", \"Topic7\", \"Topic7\", \"Topic7\", \"Topic7\", \"Topic7\", \"Topic7\", \"Topic7\", \"Topic7\", \"Topic7\", \"Topic7\", \"Topic7\", \"Topic7\", \"Topic7\", \"Topic7\", \"Topic7\", \"Topic7\", \"Topic7\", \"Topic7\", \"Topic7\", \"Topic7\", \"Topic7\", \"Topic7\", \"Topic7\", \"Topic7\", \"Topic7\", \"Topic7\", \"Topic7\", \"Topic7\", \"Topic7\", \"Topic7\", \"Topic7\"], \"logprob\": [30.0, 29.0, 28.0, 27.0, 26.0, 25.0, 24.0, 23.0, 22.0, 21.0, 20.0, 19.0, 18.0, 17.0, 16.0, 15.0, 14.0, 13.0, 12.0, 11.0, 10.0, 9.0, 8.0, 7.0, 6.0, 5.0, 4.0, 3.0, 2.0, 1.0, -4.320799827575684, -4.603600025177002, -4.766600131988525, -4.934000015258789, -4.964300155639648, -3.6835999488830566, -4.262599945068359, -4.3420000076293945, -4.497399806976318, -4.212500095367432, -4.597300052642822, -4.695300102233887, -2.5253000259399414, -4.906099796295166, -3.4609999656677246, -4.955999851226807, -4.990900039672852, -5.100599765777588, -4.053599834442139, -4.791900157928467, -4.791900157928467, -5.1666998863220215, -4.653500080108643, -4.627099990844727, -4.190199851989746, -3.3048999309539795, -4.828000068664551, -5.388999938964844, -4.530300140380859, -5.385900020599365, -3.0722999572753906, -4.7230000495910645, -3.1538000106811523, -4.027400016784668, -3.941499948501587, -4.660900115966797, -4.446599960327148, -4.666500091552734, -4.358799934387207, -4.228600025177002, -4.544000148773193, -4.289599895477295, -4.614500045776367, -4.663700103759766, -3.338900089263916, -3.5797998905181885, -3.8982999324798584, -4.223599910736084, -4.3471999168396, -4.4390997886657715, -4.462699890136719, -4.486700057983398, -4.536600112915039, -3.829900026321411, -4.622900009155273, -3.8557000160217285, -4.649400234222412, -3.1865999698638916, -3.7602999210357666, -4.741799831390381, -4.726099967956543, -3.840399980545044, -4.881100177764893, -4.8917999267578125, -4.8765997886657715, -4.678699970245361, -4.007299900054932, -5.132900238037109, -5.088099956512451, -4.525000095367432, -5.180799961090088, -4.897799968719482, -4.930099964141846, -4.844699859619141, -4.086299896240234, -3.285399913787842, -3.8376998901367188, -3.495300054550171, -4.400300025939941, -3.969099998474121, -3.9965999126434326, -4.245200157165527, -3.8020999431610107, -4.5756001472473145, -4.5518999099731445, -4.586100101470947, -4.561999797821045, -3.808199882507324, -4.004000186920166, -4.162499904632568, -4.1996002197265625, -4.497499942779541, -4.648099899291992, -4.856400012969971, -4.869900226593018, -4.402900218963623, -3.7553999423980713, -4.859300136566162, -4.053100109100342, -3.8877999782562256, -3.726799964904785, -4.1184000968933105, -5.0289998054504395, -4.668000221252441, -5.120100021362305, -5.073299884796143, -4.561699867248535, -5.170599937438965, -4.604499816894531, -4.860499858856201, -3.073499917984009, -5.2444000244140625, -4.323800086975098, -4.856599807739258, -4.236999988555908, -5.248000144958496, -3.9275999069213867, -3.702399969100952, -3.11299991607666, -4.281199932098389, -3.400899887084961, -3.1245999336242676, -3.699700117111206, -3.6233999729156494, -4.225399971008301, -4.291100025177002, -4.167300224304199, -4.6132001876831055, -4.600599765777588, -4.6296000480651855, -3.5952000617980957, -4.277599811553955, -3.079900026321411, -4.10830020904541, -4.543499946594238, -4.471499919891357, -3.517899990081787, -4.6296000480651855, -4.31790018081665, -4.795400142669678, -4.7947001457214355, -4.154200077056885, -4.830399990081787, -4.455699920654297, -4.920100212097168, -4.664899826049805, -3.6314001083374023, -4.690100193023682, -4.660299777984619, -4.879000186920166, -4.878300189971924, -4.630199909210205, -5.131800174713135, -5.084000110626221, -2.1812000274658203, -4.51230001449585, -5.131199836730957, -5.153800010681152, -3.9405999183654785, -3.8643999099731445, -4.701399803161621, -4.543300151824951, -4.673299789428711, -4.373600006103516, -3.8506999015808105, -3.68530011177063, -4.223100185394287, -4.533299922943115, -4.464399814605713, -4.473199844360352, -4.536499977111816, -4.662499904632568, -3.197200059890747, -3.2625999450683594, -4.063399791717529, -4.204699993133545, -4.321700096130371, -4.479599952697754, -4.480299949645996, -4.508699893951416, -4.512599945068359, -3.959199905395508, -4.177299976348877, -4.370100021362305, -4.481200218200684, -4.24370002746582, -4.345300197601318, -4.7403998374938965, -4.172100067138672, -4.670000076293945, -4.703000068664551, -4.6539998054504395, -3.4951999187469482, -4.4756999015808105, -4.936100006103516, -4.53000020980835, -3.6665000915527344, -4.349699974060059, -4.241700172424316, -4.776199817657471, -5.038899898529053, -4.998000144958496, -4.049499988555908, -4.0594000816345215, -4.033400058746338, -4.247000217437744, -3.4203999042510986, -4.086299896240234, -4.152699947357178, -4.233399868011475, -4.098299980163574, -4.19890022277832, -4.288000106811523, -4.405600070953369, -4.43120002746582, -3.0501999855041504, -3.908400058746338, -4.05049991607666, -4.071499824523926, -2.7428998947143555, -4.146699905395508, -4.548799991607666, -3.8090999126434326, -4.069399833679199, -4.6596999168396, -4.354700088500977, -3.8833999633789062, -4.080599784851074, -4.507999897003174, -4.672100067138672, -4.837800025939941, -4.6219000816345215, -4.596700191497803, -3.8752999305725098, -3.7383999824523926, -3.6357998847961426, -3.995699882507324, -4.549300193786621, -3.506500005722046, -3.2012999057769775, -4.837600231170654, -5.106100082397461, -4.578000068664551, -5.003499984741211, -5.316400051116943, -5.1697001457214355, -4.289000034332275, -3.3092000484466553, -3.58870005607605, -3.8118999004364014, -3.966200113296509, -4.5524001121521, -4.532100200653076, -2.8805999755859375, -4.145999908447266, -4.314199924468994, -3.7685999870300293, -3.7155001163482666, -3.9825000762939453, -3.8582000732421875, -4.285399913787842, -3.7065999507904053, -4.176799774169922, -4.515600204467773, -4.514800071716309, -4.542699813842773, -4.514500141143799, -4.098400115966797, -4.613999843597412, -3.802500009536743, -4.338500022888184, -4.721700191497803, -3.8642001152038574, -3.8596999645233154, -4.815400123596191, -3.872499942779541, -4.767300128936768, -3.833899974822998, -4.708000183105469, -4.985799789428711, -4.162600040435791, -3.4096999168395996, -4.728600025177002, -3.489500045776367, -4.284900188446045, -4.33519983291626, -4.263999938964844, -4.237400054931641, -4.1793999671936035, -4.388400077819824, -4.525100231170654], \"loglift\": [30.0, 29.0, 28.0, 27.0, 26.0, 25.0, 24.0, 23.0, 22.0, 21.0, 20.0, 19.0, 18.0, 17.0, 16.0, 15.0, 14.0, 13.0, 12.0, 11.0, 10.0, 9.0, 8.0, 7.0, 6.0, 5.0, 4.0, 3.0, 2.0, 1.0, 1.538699984550476, 1.5097999572753906, 1.4918999671936035, 1.4693000316619873, 1.4645999670028687, 1.4616999626159668, 1.441499948501587, 1.4413000345230103, 1.4198999404907227, 1.3827999830245972, 1.3681999444961548, 1.363800048828125, 1.3401000499725342, 1.3087999820709229, 1.3080999851226807, 1.2998000383377075, 1.2869000434875488, 1.250599980354309, 1.2092000246047974, 1.2072999477386475, 1.2065999507904053, 1.1872999668121338, 1.1548000574111938, 1.0807000398635864, 1.0715999603271484, 1.0124000310897827, 1.0099999904632568, 0.9872999787330627, 0.9696000218391418, 0.9621999859809875, 0.9592000246047974, 0.9462000131607056, 0.275299996137619, 0.4357999861240387, 0.30329999327659607, 0.8863000273704529, 0.6144000291824341, 0.8756999969482422, 0.3718999922275543, 0.061799999326467514, 0.6159999966621399, -0.03020000085234642, 0.21780000627040863, -0.4147000014781952, 1.837399959564209, 1.8257999420166016, 1.8056000471115112, 1.777999997138977, 1.7651000022888184, 1.754699945449829, 1.7518999576568604, 1.7486000061035156, 1.7425999641418457, 1.7194000482559204, 1.592900037765503, 1.563099980354309, 1.5609999895095825, 1.5580999851226807, 1.5289000272750854, 1.5108000040054321, 1.465999960899353, 1.3976000547409058, 1.3731000423431396, 1.3380999565124512, 1.3137999773025513, 1.285599946975708, 1.2762000560760498, 1.2635999917984009, 1.2617000341415405, 1.2527999877929688, 1.2156000137329102, 1.1740000247955322, 1.15910005569458, 1.1294000148773193, 1.073699951171875, 0.9740999937057495, 1.0277999639511108, 0.7537000179290771, 1.0145000219345093, 0.7817000150680542, 0.7714999914169312, 0.7287999987602234, 0.21570000052452087, 1.0223000049591064, 0.3928000032901764, 0.1446000039577484, -0.31709998846054077, 1.846500039100647, 1.8316999673843384, 1.8176000118255615, 1.6996999979019165, 1.6167999505996704, 1.5902999639511108, 1.5530999898910522, 1.5427000522613525, 1.531599998474121, 1.4667999744415283, 1.381700038909912, 1.357800006866455, 1.3573999404907227, 1.350000023841858, 1.2990000247955322, 1.2836999893188477, 1.2828999757766724, 1.2690000534057617, 1.2683000564575195, 1.2619999647140503, 1.243399977684021, 1.2396999597549438, 1.2207000255584717, 1.1713999509811401, 1.1460000276565552, 1.1342999935150146, 1.1174999475479126, 1.1145999431610107, 1.1136000156402588, 1.1030999422073364, 1.0283000469207764, 0.9047999978065491, 0.8733000159263611, 0.4645000100135803, 0.304500013589859, 0.5597000122070312, 0.4081000089645386, 0.7192000150680542, 0.5411999821662903, 0.08169999718666077, 0.8367000222206116, 0.6373000144958496, 1.7625999450683594, 1.7237000465393066, 1.694700002670288, 1.6794999837875366, 1.6634000539779663, 1.62090003490448, 1.6102999448776245, 1.597000002861023, 1.5961999893188477, 1.5587999820709229, 1.5503000020980835, 1.5484000444412231, 1.5356999635696411, 1.533400058746338, 1.5049999952316284, 1.499899983406067, 1.4752000570297241, 1.4717999696731567, 1.4457999467849731, 1.402500033378601, 1.3668999671936035, 1.3466999530792236, 1.3428000211715698, 1.260200023651123, 1.26010000705719, 1.2479000091552734, 1.2364000082015991, 1.236299991607666, 1.2344000339508057, 1.2138999700546265, 1.1205999851226807, 1.183500051498413, 1.0383000373840332, 1.0870000123977661, 0.9251000285148621, 0.6126000285148621, 0.33250001072883606, 0.06729999929666519, 0.5746999979019165, 0.3037000000476837, -0.21369999647140503, -0.219200000166893, 0.11240000277757645, 1.9636000394821167, 1.960800051689148, 1.907099962234497, 1.892699956893921, 1.8795000314712524, 1.8593000173568726, 1.8590999841690063, 1.8552000522613525, 1.8513000011444092, 1.8112000226974487, 1.7777999639511108, 1.7266000509262085, 1.6996999979019165, 1.6815999746322632, 1.645400047302246, 1.6272000074386597, 1.569200038909912, 1.514799952507019, 1.5017999410629272, 1.4879000186920166, 1.4788000583648682, 1.4752999544143677, 1.430400013923645, 1.4235999584197998, 1.3931000232696533, 1.3601000308990479, 1.3561999797821045, 1.3464000225067139, 1.3299000263214111, 1.3138999938964844, 1.2910000085830688, 1.239300012588501, 1.2309000492095947, 1.2128000259399414, 0.8968999981880188, 0.9898999929428101, 0.878000020980835, 0.8745999932289124, 0.15060000121593475, 0.04600000008940697, 0.0024999999441206455, 0.426800012588501, 0.5537999868392944, 2.107100009918213, 2.051500082015991, 2.0373001098632812, 2.0350000858306885, 1.9355000257492065, 1.8861000537872314, 1.7829999923706055, 1.774399995803833, 1.7656999826431274, 1.7476999759674072, 1.7378000020980835, 1.654099941253662, 1.6205999851226807, 1.5676000118255615, 1.5667999982833862, 1.5189000368118286, 1.490399956703186, 1.4776999950408936, 1.4764000177383423, 1.4608999490737915, 1.4251999855041504, 1.4127999544143677, 1.3355000019073486, 1.2684999704360962, 1.2619999647140503, 1.256700038909912, 1.2058000564575195, 1.1298999786376953, 1.0956000089645386, 1.0699000358581543, 1.0694999694824219, 1.0513999462127686, 0.7085999846458435, 0.7017999887466431, 0.43709999322891235, 0.06530000269412994, 0.982200026512146, 0.21870000660419464, 2.191699981689453, 2.1029999256134033, 2.0803000926971436, 2.0522000789642334, 2.0452001094818115, 1.9752999544143677, 1.9448000192642212, 1.9193999767303467, 1.8896000385284424, 1.8873000144958496, 1.876099944114685, 1.8535000085830688, 1.7773000001907349, 1.7135000228881836, 1.6690000295639038, 1.632699966430664, 1.6204999685287476, 1.6087000370025635, 1.5989999771118164, 1.5857000350952148, 1.579800009727478, 1.5743000507354736, 1.4665000438690186, 1.4606000185012817, 1.4052000045776367, 1.3812999725341797, 1.3797999620437622, 1.367400050163269, 1.3410999774932861, 1.3243999481201172, 1.278499960899353, 1.1929999589920044, 1.152400016784668, 1.0115000009536743, 0.7071999907493591, 0.5954999923706055, -0.09799999743700027, 0.7376999855041504]}, \"token.table\": {\"Topic\": [4, 7, 1, 5, 2, 5, 6, 3, 5, 7, 1, 1, 2, 4, 6, 7, 3, 4, 7, 2, 3, 6, 1, 5, 2, 4, 7, 2, 4, 1, 5, 7, 2, 3, 4, 7, 4, 6, 7, 2, 3, 4, 3, 5, 1, 2, 3, 4, 5, 7, 4, 7, 3, 7, 7, 1, 6, 7, 2, 4, 1, 3, 4, 3, 5, 7, 3, 4, 5, 6, 7, 1, 3, 4, 5, 2, 3, 5, 6, 7, 4, 7, 2, 1, 3, 3, 4, 2, 1, 7, 2, 3, 4, 1, 3, 4, 6, 4, 6, 7, 4, 7, 1, 7, 1, 4, 6, 2, 3, 1, 3, 7, 5, 6, 7, 1, 2, 2, 4, 5, 2, 7, 6, 3, 6, 2, 4, 5, 1, 4, 6, 1, 7, 1, 2, 3, 7, 4, 6, 4, 5, 6, 1, 5, 1, 2, 4, 5, 5, 7, 1, 5, 7, 1, 5, 2, 3, 5, 6, 7, 3, 5, 1, 3, 6, 1, 2, 4, 6, 7, 3, 4, 5, 7, 1, 2, 7, 1, 2, 3, 5, 2, 3, 4, 1, 3, 5, 6, 6, 2, 1, 4, 1, 7, 2, 3, 4, 2, 3, 4, 6, 2, 5, 3, 4, 5, 5, 5, 6, 5, 6, 7, 1, 2, 3, 5, 6, 7, 4, 6, 1, 2, 1, 2, 3, 5, 6, 7, 1, 2, 4, 7, 4, 7, 1, 2, 4, 4, 5, 6, 2, 3, 7, 1, 2, 7, 3, 7, 1, 6, 1, 3, 5, 7, 1, 3, 4, 7, 5, 4, 5, 6, 3, 4, 5, 7, 5, 6, 2, 4, 4, 5, 2, 3, 6, 3, 2, 2, 4, 6, 2, 3, 7, 2, 3, 6, 2, 3, 6, 1, 5, 6, 1, 3, 4, 5, 1, 1, 5, 1, 4, 5, 3, 4, 7, 1, 3, 6, 2, 5, 1, 5, 2, 4, 3, 6, 7, 4, 7, 2, 5, 7, 2, 7, 1, 2, 3, 4, 5, 1, 3, 7, 1, 2, 3, 6, 1, 4, 5, 3, 3, 4, 6, 1, 4, 2, 3, 6, 4, 5, 7, 1, 2, 4, 1, 2, 2, 3, 4, 5, 1, 5, 1, 2, 5, 1, 6, 1, 3, 5, 7, 2, 6, 1, 4, 3, 7, 3, 6, 1, 2, 3, 4, 5, 7, 2, 5, 5, 1, 2, 4, 7, 1, 2, 6, 7, 1, 4, 7, 1, 3, 7, 4, 5, 1, 3, 6, 6, 7, 3, 5, 6, 1, 3, 6, 7, 1, 3, 5, 6, 3, 4, 7, 2, 4, 6, 1, 6, 7, 2, 5, 5, 6, 3, 4, 5, 2, 3, 7, 5, 7, 1, 6, 6, 1, 6, 1, 5, 1, 3, 4, 6, 7, 4, 5, 1, 2, 5, 7, 1, 5, 5, 3, 6, 7, 1, 2, 5, 5, 6, 7, 3, 4, 7, 1, 6, 2, 4, 6, 2, 3, 5, 7, 1, 3, 6, 1, 4, 6, 7, 1, 5, 4, 6, 7, 1, 5, 7, 6, 4, 7, 4, 7, 2, 4, 5, 6, 2, 5, 6, 7, 1, 4, 7, 4, 3, 4, 2, 4, 5, 6, 1, 3, 6, 1, 2, 3, 4, 5, 6, 7, 1, 4, 5, 6, 7, 2, 4, 6, 7, 2, 7, 5, 4, 6, 1, 5, 7, 2, 7, 1, 5, 6, 3, 4, 3, 4, 1, 3, 5, 2, 3, 6, 2, 5, 1, 3, 4, 2, 3, 5, 6, 3, 7, 1, 2, 7, 5, 4, 5, 3, 1, 4, 5, 6, 1, 2, 3, 5, 6, 1, 3, 4, 5, 7, 1, 2, 3, 4, 7, 5, 1, 2, 3, 5, 2, 3, 2, 3], \"Freq\": [0.5245791077613831, 0.34971940517425537, 0.37086746096611023, 0.5563011765480042, 0.6238707304000854, 0.15596768260002136, 0.15596768260002136, 0.3575060963630676, 0.071501225233078, 0.5005085468292236, 0.7612835168838501, 0.06053665652871132, 0.5448299050331116, 0.24214662611484528, 0.06053665652871132, 0.06053665652871132, 0.35727789998054504, 0.17863894999027252, 0.35727789998054504, 0.15742936730384827, 0.4722881019115448, 0.31485873460769653, 0.527053952217102, 0.3162323832511902, 0.5326622128486633, 0.13316555321216583, 0.26633110642433167, 0.6392598152160645, 0.3196299076080322, 0.1556892991065979, 0.1556892991065979, 0.6227571964263916, 0.23239965736865997, 0.07746654748916626, 0.15493309497833252, 0.3873327672481537, 0.15737834572792053, 0.6295133829116821, 0.15737834572792053, 0.9216200709342957, 0.7865667939186096, 0.15731336176395416, 0.2870599329471588, 0.6698065400123596, 0.23134472966194153, 0.07711490988731384, 0.26990216970443726, 0.15422981977462769, 0.1927872747182846, 0.03855745494365692, 0.2035505473613739, 0.7124269008636475, 0.15210886299610138, 0.7605443000793457, 0.9538601040840149, 0.5342315435409546, 0.2671157717704773, 0.17807719111442566, 0.5979583859443665, 0.3587750196456909, 0.6139247417449951, 0.10232079029083252, 0.20464158058166504, 0.15863043069839478, 0.15863043069839478, 0.4758912920951843, 0.11877744644880295, 0.2375548928976059, 0.4751097857952118, 0.059388723224401474, 0.059388723224401474, 0.268832802772522, 0.537665605545044, 0.134416401386261, 0.9691303372383118, 0.17478211224079132, 0.5826070308685303, 0.05826070159673691, 0.11652140319347382, 0.05826070159673691, 0.6986948251724243, 0.17467370629310608, 0.9409201741218567, 0.11206024140119553, 0.7844216823577881, 0.12055463343858719, 0.8438824415206909, 0.9026448130607605, 0.392882764339447, 0.5893241167068481, 0.7064107060432434, 0.10596160590648651, 0.14128214120864868, 0.27826783061027527, 0.05565356835722923, 0.11130713671445847, 0.500882089138031, 0.7891703844070435, 0.09864629805088043, 0.09864629805088043, 0.5703533887863159, 0.28517669439315796, 0.8297986388206482, 0.09219985455274582, 0.15521596372127533, 0.6208638548851013, 0.15521596372127533, 0.348827987909317, 0.5232419967651367, 0.18289686739444733, 0.5486906170845032, 0.18289686739444733, 0.2773498594760895, 0.554699718952179, 0.13867492973804474, 0.2435344159603119, 0.7306032180786133, 0.2046038657426834, 0.7161135673522949, 0.05115096643567085, 0.5420459508895874, 0.40653446316719055, 0.9604665637016296, 0.45367029309272766, 0.5184803605079651, 0.14337977766990662, 0.78858882188797, 0.035844944417476654, 0.29323068261146545, 0.26657336950302124, 0.3998600244522095, 0.7682817578315735, 0.15365634858608246, 0.27864623069763184, 0.1741538941860199, 0.41796934604644775, 0.10449233651161194, 0.7133018374443054, 0.17832545936107635, 0.2670309543609619, 0.13351547718048096, 0.5340619087219238, 0.800346314907074, 0.1600692719221115, 0.0789748877286911, 0.8687237501144409, 0.14852716028690338, 0.7426357865333557, 0.17912493646144867, 0.7164997458457947, 0.29698166251182556, 0.29698166251182556, 0.37122705578804016, 0.8435789942741394, 0.10544737428426743, 0.3112781345844269, 0.07781953364610672, 0.23345860838890076, 0.3112781345844269, 0.07781953364610672, 0.5083090662956238, 0.3388727307319641, 0.31817391514778137, 0.530289888381958, 0.10605797171592712, 0.06860129535198212, 0.13720259070396423, 0.13720259070396423, 0.4802090525627136, 0.06860129535198212, 0.5537135601043701, 0.2076425850391388, 0.13842839002609253, 0.06921419501304626, 0.23511624336242676, 0.11755812168121338, 0.5877906084060669, 0.4728213846683502, 0.31521424651145935, 0.07880356162786484, 0.07880356162786484, 0.10642918944358826, 0.3725021481513977, 0.47893133759498596, 0.8025200963020325, 0.23603661358356476, 0.5900915265083313, 0.11801830679178238, 0.9525681138038635, 0.8320489525794983, 0.17511090636253357, 0.7004436254501343, 0.744155764579773, 0.1653679460287094, 0.5527007579803467, 0.18423359096050262, 0.18423359096050262, 0.18782562017440796, 0.3585761785507202, 0.20490068197250366, 0.23905079066753387, 0.23003530502319336, 0.6901059150695801, 0.12293020635843277, 0.3687906265258789, 0.4917208254337311, 0.9094273447990417, 0.507905900478363, 0.3386039137840271, 0.21019107103347778, 0.6305732131004333, 0.9194592833518982, 0.861568033695221, 0.21569466590881348, 0.30197253823280334, 0.17255572974681854, 0.043138932436704636, 0.21569466590881348, 0.17271670699119568, 0.6908668279647827, 0.7063354849815369, 0.17658387124538422, 0.12909308075904846, 0.32273268699645996, 0.1506085842847824, 0.1506085842847824, 0.17212410271167755, 0.04303102567791939, 0.9274928569793701, 0.2941138446331024, 0.2941138446331024, 0.3676423132419586, 0.6573593020439148, 0.21911977231502533, 0.3745708763599396, 0.4280810058116913, 0.16053038835525513, 0.12817633152008057, 0.5127053260803223, 0.3204408288002014, 0.9576005339622498, 0.36598995327949524, 0.5489848852157593, 0.6522877812385559, 0.05929889157414436, 0.23719556629657745, 0.09756466001272202, 0.7805172801017761, 0.7983075976371765, 0.09978844970464706, 0.5261868238449097, 0.07516954839229584, 0.15033909678459167, 0.22550863027572632, 0.19198104739189148, 0.19198104739189148, 0.1279873549938202, 0.44795575737953186, 0.9563164114952087, 0.63631671667099, 0.09090238064527512, 0.18180476129055023, 0.19358129799365997, 0.14518597722053528, 0.5323485732078552, 0.14518597722053528, 0.18627771735191345, 0.7451108694076538, 0.5997596383094788, 0.2998798191547394, 0.6725032925605774, 0.134500652551651, 0.0780491977930069, 0.2341475933790207, 0.6243935823440552, 0.9652636647224426, 0.9217666387557983, 0.1834288388490677, 0.5502865314483643, 0.1834288388490677, 0.13895319402217865, 0.6947659254074097, 0.9313338994979858, 0.4105296730995178, 0.1368432193994522, 0.4105296730995178, 0.6362813711166382, 0.28921881318092346, 0.05784376338124275, 0.11832930892705917, 0.5916465520858765, 0.23665861785411835, 0.2558896839618683, 0.19902531802654266, 0.5117793679237366, 0.02843218855559826, 0.8329442739486694, 0.17900992929935455, 0.7160397171974182, 0.5298522710800171, 0.11518527567386627, 0.3225187659263611, 0.158488467335701, 0.633953869342804, 0.158488467335701, 0.7476662993431091, 0.2345619797706604, 0.014660123735666275, 0.3041941523551941, 0.6083883047103882, 0.2856573462486267, 0.5713146924972534, 0.23833423852920532, 0.715002715587616, 0.2122851461172104, 0.2122851461172104, 0.4953320324420929, 0.3416098654270172, 0.512414813041687, 0.9789126515388489, 0.24828381836414337, 0.7448514699935913, 0.10361222177743912, 0.8288977742195129, 0.2539677023887634, 0.10158707201480865, 0.05079353600740433, 0.2539677023887634, 0.30476123094558716, 0.18312856554985046, 0.549385666847229, 0.18312856554985046, 0.1477060616016388, 0.09847071021795273, 0.5908242464065552, 0.1477060616016388, 0.19278502464294434, 0.4819625914096832, 0.19278502464294434, 0.9464266896247864, 0.1827266663312912, 0.5481800436973572, 0.1827266663312912, 0.18864589929580688, 0.5659376978874207, 0.6930928230285645, 0.0693092867732048, 0.1386185735464096, 0.8154388666152954, 0.06272606551647186, 0.06272606551647186, 0.541731595993042, 0.18057718873023987, 0.18057718873023987, 0.78896564245224, 0.13149426877498627, 0.09403426200151443, 0.42315420508384705, 0.09403426200151443, 0.3291199207305908, 0.6187280416488647, 0.24749122560024261, 0.08885182440280914, 0.3109813928604126, 0.5775368809700012, 0.3676901161670685, 0.5515351891517639, 0.07209166139364243, 0.43254995346069336, 0.36045828461647034, 0.07209166139364243, 0.6381879448890686, 0.15954698622226715, 0.14607775211334229, 0.7303887009620667, 0.2642807960510254, 0.6607020497322083, 0.12807084619998932, 0.7684250473976135, 0.15943652391433716, 0.4384504556655884, 0.07971826195716858, 0.15943652391433716, 0.07971826195716858, 0.07971826195716858, 0.2981887459754944, 0.5963774919509888, 0.962684690952301, 0.3002724349498749, 0.18016347289085388, 0.18016347289085388, 0.3002724349498749, 0.2316342443227768, 0.1737256795167923, 0.1737256795167923, 0.4632684886455536, 0.3920747637748718, 0.13069158792495728, 0.3920747637748718, 0.2750602662563324, 0.5501205325126648, 0.0687650665640831, 0.6031896471977234, 0.361913800239563, 0.5924299359321594, 0.23697197437286377, 0.17772898077964783, 0.18337123095989227, 0.7334849238395691, 0.17706702649593353, 0.17706702649593353, 0.5312011241912842, 0.18724678456783295, 0.7489871382713318, 0.6797595620155334, 0.2719038426876068, 0.11800585687160492, 0.4720234274864197, 0.11800585687160492, 0.11800585687160492, 0.13197976350784302, 0.6598987579345703, 0.13197976350784302, 0.8689871430397034, 0.567941427230835, 0.2839707136154175, 0.3392404317855835, 0.48462918400764465, 0.14538875222206116, 0.41453564167022705, 0.49744275212287903, 0.8191729784011841, 0.13652881979942322, 0.533770740032196, 0.17792358994483948, 0.35584717988967896, 0.5527762770652771, 0.18425875902175903, 0.18425875902175903, 0.536403238773346, 0.35760217905044556, 0.555233895778656, 0.3701559007167816, 0.9472413063049316, 0.7184415459632874, 0.11974026262760162, 0.7044209837913513, 0.17610524594783783, 0.19505217671394348, 0.09752608835697174, 0.39010435342788696, 0.09752608835697174, 0.09752608835697174, 0.11849930137395859, 0.8294950723648071, 0.14010639488697052, 0.14010639488697052, 0.5604255795478821, 0.14010639488697052, 0.654556930065155, 0.16363923251628876, 0.9638946652412415, 0.18237406015396118, 0.36474812030792236, 0.36474812030792236, 0.15379397571086884, 0.7689698934555054, 0.8696215152740479, 0.2784169018268585, 0.13920845091342926, 0.556833803653717, 0.20221655070781708, 0.6572037935256958, 0.10110827535390854, 0.16528812050819397, 0.793383002281189, 0.4962219297885895, 0.2977331578731537, 0.1984887719154358, 0.4142203629016876, 0.27614691853523254, 0.2071101814508438, 0.06903672963380814, 0.08171973377466202, 0.16343946754932404, 0.6537578701972961, 0.47046735882759094, 0.15682245790958405, 0.15682245790958405, 0.15682245790958405, 0.7987334132194519, 0.11410477757453918, 0.17068485915660858, 0.17068485915660858, 0.6827394366264343, 0.17921872437000275, 0.5376561880111694, 0.17921872437000275, 0.8272910714149475, 0.7766736149787903, 0.1553347259759903, 0.5369648933410645, 0.3579765856266022, 0.1631222516298294, 0.4078056216239929, 0.2446833699941635, 0.1631222516298294, 0.3198432922363281, 0.10661442577838898, 0.1421525776386261, 0.39091956615448, 0.15566472709178925, 0.3113294541835785, 0.46699419617652893, 0.9173267483711243, 0.7466990351676941, 0.18667475879192352, 0.81927090883255, 0.2723887264728546, 0.2723887264728546, 0.4085831046104431, 0.2847089469432831, 0.6263597011566162, 0.056941788643598557, 0.20184355974197388, 0.06728118658065796, 0.08970824629068375, 0.1569894254207611, 0.13456237316131592, 0.22427061200141907, 0.08970824629068375, 0.18202698230743408, 0.18202698230743408, 0.03640539571642876, 0.400459349155426, 0.18202698230743408, 0.3254089951515198, 0.18078278005123138, 0.07231311500072479, 0.39772212505340576, 0.527562141418457, 0.3517080843448639, 0.8917587399482727, 0.44183993339538574, 0.44183993339538574, 0.619232714176178, 0.12384654581546783, 0.12384654581546783, 0.6008100509643555, 0.30040502548217773, 0.13367204368114471, 0.26734408736228943, 0.5346881747245789, 0.6309043169021606, 0.3154521584510803, 0.6964631676673889, 0.23215438425540924, 0.526601254940033, 0.1755337417125702, 0.1755337417125702, 0.10390718281269073, 0.5195358991622925, 0.311721533536911, 0.24558629095554352, 0.7367588877677917, 0.1874946802854538, 0.5624840259552002, 0.1874946802854538, 0.2166416049003601, 0.2166416049003601, 0.4332832098007202, 0.07221386581659317, 0.11882530152797699, 0.7129517793655396, 0.7238674759864807, 0.1447734832763672, 0.10858011990785599, 0.8701282739639282, 0.09851136058568954, 0.7880908846855164, 0.8504388928413391, 0.22458837926387787, 0.44917675852775574, 0.22458837926387787, 0.04491767659783363, 0.5193219184875488, 0.0865536481142044, 0.22503948211669922, 0.051932189613580704, 0.12117511034011841, 0.19682195782661438, 0.19682195782661438, 0.19682195782661438, 0.34443843364715576, 0.049205489456653595, 0.19567717611789703, 0.41309627890586853, 0.26090291142463684, 0.10870954394340515, 0.02174190804362297, 0.8917077779769897, 0.2571267783641815, 0.10713616013526917, 0.47139912843704224, 0.14999063313007355, 0.48308902978897095, 0.48308902978897095, 0.7648577690124512, 0.152971550822258], \"Term\": [\"ability\", \"ability\", \"accident\", \"accident\", \"accidentally\", \"accidentally\", \"accidentally\", \"action\", \"action\", \"action\", \"adaptation\", \"agent\", \"agent\", \"agent\", \"agent\", \"agent\", \"aid\", \"aid\", \"aid\", \"ally\", \"ally\", \"ally\", \"always\", \"always\", \"animal\", \"animal\", \"animal\", \"area\", \"area\", \"attack\", \"attack\", \"attack\", \"attempt\", \"attempt\", \"attempt\", \"attempt\", \"attention\", \"attention\", \"attention\", \"authority\", \"award\", \"award\", \"away\", \"away\", \"back\", \"back\", \"back\", \"back\", \"back\", \"back\", \"band\", \"band\", \"battle\", \"battle\", \"blood\", \"body\", \"body\", \"body\", \"bond\", \"bond\", \"book\", \"book\", \"book\", \"boss\", \"boss\", \"boss\", \"boy\", \"boy\", \"boy\", \"boy\", \"boy\", \"break\", \"break\", \"break\", \"brother\", \"business\", \"business\", \"business\", \"business\", \"business\", \"career\", \"career\", \"case\", \"chance\", \"chance\", \"change\", \"change\", \"chaos\", \"character\", \"character\", \"child\", \"child\", \"child\", \"city\", \"city\", \"city\", \"city\", \"class\", \"class\", \"class\", \"client\", \"client\", \"college\", \"college\", \"comedy\", \"comedy\", \"comedy\", \"consequence\", \"consequence\", \"control\", \"control\", \"control\", \"cop\", \"cop\", \"cop\", \"country\", \"country\", \"couple\", \"couple\", \"couple\", \"court\", \"court\", \"crew\", \"crime\", \"crime\", \"daughter\", \"daughter\", \"daughter\", \"day\", \"day\", \"day\", \"dealer\", \"dealer\", \"death\", \"death\", \"death\", \"death\", \"detective\", \"detective\", \"director\", \"director\", \"director\", \"disaster\", \"disaster\", \"discover\", \"discover\", \"discovery\", \"discovery\", \"dragon\", \"dragon\", \"dream\", \"dream\", \"dream\", \"drug\", \"drug\", \"earth\", \"earth\", \"earth\", \"earth\", \"earth\", \"effort\", \"effort\", \"encounter\", \"encounter\", \"encounter\", \"end\", \"end\", \"end\", \"end\", \"end\", \"enemy\", \"enemy\", \"enemy\", \"enemy\", \"escape\", \"escape\", \"escape\", \"even\", \"even\", \"even\", \"even\", \"event\", \"event\", \"event\", \"eventually\", \"ex\", \"ex\", \"ex\", \"existence\", \"experience\", \"experiment\", \"experiment\", \"eye\", \"eye\", \"face\", \"face\", \"face\", \"family\", \"family\", \"family\", \"family\", \"far\", \"far\", \"father\", \"father\", \"father\", \"fighter\", \"figure\", \"figure\", \"finally\", \"finally\", \"firm\", \"first\", \"force\", \"force\", \"force\", \"force\", \"force\", \"forever\", \"forever\", \"freedom\", \"freedom\", \"friend\", \"friend\", \"friend\", \"friend\", \"friend\", \"friend\", \"friendship\", \"game\", \"game\", \"game\", \"gang\", \"gang\", \"girl\", \"girl\", \"girl\", \"girlfriend\", \"girlfriend\", \"girlfriend\", \"government\", \"ground\", \"ground\", \"group\", \"group\", \"group\", \"hand\", \"hand\", \"head\", \"head\", \"heart\", \"heart\", \"heart\", \"heart\", \"help\", \"help\", \"help\", \"help\", \"hero\", \"history\", \"history\", \"history\", \"home\", \"home\", \"home\", \"home\", \"hospital\", \"hospital\", \"hour\", \"hour\", \"house\", \"house\", \"however\", \"however\", \"however\", \"husband\", \"identity\", \"invasion\", \"invasion\", \"invasion\", \"jail\", \"jail\", \"job\", \"kid\", \"kid\", \"kid\", \"killer\", \"killer\", \"killer\", \"leader\", \"leader\", \"leader\", \"life\", \"life\", \"life\", \"life\", \"line\", \"long\", \"long\", \"love\", \"love\", \"love\", \"machine\", \"machine\", \"machine\", \"man\", \"man\", \"man\", \"mankind\", \"mankind\", \"marriage\", \"marriage\", \"meanwhile\", \"meanwhile\", \"member\", \"member\", \"member\", \"memory\", \"memory\", \"mission\", \"money\", \"money\", \"monster\", \"monster\", \"mother\", \"mother\", \"mother\", \"mother\", \"mother\", \"move\", \"move\", \"move\", \"murder\", \"murder\", \"murder\", \"murder\", \"music\", \"music\", \"music\", \"mystery\", \"name\", \"name\", \"name\", \"nature\", \"nature\", \"never\", \"never\", \"never\", \"night\", \"night\", \"night\", \"odd\", \"odd\", \"odd\", \"operation\", \"operation\", \"order\", \"order\", \"order\", \"order\", \"owner\", \"owner\", \"parent\", \"parent\", \"parent\", \"part\", \"part\", \"partner\", \"partner\", \"partner\", \"partner\", \"party\", \"party\", \"passion\", \"passion\", \"past\", \"past\", \"path\", \"path\", \"people\", \"people\", \"people\", \"people\", \"people\", \"people\", \"person\", \"person\", \"pilot\", \"place\", \"place\", \"place\", \"place\", \"plan\", \"plan\", \"plan\", \"plan\", \"point\", \"point\", \"point\", \"police\", \"police\", \"police\", \"power\", \"power\", \"prison\", \"prison\", \"prison\", \"problem\", \"problem\", \"producer\", \"producer\", \"producer\", \"professor\", \"professor\", \"program\", \"program\", \"question\", \"question\", \"question\", \"question\", \"race\", \"race\", \"race\", \"reality\", \"really\", \"really\", \"relationship\", \"relationship\", \"relationship\", \"rescue\", \"rescue\", \"ring\", \"ring\", \"romance\", \"romance\", \"romance\", \"rule\", \"rule\", \"rule\", \"scheme\", \"scheme\", \"school\", \"school\", \"score\", \"search\", \"search\", \"seemingly\", \"seemingly\", \"self\", \"self\", \"self\", \"self\", \"self\", \"set\", \"set\", \"shop\", \"shop\", \"shop\", \"shop\", \"show\", \"show\", \"sister\", \"situation\", \"situation\", \"situation\", \"skill\", \"skill\", \"slowly\", \"soldier\", \"soldier\", \"soldier\", \"son\", \"son\", \"son\", \"soon\", \"soon\", \"space\", \"space\", \"space\", \"still\", \"still\", \"still\", \"still\", \"story\", \"story\", \"story\", \"struggle\", \"struggle\", \"struggle\", \"struggle\", \"student\", \"student\", \"survive\", \"survive\", \"survive\", \"survivor\", \"survivor\", \"survivor\", \"system\", \"tale\", \"tale\", \"task\", \"task\", \"teacher\", \"teacher\", \"teacher\", \"teacher\", \"team\", \"team\", \"team\", \"team\", \"teen\", \"teen\", \"teen\", \"television\", \"tension\", \"tension\", \"terror\", \"test\", \"test\", \"test\", \"thing\", \"thing\", \"thing\", \"time\", \"time\", \"time\", \"time\", \"time\", \"time\", \"time\", \"together\", \"together\", \"together\", \"together\", \"together\", \"town\", \"town\", \"town\", \"town\", \"tragedy\", \"tragedy\", \"train\", \"travel\", \"travel\", \"trouble\", \"trouble\", \"trouble\", \"truth\", \"truth\", \"turn\", \"turn\", \"turn\", \"vacation\", \"vacation\", \"victim\", \"victim\", \"view\", \"view\", \"view\", \"village\", \"village\", \"village\", \"vision\", \"vision\", \"vow\", \"vow\", \"vow\", \"war\", \"war\", \"war\", \"war\", \"warrior\", \"warrior\", \"way\", \"way\", \"way\", \"weapon\", \"wedding\", \"wedding\", \"well\", \"wife\", \"wife\", \"wife\", \"wife\", \"woman\", \"woman\", \"woman\", \"woman\", \"woman\", \"work\", \"work\", \"work\", \"work\", \"work\", \"world\", \"world\", \"world\", \"world\", \"world\", \"writer\", \"year\", \"year\", \"year\", \"year\", \"yet\", \"yet\", \"zombie\", \"zombie\"]}, \"R\": 30, \"lambda.step\": 0.01, \"plot.opts\": {\"xlab\": \"PC1\", \"ylab\": \"PC2\"}, \"topic.order\": [1, 4, 7, 2, 5, 6, 3]};\n",
              "\n",
              "function LDAvis_load_lib(url, callback){\n",
              "  var s = document.createElement('script');\n",
              "  s.src = url;\n",
              "  s.async = true;\n",
              "  s.onreadystatechange = s.onload = callback;\n",
              "  s.onerror = function(){console.warn(\"failed to load library \" + url);};\n",
              "  document.getElementsByTagName(\"head\")[0].appendChild(s);\n",
              "}\n",
              "\n",
              "if(typeof(LDAvis) !== \"undefined\"){\n",
              "   // already loaded: just create the visualization\n",
              "   !function(LDAvis){\n",
              "       new LDAvis(\"#\" + \"ldavis_el1361396659511161681032556080\", ldavis_el1361396659511161681032556080_data);\n",
              "   }(LDAvis);\n",
              "}else if(typeof define === \"function\" && define.amd){\n",
              "   // require.js is available: use it to load d3/LDAvis\n",
              "   require.config({paths: {d3: \"https://cdnjs.cloudflare.com/ajax/libs/d3/3.5.5/d3.min\"}});\n",
              "   require([\"d3\"], function(d3){\n",
              "      window.d3 = d3;\n",
              "      LDAvis_load_lib(\"https://cdn.rawgit.com/bmabey/pyLDAvis/files/ldavis.v1.0.0.js\", function(){\n",
              "        new LDAvis(\"#\" + \"ldavis_el1361396659511161681032556080\", ldavis_el1361396659511161681032556080_data);\n",
              "      });\n",
              "    });\n",
              "}else{\n",
              "    // require.js not available: dynamically load d3 & LDAvis\n",
              "    LDAvis_load_lib(\"https://cdnjs.cloudflare.com/ajax/libs/d3/3.5.5/d3.min.js\", function(){\n",
              "         LDAvis_load_lib(\"https://cdn.rawgit.com/bmabey/pyLDAvis/files/ldavis.v1.0.0.js\", function(){\n",
              "                 new LDAvis(\"#\" + \"ldavis_el1361396659511161681032556080\", ldavis_el1361396659511161681032556080_data);\n",
              "            })\n",
              "         });\n",
              "}\n",
              "</script>"
            ],
            "text/plain": [
              "<IPython.core.display.HTML object>"
            ]
          },
          "metadata": {
            "tags": []
          },
          "execution_count": 66
        }
      ]
    },
    {
      "cell_type": "markdown",
      "metadata": {
        "id": "sJFbnUhluYJa",
        "colab_type": "text"
      },
      "source": [
        "The word distribution in this 7 topics looks coherent.\n",
        "\n",
        "We then create new variables equal to 1 if the probability to belong to a topic is > 0.2, 0 otherwise. \n"
      ]
    },
    {
      "cell_type": "code",
      "metadata": {
        "id": "ESoi6p5BTv7D",
        "colab_type": "code",
        "colab": {}
      },
      "source": [
        "#We create new variables with 1 if the probabilities to belong to each topic is > 0.2, 0 otherwise\n",
        "zero_data = np.zeros(shape=(len(df_NLP),1))\n",
        "df_NLP['topic_1'] = pd.DataFrame(zero_data, columns=['topic_1'])\n",
        "df_NLP['topic_2'] = pd.DataFrame(zero_data, columns=['topic_2'])\n",
        "df_NLP['topic_3'] = pd.DataFrame(zero_data, columns=['topic_3'])\n",
        "df_NLP['topic_4'] = pd.DataFrame(zero_data, columns=['topic_4'])\n",
        "df_NLP['topic_5'] = pd.DataFrame(zero_data, columns=['topic_5'])\n",
        "df_NLP['topic_6'] = pd.DataFrame(zero_data, columns=['topic_6'])\n",
        "df_NLP['topic_7'] = pd.DataFrame(zero_data, columns=['topic_7'])\n",
        "\n",
        "for i in range(len(df_NLP)):\n",
        "    top_topics = lda_model.get_document_topics(train_corpus[i], minimum_probability=0.0)\n",
        "    if top_topics[0][1] > 0.2 : \n",
        "      df_NLP['topic_1'][i] = 1\n",
        "    if top_topics[1][1] > 0.2 : \n",
        "      df_NLP['topic_2'][i] = 1\n",
        "    if top_topics[2][1] > 0.2 : \n",
        "      df_NLP['topic_3'][i] = 1\n",
        "    if top_topics[3][1] > 0.2 : \n",
        "      df_NLP['topic_4'][i] = 1\n",
        "    if top_topics[4][1] > 0.2 : \n",
        "      df_NLP['topic_5'][i] = 1\n",
        "    if top_topics[5][1] > 0.2 : \n",
        "      df_NLP['topic_6'][i] = 1\n",
        "    if top_topics[6][1] > 0.2 : \n",
        "      df_NLP['topic_7'][i] = 1\n"
      ],
      "execution_count": 0,
      "outputs": []
    },
    {
      "cell_type": "markdown",
      "metadata": {
        "id": "TA279Cwghx3M",
        "colab_type": "text"
      },
      "source": [
        "And we finally get the dataset with our NLP-created variables we are going to use for our predictions :"
      ]
    },
    {
      "cell_type": "code",
      "metadata": {
        "id": "fg_SlEGXL0HO",
        "colab_type": "code",
        "outputId": "a89370f5-ff5a-4645-bdd6-08540a148ac8",
        "colab": {
          "base_uri": "https://localhost:8080/",
          "height": 243
        }
      },
      "source": [
        "#We don't need the overview and the id anymore\n",
        "df_NLP= df_NLP.drop(['overview','id'], axis=1)\n",
        "\n",
        "#We get the final base we can use to predict the variable 'vote_average'\n",
        "df_NLP.head()"
      ],
      "execution_count": 0,
      "outputs": [
        {
          "output_type": "execute_result",
          "data": {
            "text/html": [
              "<div>\n",
              "<style scoped>\n",
              "    .dataframe tbody tr th:only-of-type {\n",
              "        vertical-align: middle;\n",
              "    }\n",
              "\n",
              "    .dataframe tbody tr th {\n",
              "        vertical-align: top;\n",
              "    }\n",
              "\n",
              "    .dataframe thead th {\n",
              "        text-align: right;\n",
              "    }\n",
              "</style>\n",
              "<table border=\"1\" class=\"dataframe\">\n",
              "  <thead>\n",
              "    <tr style=\"text-align: right;\">\n",
              "      <th></th>\n",
              "      <th>adult</th>\n",
              "      <th>belongs_to_collection</th>\n",
              "      <th>budget</th>\n",
              "      <th>popularity</th>\n",
              "      <th>revenue</th>\n",
              "      <th>runtime</th>\n",
              "      <th>vote_average</th>\n",
              "      <th>vote_count</th>\n",
              "      <th>polarity</th>\n",
              "      <th>nb_review</th>\n",
              "      <th>en</th>\n",
              "      <th>fr</th>\n",
              "      <th>year</th>\n",
              "      <th>january</th>\n",
              "      <th>february</th>\n",
              "      <th>march</th>\n",
              "      <th>april</th>\n",
              "      <th>may</th>\n",
              "      <th>june</th>\n",
              "      <th>july</th>\n",
              "      <th>august</th>\n",
              "      <th>september</th>\n",
              "      <th>october</th>\n",
              "      <th>november</th>\n",
              "      <th>december</th>\n",
              "      <th>Drama</th>\n",
              "      <th>Romance</th>\n",
              "      <th>Science Fiction</th>\n",
              "      <th>Horror</th>\n",
              "      <th>Action</th>\n",
              "      <th>Comedy</th>\n",
              "      <th>Adventure</th>\n",
              "      <th>War</th>\n",
              "      <th>Crime</th>\n",
              "      <th>Thriller</th>\n",
              "      <th>Animation</th>\n",
              "      <th>Mystery</th>\n",
              "      <th>Fantasy</th>\n",
              "      <th>History</th>\n",
              "      <th>Family</th>\n",
              "      <th>Music</th>\n",
              "      <th>Western</th>\n",
              "      <th>Documentary</th>\n",
              "      <th>TV Movie</th>\n",
              "      <th>topic_1</th>\n",
              "      <th>topic_2</th>\n",
              "      <th>topic_3</th>\n",
              "      <th>topic_4</th>\n",
              "      <th>topic_5</th>\n",
              "      <th>topic_6</th>\n",
              "      <th>topic_7</th>\n",
              "    </tr>\n",
              "  </thead>\n",
              "  <tbody>\n",
              "    <tr>\n",
              "      <th>0</th>\n",
              "      <td>1</td>\n",
              "      <td>0</td>\n",
              "      <td>0</td>\n",
              "      <td>10.142662</td>\n",
              "      <td>0.0</td>\n",
              "      <td>101.0</td>\n",
              "      <td>7.3</td>\n",
              "      <td>163.0</td>\n",
              "      <td>0.674419</td>\n",
              "      <td>43</td>\n",
              "      <td>0</td>\n",
              "      <td>1</td>\n",
              "      <td>1967</td>\n",
              "      <td>0</td>\n",
              "      <td>0</td>\n",
              "      <td>0</td>\n",
              "      <td>0</td>\n",
              "      <td>1</td>\n",
              "      <td>0</td>\n",
              "      <td>0</td>\n",
              "      <td>0</td>\n",
              "      <td>0</td>\n",
              "      <td>0</td>\n",
              "      <td>0</td>\n",
              "      <td>0</td>\n",
              "      <td>1.0</td>\n",
              "      <td>1.0</td>\n",
              "      <td>0.0</td>\n",
              "      <td>0.0</td>\n",
              "      <td>0.0</td>\n",
              "      <td>0.0</td>\n",
              "      <td>0.0</td>\n",
              "      <td>0.0</td>\n",
              "      <td>0.0</td>\n",
              "      <td>0.0</td>\n",
              "      <td>0.0</td>\n",
              "      <td>0.0</td>\n",
              "      <td>0.0</td>\n",
              "      <td>0.0</td>\n",
              "      <td>0.0</td>\n",
              "      <td>0.0</td>\n",
              "      <td>0.0</td>\n",
              "      <td>0.0</td>\n",
              "      <td>0.0</td>\n",
              "      <td>0.0</td>\n",
              "      <td>1.0</td>\n",
              "      <td>0.0</td>\n",
              "      <td>0.0</td>\n",
              "      <td>0.0</td>\n",
              "      <td>0.0</td>\n",
              "      <td>1.0</td>\n",
              "    </tr>\n",
              "    <tr>\n",
              "      <th>1</th>\n",
              "      <td>1</td>\n",
              "      <td>1</td>\n",
              "      <td>35000000</td>\n",
              "      <td>13.492845</td>\n",
              "      <td>113374103.0</td>\n",
              "      <td>108.0</td>\n",
              "      <td>5.5</td>\n",
              "      <td>457.0</td>\n",
              "      <td>0.867987</td>\n",
              "      <td>303</td>\n",
              "      <td>1</td>\n",
              "      <td>0</td>\n",
              "      <td>1995</td>\n",
              "      <td>0</td>\n",
              "      <td>0</td>\n",
              "      <td>0</td>\n",
              "      <td>0</td>\n",
              "      <td>0</td>\n",
              "      <td>0</td>\n",
              "      <td>1</td>\n",
              "      <td>0</td>\n",
              "      <td>0</td>\n",
              "      <td>0</td>\n",
              "      <td>0</td>\n",
              "      <td>0</td>\n",
              "      <td>0.0</td>\n",
              "      <td>0.0</td>\n",
              "      <td>1.0</td>\n",
              "      <td>1.0</td>\n",
              "      <td>1.0</td>\n",
              "      <td>0.0</td>\n",
              "      <td>0.0</td>\n",
              "      <td>0.0</td>\n",
              "      <td>0.0</td>\n",
              "      <td>0.0</td>\n",
              "      <td>0.0</td>\n",
              "      <td>0.0</td>\n",
              "      <td>0.0</td>\n",
              "      <td>0.0</td>\n",
              "      <td>0.0</td>\n",
              "      <td>0.0</td>\n",
              "      <td>0.0</td>\n",
              "      <td>0.0</td>\n",
              "      <td>0.0</td>\n",
              "      <td>1.0</td>\n",
              "      <td>1.0</td>\n",
              "      <td>0.0</td>\n",
              "      <td>0.0</td>\n",
              "      <td>0.0</td>\n",
              "      <td>0.0</td>\n",
              "      <td>0.0</td>\n",
              "    </tr>\n",
              "    <tr>\n",
              "      <th>2</th>\n",
              "      <td>1</td>\n",
              "      <td>0</td>\n",
              "      <td>25000000</td>\n",
              "      <td>5.146352</td>\n",
              "      <td>0.0</td>\n",
              "      <td>100.0</td>\n",
              "      <td>5.9</td>\n",
              "      <td>112.0</td>\n",
              "      <td>1.000000</td>\n",
              "      <td>4</td>\n",
              "      <td>1</td>\n",
              "      <td>0</td>\n",
              "      <td>1994</td>\n",
              "      <td>0</td>\n",
              "      <td>0</td>\n",
              "      <td>0</td>\n",
              "      <td>0</td>\n",
              "      <td>0</td>\n",
              "      <td>0</td>\n",
              "      <td>0</td>\n",
              "      <td>0</td>\n",
              "      <td>0</td>\n",
              "      <td>0</td>\n",
              "      <td>0</td>\n",
              "      <td>1</td>\n",
              "      <td>1.0</td>\n",
              "      <td>1.0</td>\n",
              "      <td>0.0</td>\n",
              "      <td>0.0</td>\n",
              "      <td>0.0</td>\n",
              "      <td>1.0</td>\n",
              "      <td>0.0</td>\n",
              "      <td>0.0</td>\n",
              "      <td>0.0</td>\n",
              "      <td>0.0</td>\n",
              "      <td>0.0</td>\n",
              "      <td>0.0</td>\n",
              "      <td>0.0</td>\n",
              "      <td>0.0</td>\n",
              "      <td>0.0</td>\n",
              "      <td>0.0</td>\n",
              "      <td>0.0</td>\n",
              "      <td>0.0</td>\n",
              "      <td>0.0</td>\n",
              "      <td>1.0</td>\n",
              "      <td>0.0</td>\n",
              "      <td>0.0</td>\n",
              "      <td>0.0</td>\n",
              "      <td>0.0</td>\n",
              "      <td>1.0</td>\n",
              "      <td>0.0</td>\n",
              "    </tr>\n",
              "    <tr>\n",
              "      <th>3</th>\n",
              "      <td>1</td>\n",
              "      <td>0</td>\n",
              "      <td>30000000</td>\n",
              "      <td>12.199047</td>\n",
              "      <td>160638883.0</td>\n",
              "      <td>133.0</td>\n",
              "      <td>7.2</td>\n",
              "      <td>636.0</td>\n",
              "      <td>0.714286</td>\n",
              "      <td>14</td>\n",
              "      <td>1</td>\n",
              "      <td>0</td>\n",
              "      <td>1994</td>\n",
              "      <td>0</td>\n",
              "      <td>0</td>\n",
              "      <td>0</td>\n",
              "      <td>0</td>\n",
              "      <td>0</td>\n",
              "      <td>0</td>\n",
              "      <td>0</td>\n",
              "      <td>0</td>\n",
              "      <td>0</td>\n",
              "      <td>0</td>\n",
              "      <td>0</td>\n",
              "      <td>1</td>\n",
              "      <td>1.0</td>\n",
              "      <td>1.0</td>\n",
              "      <td>0.0</td>\n",
              "      <td>0.0</td>\n",
              "      <td>0.0</td>\n",
              "      <td>0.0</td>\n",
              "      <td>1.0</td>\n",
              "      <td>1.0</td>\n",
              "      <td>0.0</td>\n",
              "      <td>0.0</td>\n",
              "      <td>0.0</td>\n",
              "      <td>0.0</td>\n",
              "      <td>0.0</td>\n",
              "      <td>0.0</td>\n",
              "      <td>0.0</td>\n",
              "      <td>0.0</td>\n",
              "      <td>0.0</td>\n",
              "      <td>0.0</td>\n",
              "      <td>0.0</td>\n",
              "      <td>0.0</td>\n",
              "      <td>1.0</td>\n",
              "      <td>0.0</td>\n",
              "      <td>0.0</td>\n",
              "      <td>1.0</td>\n",
              "      <td>0.0</td>\n",
              "      <td>0.0</td>\n",
              "    </tr>\n",
              "    <tr>\n",
              "      <th>4</th>\n",
              "      <td>1</td>\n",
              "      <td>1</td>\n",
              "      <td>0</td>\n",
              "      <td>4.025276</td>\n",
              "      <td>2201126.0</td>\n",
              "      <td>99.0</td>\n",
              "      <td>7.6</td>\n",
              "      <td>106.0</td>\n",
              "      <td>0.750000</td>\n",
              "      <td>16</td>\n",
              "      <td>1</td>\n",
              "      <td>0</td>\n",
              "      <td>1994</td>\n",
              "      <td>0</td>\n",
              "      <td>0</td>\n",
              "      <td>0</td>\n",
              "      <td>0</td>\n",
              "      <td>0</td>\n",
              "      <td>0</td>\n",
              "      <td>0</td>\n",
              "      <td>0</td>\n",
              "      <td>1</td>\n",
              "      <td>0</td>\n",
              "      <td>0</td>\n",
              "      <td>0</td>\n",
              "      <td>1.0</td>\n",
              "      <td>0.0</td>\n",
              "      <td>0.0</td>\n",
              "      <td>0.0</td>\n",
              "      <td>0.0</td>\n",
              "      <td>0.0</td>\n",
              "      <td>0.0</td>\n",
              "      <td>0.0</td>\n",
              "      <td>0.0</td>\n",
              "      <td>0.0</td>\n",
              "      <td>0.0</td>\n",
              "      <td>0.0</td>\n",
              "      <td>0.0</td>\n",
              "      <td>0.0</td>\n",
              "      <td>0.0</td>\n",
              "      <td>0.0</td>\n",
              "      <td>0.0</td>\n",
              "      <td>0.0</td>\n",
              "      <td>0.0</td>\n",
              "      <td>0.0</td>\n",
              "      <td>0.0</td>\n",
              "      <td>0.0</td>\n",
              "      <td>0.0</td>\n",
              "      <td>0.0</td>\n",
              "      <td>1.0</td>\n",
              "      <td>1.0</td>\n",
              "    </tr>\n",
              "  </tbody>\n",
              "</table>\n",
              "</div>"
            ],
            "text/plain": [
              "   adult  belongs_to_collection    budget  ...  topic_5  topic_6  topic_7\n",
              "0      1                      0         0  ...      0.0      0.0      1.0\n",
              "1      1                      1  35000000  ...      0.0      0.0      0.0\n",
              "2      1                      0  25000000  ...      0.0      1.0      0.0\n",
              "3      1                      0  30000000  ...      1.0      0.0      0.0\n",
              "4      1                      1         0  ...      0.0      1.0      1.0\n",
              "\n",
              "[5 rows x 51 columns]"
            ]
          },
          "metadata": {
            "tags": []
          },
          "execution_count": 68
        }
      ]
    },
    {
      "cell_type": "markdown",
      "metadata": {
        "id": "0NrCfXBSpZTJ",
        "colab_type": "text"
      },
      "source": [
        "### **IV - Prediction models without NLP**"
      ]
    },
    {
      "cell_type": "markdown",
      "metadata": {
        "id": "6m2xCA0ppLQf",
        "colab_type": "text"
      },
      "source": [
        "We first create models to predict movie ratings using only common information present in the movie_database : duration, budget,genres..."
      ]
    },
    {
      "cell_type": "markdown",
      "metadata": {
        "id": "IqQ7G72acpTX",
        "colab_type": "text"
      },
      "source": [
        "####**Metrics for evalutation and data split train/test**"
      ]
    },
    {
      "cell_type": "code",
      "metadata": {
        "id": "89AvPMnMacav",
        "colab_type": "code",
        "colab": {}
      },
      "source": [
        "from sklearn.metrics import r2_score\n",
        "from sklearn import metrics\n",
        "from sklearn.model_selection import train_test_split\n",
        "\n",
        "from time import time\n",
        "from scipy.stats import randint as sp_randint\n",
        "\n",
        "from sklearn.model_selection import GridSearchCV\n",
        "from sklearn.model_selection import RandomizedSearchCV\n",
        "\n",
        "from sklearn.preprocessing import MinMaxScaler"
      ],
      "execution_count": 0,
      "outputs": []
    },
    {
      "cell_type": "markdown",
      "metadata": {
        "id": "h68XOvmMpjwR",
        "colab_type": "text"
      },
      "source": [
        "Creation of the bases X (explanatory variables) and Y (variable to predict)."
      ]
    },
    {
      "cell_type": "code",
      "metadata": {
        "id": "BPCFVGYL715N",
        "colab_type": "code",
        "outputId": "0c38256f-4513-4b50-a3a2-466b8a8ca84d",
        "colab": {
          "base_uri": "https://localhost:8080/",
          "height": 262
        }
      },
      "source": [
        "#We keep only movies with more than 3 reviews : one film is dropped\n",
        "df=df_NLP[df_NLP.nb_review>3]\n",
        "\n",
        "s = 'Movies database has {:,} rows and {:,} columns'\n",
        "print(s.format(df.shape[0], df.shape[1]))\n",
        "df.head(5)"
      ],
      "execution_count": 0,
      "outputs": [
        {
          "output_type": "stream",
          "text": [
            "Movies database has 599 rows and 51 columns\n"
          ],
          "name": "stdout"
        },
        {
          "output_type": "execute_result",
          "data": {
            "text/html": [
              "<div>\n",
              "<style scoped>\n",
              "    .dataframe tbody tr th:only-of-type {\n",
              "        vertical-align: middle;\n",
              "    }\n",
              "\n",
              "    .dataframe tbody tr th {\n",
              "        vertical-align: top;\n",
              "    }\n",
              "\n",
              "    .dataframe thead th {\n",
              "        text-align: right;\n",
              "    }\n",
              "</style>\n",
              "<table border=\"1\" class=\"dataframe\">\n",
              "  <thead>\n",
              "    <tr style=\"text-align: right;\">\n",
              "      <th></th>\n",
              "      <th>adult</th>\n",
              "      <th>belongs_to_collection</th>\n",
              "      <th>budget</th>\n",
              "      <th>popularity</th>\n",
              "      <th>revenue</th>\n",
              "      <th>runtime</th>\n",
              "      <th>vote_average</th>\n",
              "      <th>vote_count</th>\n",
              "      <th>polarity</th>\n",
              "      <th>nb_review</th>\n",
              "      <th>en</th>\n",
              "      <th>fr</th>\n",
              "      <th>year</th>\n",
              "      <th>january</th>\n",
              "      <th>february</th>\n",
              "      <th>march</th>\n",
              "      <th>april</th>\n",
              "      <th>may</th>\n",
              "      <th>june</th>\n",
              "      <th>july</th>\n",
              "      <th>august</th>\n",
              "      <th>september</th>\n",
              "      <th>october</th>\n",
              "      <th>november</th>\n",
              "      <th>december</th>\n",
              "      <th>Drama</th>\n",
              "      <th>Romance</th>\n",
              "      <th>Science Fiction</th>\n",
              "      <th>Horror</th>\n",
              "      <th>Action</th>\n",
              "      <th>Comedy</th>\n",
              "      <th>Adventure</th>\n",
              "      <th>War</th>\n",
              "      <th>Crime</th>\n",
              "      <th>Thriller</th>\n",
              "      <th>Animation</th>\n",
              "      <th>Mystery</th>\n",
              "      <th>Fantasy</th>\n",
              "      <th>History</th>\n",
              "      <th>Family</th>\n",
              "      <th>Music</th>\n",
              "      <th>Western</th>\n",
              "      <th>Documentary</th>\n",
              "      <th>TV Movie</th>\n",
              "      <th>topic_1</th>\n",
              "      <th>topic_2</th>\n",
              "      <th>topic_3</th>\n",
              "      <th>topic_4</th>\n",
              "      <th>topic_5</th>\n",
              "      <th>topic_6</th>\n",
              "      <th>topic_7</th>\n",
              "    </tr>\n",
              "  </thead>\n",
              "  <tbody>\n",
              "    <tr>\n",
              "      <th>0</th>\n",
              "      <td>1</td>\n",
              "      <td>0</td>\n",
              "      <td>0</td>\n",
              "      <td>10.142662</td>\n",
              "      <td>0.0</td>\n",
              "      <td>101.0</td>\n",
              "      <td>7.3</td>\n",
              "      <td>163.0</td>\n",
              "      <td>0.674419</td>\n",
              "      <td>43</td>\n",
              "      <td>0</td>\n",
              "      <td>1</td>\n",
              "      <td>1967</td>\n",
              "      <td>0</td>\n",
              "      <td>0</td>\n",
              "      <td>0</td>\n",
              "      <td>0</td>\n",
              "      <td>1</td>\n",
              "      <td>0</td>\n",
              "      <td>0</td>\n",
              "      <td>0</td>\n",
              "      <td>0</td>\n",
              "      <td>0</td>\n",
              "      <td>0</td>\n",
              "      <td>0</td>\n",
              "      <td>1.0</td>\n",
              "      <td>1.0</td>\n",
              "      <td>0.0</td>\n",
              "      <td>0.0</td>\n",
              "      <td>0.0</td>\n",
              "      <td>0.0</td>\n",
              "      <td>0.0</td>\n",
              "      <td>0.0</td>\n",
              "      <td>0.0</td>\n",
              "      <td>0.0</td>\n",
              "      <td>0.0</td>\n",
              "      <td>0.0</td>\n",
              "      <td>0.0</td>\n",
              "      <td>0.0</td>\n",
              "      <td>0.0</td>\n",
              "      <td>0.0</td>\n",
              "      <td>0.0</td>\n",
              "      <td>0.0</td>\n",
              "      <td>0.0</td>\n",
              "      <td>0.0</td>\n",
              "      <td>1.0</td>\n",
              "      <td>0.0</td>\n",
              "      <td>0.0</td>\n",
              "      <td>0.0</td>\n",
              "      <td>0.0</td>\n",
              "      <td>1.0</td>\n",
              "    </tr>\n",
              "    <tr>\n",
              "      <th>1</th>\n",
              "      <td>1</td>\n",
              "      <td>1</td>\n",
              "      <td>35000000</td>\n",
              "      <td>13.492845</td>\n",
              "      <td>113374103.0</td>\n",
              "      <td>108.0</td>\n",
              "      <td>5.5</td>\n",
              "      <td>457.0</td>\n",
              "      <td>0.867987</td>\n",
              "      <td>303</td>\n",
              "      <td>1</td>\n",
              "      <td>0</td>\n",
              "      <td>1995</td>\n",
              "      <td>0</td>\n",
              "      <td>0</td>\n",
              "      <td>0</td>\n",
              "      <td>0</td>\n",
              "      <td>0</td>\n",
              "      <td>0</td>\n",
              "      <td>1</td>\n",
              "      <td>0</td>\n",
              "      <td>0</td>\n",
              "      <td>0</td>\n",
              "      <td>0</td>\n",
              "      <td>0</td>\n",
              "      <td>0.0</td>\n",
              "      <td>0.0</td>\n",
              "      <td>1.0</td>\n",
              "      <td>1.0</td>\n",
              "      <td>1.0</td>\n",
              "      <td>0.0</td>\n",
              "      <td>0.0</td>\n",
              "      <td>0.0</td>\n",
              "      <td>0.0</td>\n",
              "      <td>0.0</td>\n",
              "      <td>0.0</td>\n",
              "      <td>0.0</td>\n",
              "      <td>0.0</td>\n",
              "      <td>0.0</td>\n",
              "      <td>0.0</td>\n",
              "      <td>0.0</td>\n",
              "      <td>0.0</td>\n",
              "      <td>0.0</td>\n",
              "      <td>0.0</td>\n",
              "      <td>1.0</td>\n",
              "      <td>1.0</td>\n",
              "      <td>0.0</td>\n",
              "      <td>0.0</td>\n",
              "      <td>0.0</td>\n",
              "      <td>0.0</td>\n",
              "      <td>0.0</td>\n",
              "    </tr>\n",
              "    <tr>\n",
              "      <th>2</th>\n",
              "      <td>1</td>\n",
              "      <td>0</td>\n",
              "      <td>25000000</td>\n",
              "      <td>5.146352</td>\n",
              "      <td>0.0</td>\n",
              "      <td>100.0</td>\n",
              "      <td>5.9</td>\n",
              "      <td>112.0</td>\n",
              "      <td>1.000000</td>\n",
              "      <td>4</td>\n",
              "      <td>1</td>\n",
              "      <td>0</td>\n",
              "      <td>1994</td>\n",
              "      <td>0</td>\n",
              "      <td>0</td>\n",
              "      <td>0</td>\n",
              "      <td>0</td>\n",
              "      <td>0</td>\n",
              "      <td>0</td>\n",
              "      <td>0</td>\n",
              "      <td>0</td>\n",
              "      <td>0</td>\n",
              "      <td>0</td>\n",
              "      <td>0</td>\n",
              "      <td>1</td>\n",
              "      <td>1.0</td>\n",
              "      <td>1.0</td>\n",
              "      <td>0.0</td>\n",
              "      <td>0.0</td>\n",
              "      <td>0.0</td>\n",
              "      <td>1.0</td>\n",
              "      <td>0.0</td>\n",
              "      <td>0.0</td>\n",
              "      <td>0.0</td>\n",
              "      <td>0.0</td>\n",
              "      <td>0.0</td>\n",
              "      <td>0.0</td>\n",
              "      <td>0.0</td>\n",
              "      <td>0.0</td>\n",
              "      <td>0.0</td>\n",
              "      <td>0.0</td>\n",
              "      <td>0.0</td>\n",
              "      <td>0.0</td>\n",
              "      <td>0.0</td>\n",
              "      <td>1.0</td>\n",
              "      <td>0.0</td>\n",
              "      <td>0.0</td>\n",
              "      <td>0.0</td>\n",
              "      <td>0.0</td>\n",
              "      <td>1.0</td>\n",
              "      <td>0.0</td>\n",
              "    </tr>\n",
              "    <tr>\n",
              "      <th>3</th>\n",
              "      <td>1</td>\n",
              "      <td>0</td>\n",
              "      <td>30000000</td>\n",
              "      <td>12.199047</td>\n",
              "      <td>160638883.0</td>\n",
              "      <td>133.0</td>\n",
              "      <td>7.2</td>\n",
              "      <td>636.0</td>\n",
              "      <td>0.714286</td>\n",
              "      <td>14</td>\n",
              "      <td>1</td>\n",
              "      <td>0</td>\n",
              "      <td>1994</td>\n",
              "      <td>0</td>\n",
              "      <td>0</td>\n",
              "      <td>0</td>\n",
              "      <td>0</td>\n",
              "      <td>0</td>\n",
              "      <td>0</td>\n",
              "      <td>0</td>\n",
              "      <td>0</td>\n",
              "      <td>0</td>\n",
              "      <td>0</td>\n",
              "      <td>0</td>\n",
              "      <td>1</td>\n",
              "      <td>1.0</td>\n",
              "      <td>1.0</td>\n",
              "      <td>0.0</td>\n",
              "      <td>0.0</td>\n",
              "      <td>0.0</td>\n",
              "      <td>0.0</td>\n",
              "      <td>1.0</td>\n",
              "      <td>1.0</td>\n",
              "      <td>0.0</td>\n",
              "      <td>0.0</td>\n",
              "      <td>0.0</td>\n",
              "      <td>0.0</td>\n",
              "      <td>0.0</td>\n",
              "      <td>0.0</td>\n",
              "      <td>0.0</td>\n",
              "      <td>0.0</td>\n",
              "      <td>0.0</td>\n",
              "      <td>0.0</td>\n",
              "      <td>0.0</td>\n",
              "      <td>0.0</td>\n",
              "      <td>1.0</td>\n",
              "      <td>0.0</td>\n",
              "      <td>0.0</td>\n",
              "      <td>1.0</td>\n",
              "      <td>0.0</td>\n",
              "      <td>0.0</td>\n",
              "    </tr>\n",
              "    <tr>\n",
              "      <th>4</th>\n",
              "      <td>1</td>\n",
              "      <td>1</td>\n",
              "      <td>0</td>\n",
              "      <td>4.025276</td>\n",
              "      <td>2201126.0</td>\n",
              "      <td>99.0</td>\n",
              "      <td>7.6</td>\n",
              "      <td>106.0</td>\n",
              "      <td>0.750000</td>\n",
              "      <td>16</td>\n",
              "      <td>1</td>\n",
              "      <td>0</td>\n",
              "      <td>1994</td>\n",
              "      <td>0</td>\n",
              "      <td>0</td>\n",
              "      <td>0</td>\n",
              "      <td>0</td>\n",
              "      <td>0</td>\n",
              "      <td>0</td>\n",
              "      <td>0</td>\n",
              "      <td>0</td>\n",
              "      <td>1</td>\n",
              "      <td>0</td>\n",
              "      <td>0</td>\n",
              "      <td>0</td>\n",
              "      <td>1.0</td>\n",
              "      <td>0.0</td>\n",
              "      <td>0.0</td>\n",
              "      <td>0.0</td>\n",
              "      <td>0.0</td>\n",
              "      <td>0.0</td>\n",
              "      <td>0.0</td>\n",
              "      <td>0.0</td>\n",
              "      <td>0.0</td>\n",
              "      <td>0.0</td>\n",
              "      <td>0.0</td>\n",
              "      <td>0.0</td>\n",
              "      <td>0.0</td>\n",
              "      <td>0.0</td>\n",
              "      <td>0.0</td>\n",
              "      <td>0.0</td>\n",
              "      <td>0.0</td>\n",
              "      <td>0.0</td>\n",
              "      <td>0.0</td>\n",
              "      <td>0.0</td>\n",
              "      <td>0.0</td>\n",
              "      <td>0.0</td>\n",
              "      <td>0.0</td>\n",
              "      <td>0.0</td>\n",
              "      <td>1.0</td>\n",
              "      <td>1.0</td>\n",
              "    </tr>\n",
              "  </tbody>\n",
              "</table>\n",
              "</div>"
            ],
            "text/plain": [
              "   adult  belongs_to_collection    budget  ...  topic_5  topic_6  topic_7\n",
              "0      1                      0         0  ...      0.0      0.0      1.0\n",
              "1      1                      1  35000000  ...      0.0      0.0      0.0\n",
              "2      1                      0  25000000  ...      0.0      1.0      0.0\n",
              "3      1                      0  30000000  ...      1.0      0.0      0.0\n",
              "4      1                      1         0  ...      0.0      1.0      1.0\n",
              "\n",
              "[5 rows x 51 columns]"
            ]
          },
          "metadata": {
            "tags": []
          },
          "execution_count": 70
        }
      ]
    },
    {
      "cell_type": "code",
      "metadata": {
        "id": "C1rm0ySS9n0C",
        "colab_type": "code",
        "colab": {}
      },
      "source": [
        "train_set,test_set= train_test_split(df,test_size=0.2, random_state=42)"
      ],
      "execution_count": 0,
      "outputs": []
    },
    {
      "cell_type": "code",
      "metadata": {
        "id": "NE9cMGR8pucb",
        "colab_type": "code",
        "colab": {}
      },
      "source": [
        "#We want to predict without the new NLP-created variables, so we first drop them\n",
        "suppr=['vote_average','topic_1','topic_2','topic_3','topic_4','topic_5','topic_6','topic_7','polarity','nb_review']\n",
        "Y_train,Y_test= train_set['vote_average'],test_set['vote_average']\n",
        "X_train, X_test= train_set.drop(suppr,axis=1),test_set.drop(suppr,axis=1)\n",
        "list_variables_X = list(X_train.columns.values)"
      ],
      "execution_count": 0,
      "outputs": []
    },
    {
      "cell_type": "code",
      "metadata": {
        "id": "vhw1hZHa7g-7",
        "colab_type": "code",
        "colab": {}
      },
      "source": [
        "#Scaling\n",
        "scaler = MinMaxScaler()\n",
        "X_train = scaler.fit_transform(X_train)\n",
        "X_test = scaler.fit_transform(X_test)\n",
        "X_train = pd.DataFrame(X_train, columns=list_variables_X)\n",
        "X_test = pd.DataFrame(X_test, columns=list_variables_X)"
      ],
      "execution_count": 0,
      "outputs": []
    },
    {
      "cell_type": "code",
      "metadata": {
        "id": "LHRneImGBJSP",
        "colab_type": "code",
        "outputId": "964b5df9-c833-45ba-8369-a2dd7d4b3333",
        "colab": {
          "base_uri": "https://localhost:8080/",
          "height": 243
        }
      },
      "source": [
        "X_train.head()"
      ],
      "execution_count": 0,
      "outputs": [
        {
          "output_type": "execute_result",
          "data": {
            "text/html": [
              "<div>\n",
              "<style scoped>\n",
              "    .dataframe tbody tr th:only-of-type {\n",
              "        vertical-align: middle;\n",
              "    }\n",
              "\n",
              "    .dataframe tbody tr th {\n",
              "        vertical-align: top;\n",
              "    }\n",
              "\n",
              "    .dataframe thead th {\n",
              "        text-align: right;\n",
              "    }\n",
              "</style>\n",
              "<table border=\"1\" class=\"dataframe\">\n",
              "  <thead>\n",
              "    <tr style=\"text-align: right;\">\n",
              "      <th></th>\n",
              "      <th>adult</th>\n",
              "      <th>belongs_to_collection</th>\n",
              "      <th>budget</th>\n",
              "      <th>popularity</th>\n",
              "      <th>revenue</th>\n",
              "      <th>runtime</th>\n",
              "      <th>vote_count</th>\n",
              "      <th>en</th>\n",
              "      <th>fr</th>\n",
              "      <th>year</th>\n",
              "      <th>january</th>\n",
              "      <th>february</th>\n",
              "      <th>march</th>\n",
              "      <th>april</th>\n",
              "      <th>may</th>\n",
              "      <th>june</th>\n",
              "      <th>july</th>\n",
              "      <th>august</th>\n",
              "      <th>september</th>\n",
              "      <th>october</th>\n",
              "      <th>november</th>\n",
              "      <th>december</th>\n",
              "      <th>Drama</th>\n",
              "      <th>Romance</th>\n",
              "      <th>Science Fiction</th>\n",
              "      <th>Horror</th>\n",
              "      <th>Action</th>\n",
              "      <th>Comedy</th>\n",
              "      <th>Adventure</th>\n",
              "      <th>War</th>\n",
              "      <th>Crime</th>\n",
              "      <th>Thriller</th>\n",
              "      <th>Animation</th>\n",
              "      <th>Mystery</th>\n",
              "      <th>Fantasy</th>\n",
              "      <th>History</th>\n",
              "      <th>Family</th>\n",
              "      <th>Music</th>\n",
              "      <th>Western</th>\n",
              "      <th>Documentary</th>\n",
              "      <th>TV Movie</th>\n",
              "    </tr>\n",
              "  </thead>\n",
              "  <tbody>\n",
              "    <tr>\n",
              "      <th>0</th>\n",
              "      <td>0.0</td>\n",
              "      <td>0.0</td>\n",
              "      <td>0.038760</td>\n",
              "      <td>0.053926</td>\n",
              "      <td>0.025786</td>\n",
              "      <td>0.304348</td>\n",
              "      <td>0.001373</td>\n",
              "      <td>1.0</td>\n",
              "      <td>0.0</td>\n",
              "      <td>0.833333</td>\n",
              "      <td>1.0</td>\n",
              "      <td>0.0</td>\n",
              "      <td>0.0</td>\n",
              "      <td>0.0</td>\n",
              "      <td>0.0</td>\n",
              "      <td>0.0</td>\n",
              "      <td>0.0</td>\n",
              "      <td>0.0</td>\n",
              "      <td>0.0</td>\n",
              "      <td>0.0</td>\n",
              "      <td>0.0</td>\n",
              "      <td>0.0</td>\n",
              "      <td>0.0</td>\n",
              "      <td>0.0</td>\n",
              "      <td>0.0</td>\n",
              "      <td>0.0</td>\n",
              "      <td>0.0</td>\n",
              "      <td>1.0</td>\n",
              "      <td>0.0</td>\n",
              "      <td>0.0</td>\n",
              "      <td>1.0</td>\n",
              "      <td>0.0</td>\n",
              "      <td>0.0</td>\n",
              "      <td>0.0</td>\n",
              "      <td>0.0</td>\n",
              "      <td>0.0</td>\n",
              "      <td>0.0</td>\n",
              "      <td>0.0</td>\n",
              "      <td>0.0</td>\n",
              "      <td>0.0</td>\n",
              "      <td>0.0</td>\n",
              "    </tr>\n",
              "    <tr>\n",
              "      <th>1</th>\n",
              "      <td>0.0</td>\n",
              "      <td>1.0</td>\n",
              "      <td>0.036047</td>\n",
              "      <td>0.104794</td>\n",
              "      <td>0.000000</td>\n",
              "      <td>0.282609</td>\n",
              "      <td>0.004806</td>\n",
              "      <td>1.0</td>\n",
              "      <td>0.0</td>\n",
              "      <td>0.635417</td>\n",
              "      <td>0.0</td>\n",
              "      <td>0.0</td>\n",
              "      <td>0.0</td>\n",
              "      <td>0.0</td>\n",
              "      <td>0.0</td>\n",
              "      <td>0.0</td>\n",
              "      <td>0.0</td>\n",
              "      <td>1.0</td>\n",
              "      <td>0.0</td>\n",
              "      <td>0.0</td>\n",
              "      <td>0.0</td>\n",
              "      <td>0.0</td>\n",
              "      <td>0.0</td>\n",
              "      <td>0.0</td>\n",
              "      <td>1.0</td>\n",
              "      <td>0.0</td>\n",
              "      <td>0.0</td>\n",
              "      <td>0.0</td>\n",
              "      <td>0.0</td>\n",
              "      <td>0.0</td>\n",
              "      <td>0.0</td>\n",
              "      <td>0.0</td>\n",
              "      <td>1.0</td>\n",
              "      <td>0.0</td>\n",
              "      <td>0.0</td>\n",
              "      <td>0.0</td>\n",
              "      <td>0.0</td>\n",
              "      <td>0.0</td>\n",
              "      <td>0.0</td>\n",
              "      <td>0.0</td>\n",
              "      <td>0.0</td>\n",
              "    </tr>\n",
              "    <tr>\n",
              "      <th>2</th>\n",
              "      <td>0.0</td>\n",
              "      <td>0.0</td>\n",
              "      <td>0.161541</td>\n",
              "      <td>0.121697</td>\n",
              "      <td>0.183605</td>\n",
              "      <td>0.355072</td>\n",
              "      <td>0.083562</td>\n",
              "      <td>0.0</td>\n",
              "      <td>0.0</td>\n",
              "      <td>0.916667</td>\n",
              "      <td>0.0</td>\n",
              "      <td>0.0</td>\n",
              "      <td>0.0</td>\n",
              "      <td>0.0</td>\n",
              "      <td>0.0</td>\n",
              "      <td>0.0</td>\n",
              "      <td>1.0</td>\n",
              "      <td>0.0</td>\n",
              "      <td>0.0</td>\n",
              "      <td>0.0</td>\n",
              "      <td>0.0</td>\n",
              "      <td>0.0</td>\n",
              "      <td>0.0</td>\n",
              "      <td>0.0</td>\n",
              "      <td>0.0</td>\n",
              "      <td>0.0</td>\n",
              "      <td>0.0</td>\n",
              "      <td>0.0</td>\n",
              "      <td>0.0</td>\n",
              "      <td>0.0</td>\n",
              "      <td>0.0</td>\n",
              "      <td>0.0</td>\n",
              "      <td>1.0</td>\n",
              "      <td>0.0</td>\n",
              "      <td>0.0</td>\n",
              "      <td>0.0</td>\n",
              "      <td>1.0</td>\n",
              "      <td>0.0</td>\n",
              "      <td>0.0</td>\n",
              "      <td>0.0</td>\n",
              "      <td>0.0</td>\n",
              "    </tr>\n",
              "    <tr>\n",
              "      <th>3</th>\n",
              "      <td>0.0</td>\n",
              "      <td>0.0</td>\n",
              "      <td>0.038760</td>\n",
              "      <td>0.094064</td>\n",
              "      <td>0.000000</td>\n",
              "      <td>0.282609</td>\n",
              "      <td>0.011965</td>\n",
              "      <td>1.0</td>\n",
              "      <td>0.0</td>\n",
              "      <td>0.968750</td>\n",
              "      <td>0.0</td>\n",
              "      <td>0.0</td>\n",
              "      <td>0.0</td>\n",
              "      <td>1.0</td>\n",
              "      <td>0.0</td>\n",
              "      <td>0.0</td>\n",
              "      <td>0.0</td>\n",
              "      <td>0.0</td>\n",
              "      <td>0.0</td>\n",
              "      <td>0.0</td>\n",
              "      <td>0.0</td>\n",
              "      <td>0.0</td>\n",
              "      <td>0.0</td>\n",
              "      <td>0.0</td>\n",
              "      <td>0.0</td>\n",
              "      <td>0.0</td>\n",
              "      <td>1.0</td>\n",
              "      <td>0.0</td>\n",
              "      <td>0.0</td>\n",
              "      <td>0.0</td>\n",
              "      <td>0.0</td>\n",
              "      <td>1.0</td>\n",
              "      <td>0.0</td>\n",
              "      <td>0.0</td>\n",
              "      <td>0.0</td>\n",
              "      <td>0.0</td>\n",
              "      <td>0.0</td>\n",
              "      <td>0.0</td>\n",
              "      <td>0.0</td>\n",
              "      <td>0.0</td>\n",
              "      <td>0.0</td>\n",
              "    </tr>\n",
              "    <tr>\n",
              "      <th>4</th>\n",
              "      <td>0.0</td>\n",
              "      <td>1.0</td>\n",
              "      <td>0.232558</td>\n",
              "      <td>0.315298</td>\n",
              "      <td>0.474398</td>\n",
              "      <td>0.282609</td>\n",
              "      <td>0.400353</td>\n",
              "      <td>1.0</td>\n",
              "      <td>0.0</td>\n",
              "      <td>0.843750</td>\n",
              "      <td>0.0</td>\n",
              "      <td>0.0</td>\n",
              "      <td>0.0</td>\n",
              "      <td>0.0</td>\n",
              "      <td>1.0</td>\n",
              "      <td>0.0</td>\n",
              "      <td>0.0</td>\n",
              "      <td>0.0</td>\n",
              "      <td>0.0</td>\n",
              "      <td>0.0</td>\n",
              "      <td>0.0</td>\n",
              "      <td>0.0</td>\n",
              "      <td>0.0</td>\n",
              "      <td>0.0</td>\n",
              "      <td>0.0</td>\n",
              "      <td>0.0</td>\n",
              "      <td>0.0</td>\n",
              "      <td>1.0</td>\n",
              "      <td>1.0</td>\n",
              "      <td>0.0</td>\n",
              "      <td>0.0</td>\n",
              "      <td>0.0</td>\n",
              "      <td>1.0</td>\n",
              "      <td>0.0</td>\n",
              "      <td>1.0</td>\n",
              "      <td>0.0</td>\n",
              "      <td>1.0</td>\n",
              "      <td>0.0</td>\n",
              "      <td>0.0</td>\n",
              "      <td>0.0</td>\n",
              "      <td>0.0</td>\n",
              "    </tr>\n",
              "  </tbody>\n",
              "</table>\n",
              "</div>"
            ],
            "text/plain": [
              "   adult  belongs_to_collection    budget  ...  Western  Documentary  TV Movie\n",
              "0    0.0                    0.0  0.038760  ...      0.0          0.0       0.0\n",
              "1    0.0                    1.0  0.036047  ...      0.0          0.0       0.0\n",
              "2    0.0                    0.0  0.161541  ...      0.0          0.0       0.0\n",
              "3    0.0                    0.0  0.038760  ...      0.0          0.0       0.0\n",
              "4    0.0                    1.0  0.232558  ...      0.0          0.0       0.0\n",
              "\n",
              "[5 rows x 41 columns]"
            ]
          },
          "metadata": {
            "tags": []
          },
          "execution_count": 74
        }
      ]
    },
    {
      "cell_type": "markdown",
      "metadata": {
        "id": "rOqEVJYuuczA",
        "colab_type": "text"
      },
      "source": [
        "We create a function to evaluate the models. \n",
        "\n",
        "- For the regressions (r=True), we are going to compute the R^2, the MAE (Mean Absolute Error) and the MSE (Mean Squared Eror). \n",
        "- For the other models just the MAE and the MSE because R^2 is difficult to interpret. \n",
        "\n",
        "To esnure we have predictions between 0 and 10, we truncate the values that are below 0 and above 10. "
      ]
    },
    {
      "cell_type": "code",
      "metadata": {
        "id": "BjwFJTJDua4-",
        "colab_type": "code",
        "colab": {}
      },
      "source": [
        "def evaluation(Y_test,Y_pred, r=True):\n",
        "  Y_pred[ Y_pred < 0]=0\n",
        "  Y_pred[ Y_pred > 10]=10\n",
        "  if r:\n",
        "    print('R^2 : ', r2_score(Y_test, Y_pred))\n",
        "  mae = metrics.mean_absolute_error(Y_test, Y_pred)\n",
        "  mse = metrics.mean_squared_error(Y_test, Y_pred)\n",
        "  print('Mean Absolute Error :', mae)  \n",
        "  print('Mean Squared Error :', mse)\n",
        "  return(mae,mse)\n"
      ],
      "execution_count": 0,
      "outputs": []
    },
    {
      "cell_type": "markdown",
      "metadata": {
        "id": "mMMRkSTXxyon",
        "colab_type": "text"
      },
      "source": [
        "We are going to use different models with our databases.\n",
        "\n",
        "To compare the distribution of the prediction with the true results, we first plot Y_test. "
      ]
    },
    {
      "cell_type": "code",
      "metadata": {
        "id": "KpH5bCDVCsF5",
        "colab_type": "code",
        "outputId": "fcc620cf-3cfa-40e8-f8c8-b4d7a6f61f86",
        "colab": {
          "base_uri": "https://localhost:8080/",
          "height": 299
        }
      },
      "source": [
        "sns.distplot(Y_test, kde=False, color='darkturquoise')"
      ],
      "execution_count": 0,
      "outputs": [
        {
          "output_type": "execute_result",
          "data": {
            "text/plain": [
              "<matplotlib.axes._subplots.AxesSubplot at 0x7f0681d73b38>"
            ]
          },
          "metadata": {
            "tags": []
          },
          "execution_count": 76
        },
        {
          "output_type": "display_data",
          "data": {
            "image/png": "[encoded data removed]",
            "text/plain": [
              "<Figure size 432x288 with 1 Axes>"
            ]
          },
          "metadata": {
            "tags": [],
            "needs_background": "light"
          }
        }
      ]
    },
    {
      "cell_type": "markdown",
      "metadata": {
        "id": "of-DHOXJbCur",
        "colab_type": "text"
      },
      "source": [
        "####**A naive estimator : the mean**"
      ]
    },
    {
      "cell_type": "markdown",
      "metadata": {
        "id": "roOm1NmaqsCu",
        "colab_type": "text"
      },
      "source": [
        "We first compute a naive estimator equal to the mean of the ratings. This is the simplest model. "
      ]
    },
    {
      "cell_type": "code",
      "metadata": {
        "id": "_-y8w8R-bBez",
        "colab_type": "code",
        "outputId": "69c5ee67-16b0-47de-e59a-64115e9bd5bb",
        "colab": {
          "base_uri": "https://localhost:8080/",
          "height": 54
        }
      },
      "source": [
        "Y_pred=pd.DataFrame([Y_test.mean()]*len(Y_test))\n",
        "mae_naive, mse_naive=evaluation(Y_test,Y_pred,r=False)"
      ],
      "execution_count": 0,
      "outputs": [
        {
          "output_type": "stream",
          "text": [
            "Mean Absolute Error : 0.5475833333333332\n",
            "Mean Squared Error : 0.4827493055555555\n"
          ],
          "name": "stdout"
        }
      ]
    },
    {
      "cell_type": "markdown",
      "metadata": {
        "id": "AYdgIT_PPox4",
        "colab_type": "text"
      },
      "source": [
        "####**Linear Regression**"
      ]
    },
    {
      "cell_type": "code",
      "metadata": {
        "id": "OUzv6Tiedp89",
        "colab_type": "code",
        "outputId": "8bde5b75-0b7b-4390-b336-3fb95a048f9b",
        "colab": {
          "base_uri": "https://localhost:8080/",
          "height": 340
        }
      },
      "source": [
        "#Linear Regression\n",
        "from sklearn import linear_model\n",
        "\n",
        "regr = linear_model.LinearRegression()\n",
        "regr.fit(X_train,Y_train)\n",
        "Y_pred_reg= regr.predict(X_test)\n",
        "\n",
        "mae_regr, mse_regr = evaluation(Y_test,Y_pred_reg)\n",
        "\n",
        "sns.distplot(Y_pred_reg, kde=False, color='darkturquoise')"
      ],
      "execution_count": 0,
      "outputs": [
        {
          "output_type": "stream",
          "text": [
            "R^2 :  0.307351194109157\n",
            "Mean Absolute Error : 0.45547037760416664\n",
            "Mean Squared Error : 0.3343757300376893\n"
          ],
          "name": "stdout"
        },
        {
          "output_type": "execute_result",
          "data": {
            "text/plain": [
              "<matplotlib.axes._subplots.AxesSubplot at 0x7f0681dec710>"
            ]
          },
          "metadata": {
            "tags": []
          },
          "execution_count": 78
        },
        {
          "output_type": "display_data",
          "data": {
            "image/png": "[encoded data removed]",
            "text/plain": [
              "<Figure size 432x288 with 1 Axes>"
            ]
          },
          "metadata": {
            "tags": [],
            "needs_background": "light"
          }
        }
      ]
    },
    {
      "cell_type": "markdown",
      "metadata": {
        "id": "lf1flFv-P1ER",
        "colab_type": "text"
      },
      "source": [
        "####**Random Forest**"
      ]
    },
    {
      "cell_type": "markdown",
      "metadata": {
        "id": "sMtDsdC9dvTP",
        "colab_type": "text"
      },
      "source": [
        "We now try a Random Forest model"
      ]
    },
    {
      "cell_type": "code",
      "metadata": {
        "id": "YGwUFO0QN_K0",
        "colab_type": "code",
        "outputId": "272e3174-d2c6-4957-e653-b7b6c75c106a",
        "colab": {
          "base_uri": "https://localhost:8080/",
          "height": 321
        }
      },
      "source": [
        "#Random Forest \n",
        "from sklearn.ensemble import RandomForestRegressor \n",
        "\n",
        "rf=RandomForestRegressor(random_state=0, max_features='auto', n_estimators= 50, max_depth=5)\n",
        "\n",
        "rf.fit(X_train, Y_train)\n",
        "Y_pred = rf.predict(X_test)\n",
        "\n",
        "mae_rf, mse_rf = evaluation(Y_test,Y_pred, r=False)\n",
        "\n",
        "sns.distplot(Y_pred, kde=False, color='darkturquoise')"
      ],
      "execution_count": 0,
      "outputs": [
        {
          "output_type": "stream",
          "text": [
            "Mean Absolute Error : 0.44198858464312535\n",
            "Mean Squared Error : 0.2837818781388686\n"
          ],
          "name": "stdout"
        },
        {
          "output_type": "execute_result",
          "data": {
            "text/plain": [
              "<matplotlib.axes._subplots.AxesSubplot at 0x7f0681254240>"
            ]
          },
          "metadata": {
            "tags": []
          },
          "execution_count": 79
        },
        {
          "output_type": "display_data",
          "data": {
            "image/png": "[encoded data removed]",
            "text/plain": [
              "<Figure size 432x288 with 1 Axes>"
            ]
          },
          "metadata": {
            "tags": [],
            "needs_background": "light"
          }
        }
      ]
    },
    {
      "cell_type": "markdown",
      "metadata": {
        "id": "ypg084IUVAeb",
        "colab_type": "text"
      },
      "source": [
        "We can see that the predictions with the Random Forest are less extensive than the real values of Y_test and the predictions obtained using the Linear Regression."
      ]
    },
    {
      "cell_type": "code",
      "metadata": {
        "id": "lTxrb2gXZExe",
        "colab_type": "code",
        "outputId": "b6c9ad50-1d31-430e-9e8f-a76671f96522",
        "colab": {
          "base_uri": "https://localhost:8080/",
          "height": 35
        }
      },
      "source": [
        "#We use GridSearchCV to choose the best parameters\n",
        "#We choose the maximum of n_estimators to test at 500 because it is too long otherwise\n",
        "\n",
        "param_grid = { \n",
        "    'n_estimators': [50, 100, 200, 500],\n",
        "    'max_features': ['auto', 'sqrt', 'log2'],\n",
        "    'max_depth' : range(5, 16)\n",
        "}\n",
        "\n",
        "CV_regressor = GridSearchCV(estimator=rf, param_grid=param_grid, cv= 5)\n",
        "CV_regressor.fit(X_train, Y_train)\n",
        "\n",
        "best_params = CV_regressor.best_params_\n",
        "best_params"
      ],
      "execution_count": 0,
      "outputs": [
        {
          "output_type": "execute_result",
          "data": {
            "text/plain": [
              "{'max_depth': 13, 'max_features': 'auto', 'n_estimators': 500}"
            ]
          },
          "metadata": {
            "tags": []
          },
          "execution_count": 170
        }
      ]
    },
    {
      "cell_type": "code",
      "metadata": {
        "id": "ScK59D2EcD4l",
        "colab_type": "code",
        "outputId": "0b6c7e66-bcec-4fdb-eb2f-ffeb6b5ffd39",
        "colab": {
          "base_uri": "https://localhost:8080/",
          "height": 317
        }
      },
      "source": [
        "#Random Forest with best parameters\n",
        "\n",
        "rf=RandomForestRegressor(random_state=0, max_features = best_params['max_features'], n_estimators= best_params['n_estimators'], max_depth=best_params['max_depth'])\n",
        "\n",
        "rf.fit(X_train, Y_train)\n",
        "Y_pred = rf.predict(X_test)\n",
        "\n",
        "mae_rf, mse_rf = evaluation(Y_test,Y_pred, r=False)\n",
        "\n",
        "sns.distplot(Y_pred, kde=False, color='darkturquoise')"
      ],
      "execution_count": 0,
      "outputs": [
        {
          "output_type": "stream",
          "text": [
            "Mean Absolute Error : 0.4360106651848719\n",
            "Mean Squared Error : 0.3072457557058111\n"
          ],
          "name": "stdout"
        },
        {
          "output_type": "execute_result",
          "data": {
            "text/plain": [
              "<matplotlib.axes._subplots.AxesSubplot at 0x7fabef86d320>"
            ]
          },
          "metadata": {
            "tags": []
          },
          "execution_count": 171
        },
        {
          "output_type": "display_data",
          "data": {
            "image/png": "[encoded data removed]",
            "text/plain": [
              "<Figure size 432x288 with 1 Axes>"
            ]
          },
          "metadata": {
            "tags": [],
            "needs_background": "light"
          }
        }
      ]
    },
    {
      "cell_type": "code",
      "metadata": {
        "id": "ZQI09Ky_jtM6",
        "colab_type": "code",
        "outputId": "5c2e6dfb-c7d7-418a-d54b-3d4f3b5374bd",
        "colab": {
          "base_uri": "https://localhost:8080/",
          "height": 295
        }
      },
      "source": [
        "#Variables importance : we only show the 15 most important variables\n",
        "\n",
        "rf.fit(X_train, Y_train)\n",
        "importances = rf.feature_importances_\n",
        "std = np.std([tree.feature_importances_ for tree in rf.estimators_], axis=0)\n",
        "indices = np.argsort(importances)[::-1]\n",
        "\n",
        "print(\"Ranking of the importance of parameters:\")\n",
        "\n",
        "for f in range(15):\n",
        "    i=indices[f]\n",
        "    print(\"%d. parameters %d : \" % (f + 1, i) + X_train.columns[i] + \" (%f)\" % (importances[i]))"
      ],
      "execution_count": 0,
      "outputs": [
        {
          "output_type": "stream",
          "text": [
            "Ranking of the importance of parameters:\n",
            "1. parameters 9 : year (0.170772)\n",
            "2. parameters 6 : vote_count (0.164992)\n",
            "3. parameters 5 : runtime (0.146353)\n",
            "4. parameters 2 : budget (0.104822)\n",
            "5. parameters 22 : Drama (0.092219)\n",
            "6. parameters 3 : popularity (0.076366)\n",
            "7. parameters 4 : revenue (0.049344)\n",
            "8. parameters 39 : Documentary (0.027613)\n",
            "9. parameters 34 : Animation (0.022902)\n",
            "10. parameters 7 : en (0.015814)\n",
            "11. parameters 31 : Thriller (0.009999)\n",
            "12. parameters 26 : Action (0.009879)\n",
            "13. parameters 27 : Comedy (0.007770)\n",
            "14. parameters 25 : Horror (0.006509)\n",
            "15. parameters 16 : july (0.006301)\n"
          ],
          "name": "stdout"
        }
      ]
    },
    {
      "cell_type": "markdown",
      "metadata": {
        "id": "o_mLY3LKs4nU",
        "colab_type": "text"
      },
      "source": [
        "The most important variable is the variable 'year' : there exists perhaps a kind of trend in the note (older movies get better notes for example). "
      ]
    },
    {
      "cell_type": "markdown",
      "metadata": {
        "id": "T1ASpYCcbUrb",
        "colab_type": "text"
      },
      "source": [
        "We can see that the most important variables to explain the 'vote_average' are quite logic : the 'vote_count', 'runtime', 'popularity' and 'budget' are quite important as some genres such as 'Documentary', 'Horror', 'Drama'. "
      ]
    },
    {
      "cell_type": "markdown",
      "metadata": {
        "id": "8_cmJLuOQM3u",
        "colab_type": "text"
      },
      "source": [
        "####**XGBoost**"
      ]
    },
    {
      "cell_type": "markdown",
      "metadata": {
        "id": "rIQNon13Yu1y",
        "colab_type": "text"
      },
      "source": [
        "We finally use XGBoost. "
      ]
    },
    {
      "cell_type": "code",
      "metadata": {
        "id": "bEmZvTSAfwzK",
        "colab_type": "code",
        "colab": {}
      },
      "source": [
        "#XGBoost\n",
        "import xgboost as xgb\n",
        "#Grid search to find the best estimator\n",
        "estimator = xgb.XGBRegressor(objective= 'reg:squarederror')\n",
        "\n",
        "parameters = {\n",
        "    'max_depth': range (2, 10, 1),\n",
        "    'n_estimators': range(60, 220, 40),\n",
        "    'learning_rate': [0.1, 0.01, 0.05,0.001]\n",
        "}\n",
        "grid_search = GridSearchCV(estimator=estimator,param_grid=parameters,scoring = 'neg_mean_squared_error',n_jobs = 10,cv = 5,)\n",
        "\n",
        "grid_search.fit(X_train, Y_train)"
      ],
      "execution_count": 0,
      "outputs": []
    },
    {
      "cell_type": "code",
      "metadata": {
        "id": "h3hSTC2Vj0Rp",
        "colab_type": "code",
        "outputId": "19605499-3524-494b-f7e3-eba901ccb280",
        "colab": {
          "base_uri": "https://localhost:8080/",
          "height": 340
        }
      },
      "source": [
        "best_estimator = grid_search.best_estimator_\n",
        "Y_pred=best_estimator.predict(X_test)\n",
        "mae_xgb, mse_xgb =evaluation(Y_test,Y_pred, r=True)\n",
        "\n",
        "sns.distplot(Y_pred, kde=False, color='darkturquoise')"
      ],
      "execution_count": 0,
      "outputs": [
        {
          "output_type": "stream",
          "text": [
            "R^2 :  0.4616589111344963\n",
            "Mean Absolute Error : 0.39660494248072303\n",
            "Mean Squared Error : 0.25988378680184354\n"
          ],
          "name": "stdout"
        },
        {
          "output_type": "execute_result",
          "data": {
            "text/plain": [
              "<matplotlib.axes._subplots.AxesSubplot at 0x7f0681de2ef0>"
            ]
          },
          "metadata": {
            "tags": []
          },
          "execution_count": 81
        },
        {
          "output_type": "display_data",
          "data": {
            "image/png": "[encoded data removed]",
            "text/plain": [
              "<Figure size 432x288 with 1 Axes>"
            ]
          },
          "metadata": {
            "tags": [],
            "needs_background": "light"
          }
        }
      ]
    },
    {
      "cell_type": "markdown",
      "metadata": {
        "id": "iYumpbq5rstP",
        "colab_type": "text"
      },
      "source": [
        "XGBoost clearly outperforms the other models (regarding both the MAE and the MSE). "
      ]
    },
    {
      "cell_type": "markdown",
      "metadata": {
        "id": "FZyn5rMIpoxz",
        "colab_type": "text"
      },
      "source": [
        "### **V - Prediction models using NLP**"
      ]
    },
    {
      "cell_type": "markdown",
      "metadata": {
        "id": "OkS_XV9or-UB",
        "colab_type": "text"
      },
      "source": [
        "We then are going to add our NLP-created variables to see if it improves our predictions. We have 9 new variables : 7 topic model variables, a sentiment variable and a number of review. "
      ]
    },
    {
      "cell_type": "code",
      "metadata": {
        "id": "5xPsEbBJpvHY",
        "colab_type": "code",
        "colab": {}
      },
      "source": [
        "Y_train,Y_test= train_set['vote_average'],test_set['vote_average']\n",
        "X_train, X_test= train_set.drop(['vote_average'],axis=1),test_set.drop(['vote_average'],axis=1)\n",
        "list_variables_X = list(X_train.columns.values)"
      ],
      "execution_count": 0,
      "outputs": []
    },
    {
      "cell_type": "code",
      "metadata": {
        "id": "F5CiFTGvGgfq",
        "colab_type": "code",
        "colab": {}
      },
      "source": [
        "scaler = MinMaxScaler()\n",
        "X_train = scaler.fit_transform(X_train)\n",
        "X_test = scaler.fit_transform(X_test)\n",
        "X_train = pd.DataFrame(X_train, columns=list_variables_X)\n",
        "X_test = pd.DataFrame(X_test, columns=list_variables_X)"
      ],
      "execution_count": 0,
      "outputs": []
    },
    {
      "cell_type": "code",
      "metadata": {
        "id": "1KBpWTqcArvF",
        "colab_type": "code",
        "outputId": "e0567d81-caf6-44a0-86e5-9c71d651fafd",
        "colab": {
          "base_uri": "https://localhost:8080/",
          "height": 243
        }
      },
      "source": [
        "X_train.head()"
      ],
      "execution_count": 0,
      "outputs": [
        {
          "output_type": "execute_result",
          "data": {
            "text/html": [
              "<div>\n",
              "<style scoped>\n",
              "    .dataframe tbody tr th:only-of-type {\n",
              "        vertical-align: middle;\n",
              "    }\n",
              "\n",
              "    .dataframe tbody tr th {\n",
              "        vertical-align: top;\n",
              "    }\n",
              "\n",
              "    .dataframe thead th {\n",
              "        text-align: right;\n",
              "    }\n",
              "</style>\n",
              "<table border=\"1\" class=\"dataframe\">\n",
              "  <thead>\n",
              "    <tr style=\"text-align: right;\">\n",
              "      <th></th>\n",
              "      <th>adult</th>\n",
              "      <th>belongs_to_collection</th>\n",
              "      <th>budget</th>\n",
              "      <th>popularity</th>\n",
              "      <th>revenue</th>\n",
              "      <th>runtime</th>\n",
              "      <th>vote_count</th>\n",
              "      <th>polarity</th>\n",
              "      <th>nb_review</th>\n",
              "      <th>en</th>\n",
              "      <th>fr</th>\n",
              "      <th>year</th>\n",
              "      <th>january</th>\n",
              "      <th>february</th>\n",
              "      <th>march</th>\n",
              "      <th>april</th>\n",
              "      <th>may</th>\n",
              "      <th>june</th>\n",
              "      <th>july</th>\n",
              "      <th>august</th>\n",
              "      <th>september</th>\n",
              "      <th>october</th>\n",
              "      <th>november</th>\n",
              "      <th>december</th>\n",
              "      <th>Drama</th>\n",
              "      <th>Romance</th>\n",
              "      <th>Science Fiction</th>\n",
              "      <th>Horror</th>\n",
              "      <th>Action</th>\n",
              "      <th>Comedy</th>\n",
              "      <th>Adventure</th>\n",
              "      <th>War</th>\n",
              "      <th>Crime</th>\n",
              "      <th>Thriller</th>\n",
              "      <th>Animation</th>\n",
              "      <th>Mystery</th>\n",
              "      <th>Fantasy</th>\n",
              "      <th>History</th>\n",
              "      <th>Family</th>\n",
              "      <th>Music</th>\n",
              "      <th>Western</th>\n",
              "      <th>Documentary</th>\n",
              "      <th>TV Movie</th>\n",
              "      <th>topic_1</th>\n",
              "      <th>topic_2</th>\n",
              "      <th>topic_3</th>\n",
              "      <th>topic_4</th>\n",
              "      <th>topic_5</th>\n",
              "      <th>topic_6</th>\n",
              "      <th>topic_7</th>\n",
              "    </tr>\n",
              "  </thead>\n",
              "  <tbody>\n",
              "    <tr>\n",
              "      <th>0</th>\n",
              "      <td>0.0</td>\n",
              "      <td>0.0</td>\n",
              "      <td>0.038760</td>\n",
              "      <td>0.053926</td>\n",
              "      <td>0.025786</td>\n",
              "      <td>0.304348</td>\n",
              "      <td>0.001373</td>\n",
              "      <td>0.809756</td>\n",
              "      <td>0.051587</td>\n",
              "      <td>1.0</td>\n",
              "      <td>0.0</td>\n",
              "      <td>0.833333</td>\n",
              "      <td>1.0</td>\n",
              "      <td>0.0</td>\n",
              "      <td>0.0</td>\n",
              "      <td>0.0</td>\n",
              "      <td>0.0</td>\n",
              "      <td>0.0</td>\n",
              "      <td>0.0</td>\n",
              "      <td>0.0</td>\n",
              "      <td>0.0</td>\n",
              "      <td>0.0</td>\n",
              "      <td>0.0</td>\n",
              "      <td>0.0</td>\n",
              "      <td>0.0</td>\n",
              "      <td>0.0</td>\n",
              "      <td>0.0</td>\n",
              "      <td>0.0</td>\n",
              "      <td>0.0</td>\n",
              "      <td>1.0</td>\n",
              "      <td>0.0</td>\n",
              "      <td>0.0</td>\n",
              "      <td>1.0</td>\n",
              "      <td>0.0</td>\n",
              "      <td>0.0</td>\n",
              "      <td>0.0</td>\n",
              "      <td>0.0</td>\n",
              "      <td>0.0</td>\n",
              "      <td>0.0</td>\n",
              "      <td>0.0</td>\n",
              "      <td>0.0</td>\n",
              "      <td>0.0</td>\n",
              "      <td>0.0</td>\n",
              "      <td>0.0</td>\n",
              "      <td>1.0</td>\n",
              "      <td>0.0</td>\n",
              "      <td>0.0</td>\n",
              "      <td>0.0</td>\n",
              "      <td>0.0</td>\n",
              "      <td>1.0</td>\n",
              "    </tr>\n",
              "    <tr>\n",
              "      <th>1</th>\n",
              "      <td>0.0</td>\n",
              "      <td>1.0</td>\n",
              "      <td>0.036047</td>\n",
              "      <td>0.104794</td>\n",
              "      <td>0.000000</td>\n",
              "      <td>0.282609</td>\n",
              "      <td>0.004806</td>\n",
              "      <td>0.700000</td>\n",
              "      <td>0.002646</td>\n",
              "      <td>1.0</td>\n",
              "      <td>0.0</td>\n",
              "      <td>0.635417</td>\n",
              "      <td>0.0</td>\n",
              "      <td>0.0</td>\n",
              "      <td>0.0</td>\n",
              "      <td>0.0</td>\n",
              "      <td>0.0</td>\n",
              "      <td>0.0</td>\n",
              "      <td>0.0</td>\n",
              "      <td>1.0</td>\n",
              "      <td>0.0</td>\n",
              "      <td>0.0</td>\n",
              "      <td>0.0</td>\n",
              "      <td>0.0</td>\n",
              "      <td>0.0</td>\n",
              "      <td>0.0</td>\n",
              "      <td>1.0</td>\n",
              "      <td>0.0</td>\n",
              "      <td>0.0</td>\n",
              "      <td>0.0</td>\n",
              "      <td>0.0</td>\n",
              "      <td>0.0</td>\n",
              "      <td>0.0</td>\n",
              "      <td>0.0</td>\n",
              "      <td>1.0</td>\n",
              "      <td>0.0</td>\n",
              "      <td>0.0</td>\n",
              "      <td>0.0</td>\n",
              "      <td>0.0</td>\n",
              "      <td>0.0</td>\n",
              "      <td>0.0</td>\n",
              "      <td>0.0</td>\n",
              "      <td>0.0</td>\n",
              "      <td>0.0</td>\n",
              "      <td>0.0</td>\n",
              "      <td>0.0</td>\n",
              "      <td>1.0</td>\n",
              "      <td>0.0</td>\n",
              "      <td>1.0</td>\n",
              "      <td>0.0</td>\n",
              "    </tr>\n",
              "    <tr>\n",
              "      <th>2</th>\n",
              "      <td>0.0</td>\n",
              "      <td>0.0</td>\n",
              "      <td>0.161541</td>\n",
              "      <td>0.121697</td>\n",
              "      <td>0.183605</td>\n",
              "      <td>0.355072</td>\n",
              "      <td>0.083562</td>\n",
              "      <td>1.000000</td>\n",
              "      <td>0.000661</td>\n",
              "      <td>0.0</td>\n",
              "      <td>0.0</td>\n",
              "      <td>0.916667</td>\n",
              "      <td>0.0</td>\n",
              "      <td>0.0</td>\n",
              "      <td>0.0</td>\n",
              "      <td>0.0</td>\n",
              "      <td>0.0</td>\n",
              "      <td>0.0</td>\n",
              "      <td>1.0</td>\n",
              "      <td>0.0</td>\n",
              "      <td>0.0</td>\n",
              "      <td>0.0</td>\n",
              "      <td>0.0</td>\n",
              "      <td>0.0</td>\n",
              "      <td>0.0</td>\n",
              "      <td>0.0</td>\n",
              "      <td>0.0</td>\n",
              "      <td>0.0</td>\n",
              "      <td>0.0</td>\n",
              "      <td>0.0</td>\n",
              "      <td>0.0</td>\n",
              "      <td>0.0</td>\n",
              "      <td>0.0</td>\n",
              "      <td>0.0</td>\n",
              "      <td>1.0</td>\n",
              "      <td>0.0</td>\n",
              "      <td>0.0</td>\n",
              "      <td>0.0</td>\n",
              "      <td>1.0</td>\n",
              "      <td>0.0</td>\n",
              "      <td>0.0</td>\n",
              "      <td>0.0</td>\n",
              "      <td>0.0</td>\n",
              "      <td>0.0</td>\n",
              "      <td>1.0</td>\n",
              "      <td>0.0</td>\n",
              "      <td>0.0</td>\n",
              "      <td>0.0</td>\n",
              "      <td>0.0</td>\n",
              "      <td>0.0</td>\n",
              "    </tr>\n",
              "    <tr>\n",
              "      <th>3</th>\n",
              "      <td>0.0</td>\n",
              "      <td>0.0</td>\n",
              "      <td>0.038760</td>\n",
              "      <td>0.094064</td>\n",
              "      <td>0.000000</td>\n",
              "      <td>0.282609</td>\n",
              "      <td>0.011965</td>\n",
              "      <td>0.600000</td>\n",
              "      <td>0.007275</td>\n",
              "      <td>1.0</td>\n",
              "      <td>0.0</td>\n",
              "      <td>0.968750</td>\n",
              "      <td>0.0</td>\n",
              "      <td>0.0</td>\n",
              "      <td>0.0</td>\n",
              "      <td>1.0</td>\n",
              "      <td>0.0</td>\n",
              "      <td>0.0</td>\n",
              "      <td>0.0</td>\n",
              "      <td>0.0</td>\n",
              "      <td>0.0</td>\n",
              "      <td>0.0</td>\n",
              "      <td>0.0</td>\n",
              "      <td>0.0</td>\n",
              "      <td>0.0</td>\n",
              "      <td>0.0</td>\n",
              "      <td>0.0</td>\n",
              "      <td>0.0</td>\n",
              "      <td>1.0</td>\n",
              "      <td>0.0</td>\n",
              "      <td>0.0</td>\n",
              "      <td>0.0</td>\n",
              "      <td>0.0</td>\n",
              "      <td>1.0</td>\n",
              "      <td>0.0</td>\n",
              "      <td>0.0</td>\n",
              "      <td>0.0</td>\n",
              "      <td>0.0</td>\n",
              "      <td>0.0</td>\n",
              "      <td>0.0</td>\n",
              "      <td>0.0</td>\n",
              "      <td>0.0</td>\n",
              "      <td>0.0</td>\n",
              "      <td>1.0</td>\n",
              "      <td>0.0</td>\n",
              "      <td>0.0</td>\n",
              "      <td>0.0</td>\n",
              "      <td>0.0</td>\n",
              "      <td>0.0</td>\n",
              "      <td>0.0</td>\n",
              "    </tr>\n",
              "    <tr>\n",
              "      <th>4</th>\n",
              "      <td>0.0</td>\n",
              "      <td>1.0</td>\n",
              "      <td>0.232558</td>\n",
              "      <td>0.315298</td>\n",
              "      <td>0.474398</td>\n",
              "      <td>0.282609</td>\n",
              "      <td>0.400353</td>\n",
              "      <td>0.876923</td>\n",
              "      <td>0.048942</td>\n",
              "      <td>1.0</td>\n",
              "      <td>0.0</td>\n",
              "      <td>0.843750</td>\n",
              "      <td>0.0</td>\n",
              "      <td>0.0</td>\n",
              "      <td>0.0</td>\n",
              "      <td>0.0</td>\n",
              "      <td>1.0</td>\n",
              "      <td>0.0</td>\n",
              "      <td>0.0</td>\n",
              "      <td>0.0</td>\n",
              "      <td>0.0</td>\n",
              "      <td>0.0</td>\n",
              "      <td>0.0</td>\n",
              "      <td>0.0</td>\n",
              "      <td>0.0</td>\n",
              "      <td>0.0</td>\n",
              "      <td>0.0</td>\n",
              "      <td>0.0</td>\n",
              "      <td>0.0</td>\n",
              "      <td>1.0</td>\n",
              "      <td>1.0</td>\n",
              "      <td>0.0</td>\n",
              "      <td>0.0</td>\n",
              "      <td>0.0</td>\n",
              "      <td>1.0</td>\n",
              "      <td>0.0</td>\n",
              "      <td>1.0</td>\n",
              "      <td>0.0</td>\n",
              "      <td>1.0</td>\n",
              "      <td>0.0</td>\n",
              "      <td>0.0</td>\n",
              "      <td>0.0</td>\n",
              "      <td>0.0</td>\n",
              "      <td>0.0</td>\n",
              "      <td>0.0</td>\n",
              "      <td>1.0</td>\n",
              "      <td>1.0</td>\n",
              "      <td>0.0</td>\n",
              "      <td>0.0</td>\n",
              "      <td>0.0</td>\n",
              "    </tr>\n",
              "  </tbody>\n",
              "</table>\n",
              "</div>"
            ],
            "text/plain": [
              "   adult  belongs_to_collection    budget  ...  topic_5  topic_6  topic_7\n",
              "0    0.0                    0.0  0.038760  ...      0.0      0.0      1.0\n",
              "1    0.0                    1.0  0.036047  ...      0.0      1.0      0.0\n",
              "2    0.0                    0.0  0.161541  ...      0.0      0.0      0.0\n",
              "3    0.0                    0.0  0.038760  ...      0.0      0.0      0.0\n",
              "4    0.0                    1.0  0.232558  ...      0.0      0.0      0.0\n",
              "\n",
              "[5 rows x 50 columns]"
            ]
          },
          "metadata": {
            "tags": []
          },
          "execution_count": 84
        }
      ]
    },
    {
      "cell_type": "markdown",
      "metadata": {
        "id": "3__uc4n_S94k",
        "colab_type": "text"
      },
      "source": [
        "####**Linear Regression**"
      ]
    },
    {
      "cell_type": "code",
      "metadata": {
        "id": "_OJcQf_6ja34",
        "colab_type": "code",
        "outputId": "52abaab7-0c09-4998-eb5f-ae16951ba7e6",
        "colab": {
          "base_uri": "https://localhost:8080/",
          "height": 343
        }
      },
      "source": [
        "#Linear Regression\n",
        "from sklearn import linear_model\n",
        "\n",
        "regr = linear_model.LinearRegression()\n",
        "regr.fit(X_train,Y_train)\n",
        "Y_pred= regr.predict(X_test)\n",
        "\n",
        "mae_regr_NLP, mse_regr_NLP = evaluation(Y_test,Y_pred)\n",
        "\n",
        "sns.distplot(Y_pred, kde=False, color='darkturquoise')"
      ],
      "execution_count": 0,
      "outputs": [
        {
          "output_type": "stream",
          "text": [
            "R^2 :  0.30854550193067687\n",
            "Mean Absolute Error : 0.4556134060946403\n",
            "Mean Squared Error : 0.333799178766231\n"
          ],
          "name": "stdout"
        },
        {
          "output_type": "execute_result",
          "data": {
            "text/plain": [
              "<matplotlib.axes._subplots.AxesSubplot at 0x7f0681101cf8>"
            ]
          },
          "metadata": {
            "tags": []
          },
          "execution_count": 85
        },
        {
          "output_type": "display_data",
          "data": {
            "image/png": "[encoded data removed]",
            "text/plain": [
              "<Figure size 432x288 with 1 Axes>"
            ]
          },
          "metadata": {
            "tags": [],
            "needs_background": "light"
          }
        }
      ]
    },
    {
      "cell_type": "markdown",
      "metadata": {
        "id": "fEGN_-SMTM0K",
        "colab_type": "text"
      },
      "source": [
        "####**Random Forest**"
      ]
    },
    {
      "cell_type": "code",
      "metadata": {
        "id": "3fLzfYoAs-XE",
        "colab_type": "code",
        "outputId": "57649273-e2f1-4a28-9244-8c71501da052",
        "colab": {
          "base_uri": "https://localhost:8080/",
          "height": 322
        }
      },
      "source": [
        "#Random Forest \n",
        "from sklearn.ensemble import RandomForestRegressor \n",
        "\n",
        "rf=RandomForestRegressor(random_state=0, max_features='auto', n_estimators= 50, max_depth=5)\n",
        "\n",
        "rf.fit(X_train, Y_train)\n",
        "Y_pred = rf.predict(X_test)\n",
        "\n",
        "mae_rf_NLP, mse_rf_NLP = evaluation(Y_test,Y_pred, r=False)\n",
        "\n",
        "sns.distplot(Y_pred, kde=False, color='darkturquoise')"
      ],
      "execution_count": 0,
      "outputs": [
        {
          "output_type": "stream",
          "text": [
            "Mean Absolute Error : 0.4528932322420716\n",
            "Mean Squared Error : 0.30265463083512273\n"
          ],
          "name": "stdout"
        },
        {
          "output_type": "execute_result",
          "data": {
            "text/plain": [
              "<matplotlib.axes._subplots.AxesSubplot at 0x7f0681081be0>"
            ]
          },
          "metadata": {
            "tags": []
          },
          "execution_count": 86
        },
        {
          "output_type": "display_data",
          "data": {
            "image/png": "[encoded data removed]",
            "text/plain": [
              "<Figure size 432x288 with 1 Axes>"
            ]
          },
          "metadata": {
            "tags": [],
            "needs_background": "light"
          }
        }
      ]
    },
    {
      "cell_type": "code",
      "metadata": {
        "id": "AZXsKYIvHgmt",
        "colab_type": "code",
        "outputId": "2b6aeab7-26cb-4a8b-de1e-667dfc33a431",
        "colab": {
          "base_uri": "https://localhost:8080/",
          "height": 35
        }
      },
      "source": [
        "#We use GridSearchCV to choose the best parameters\n",
        "#We choose the maximum of n_estimators to test at 500 because it is too long otherwise\n",
        "\n",
        "param_grid = { \n",
        "    'n_estimators': [50, 100, 200, 500],\n",
        "    'max_features': ['auto', 'sqrt', 'log2'],\n",
        "    'max_depth' : range(5, 16)\n",
        "}\n",
        "\n",
        "CV_regressor = GridSearchCV(estimator=rf, param_grid=param_grid, cv= 5)\n",
        "CV_regressor.fit(X_train, Y_train)\n",
        "\n",
        "best_params = CV_regressor.best_params_\n",
        "best_params"
      ],
      "execution_count": 0,
      "outputs": [
        {
          "output_type": "execute_result",
          "data": {
            "text/plain": [
              "{'max_depth': 18, 'max_features': 'auto', 'n_estimators': 500}"
            ]
          },
          "metadata": {
            "tags": []
          },
          "execution_count": 180
        }
      ]
    },
    {
      "cell_type": "code",
      "metadata": {
        "id": "3HAWEl_JHh3E",
        "colab_type": "code",
        "outputId": "8ed3b796-3ff1-4eb1-96ec-0bddf063e1c2",
        "colab": {
          "base_uri": "https://localhost:8080/",
          "height": 317
        }
      },
      "source": [
        "rf=RandomForestRegressor(random_state=0, max_features = best_params['max_features'], n_estimators= best_params['n_estimators'], max_depth=best_params['max_depth'])\n",
        "\n",
        "rf.fit(X_train, Y_train)\n",
        "Y_pred = rf.predict(X_test)\n",
        "\n",
        "mae_rf_NLP, mse_rf_NLP = evaluation(Y_test,Y_pred, r=False)\n",
        "\n",
        "sns.distplot(Y_pred, kde=False, color='darkturquoise')"
      ],
      "execution_count": 0,
      "outputs": [
        {
          "output_type": "stream",
          "text": [
            "Mean Absolute Error : 0.4381433512846971\n",
            "Mean Squared Error : 0.31032204164321914\n"
          ],
          "name": "stdout"
        },
        {
          "output_type": "execute_result",
          "data": {
            "text/plain": [
              "<matplotlib.axes._subplots.AxesSubplot at 0x7fabd010f320>"
            ]
          },
          "metadata": {
            "tags": []
          },
          "execution_count": 181
        },
        {
          "output_type": "display_data",
          "data": {
            "image/png": "[encoded data removed]",
            "text/plain": [
              "<Figure size 432x288 with 1 Axes>"
            ]
          },
          "metadata": {
            "tags": [],
            "needs_background": "light"
          }
        }
      ]
    },
    {
      "cell_type": "code",
      "metadata": {
        "id": "UbMtFfJQHy1p",
        "colab_type": "code",
        "outputId": "3d3f489a-3e00-43ec-d275-5eb388407ef8",
        "colab": {
          "base_uri": "https://localhost:8080/",
          "height": 295
        }
      },
      "source": [
        "#Variables importance : we only show the 15 most important variables\n",
        "\n",
        "rf.fit(X_train, Y_train)\n",
        "importances = rf.feature_importances_\n",
        "std = np.std([tree.feature_importances_ for tree in rf.estimators_], axis=0)\n",
        "indices = np.argsort(importances)[::-1]\n",
        "\n",
        "print(\"Ranking of the importance of parameters:\")\n",
        "\n",
        "for f in range(15):\n",
        "    i=indices[f]\n",
        "    print(\"%d. parameter %d : \" % (f + 1, i) + X_train.columns[i] + \" (%f)\" % (importances[i]))"
      ],
      "execution_count": 0,
      "outputs": [
        {
          "output_type": "stream",
          "text": [
            "Ranking of the importance of parameters:\n",
            "1. parameter 11 : year (0.155683)\n",
            "2. parameter 6 : vote_count (0.141762)\n",
            "3. parameter 5 : runtime (0.130067)\n",
            "4. parameter 2 : budget (0.091630)\n",
            "5. parameter 24 : Drama (0.090129)\n",
            "6. parameter 3 : popularity (0.062303)\n",
            "7. parameter 8 : nb_review (0.056853)\n",
            "8. parameter 4 : revenue (0.040573)\n",
            "9. parameter 7 : polarity (0.033786)\n",
            "10. parameter 41 : Documentary (0.026565)\n",
            "11. parameter 36 : Animation (0.021921)\n",
            "12. parameter 9 : en (0.013926)\n",
            "13. parameter 33 : Thriller (0.008830)\n",
            "14. parameter 28 : Action (0.008624)\n",
            "15. parameter 48 : topic_6 (0.006762)\n"
          ],
          "name": "stdout"
        }
      ]
    },
    {
      "cell_type": "markdown",
      "metadata": {
        "id": "_YQtMRsUshFa",
        "colab_type": "text"
      },
      "source": [
        "We can see that the Topic Model varaibles are not the most important. "
      ]
    },
    {
      "cell_type": "markdown",
      "metadata": {
        "id": "bGknxo3ATSr0",
        "colab_type": "text"
      },
      "source": [
        "####**XGBoost**"
      ]
    },
    {
      "cell_type": "code",
      "metadata": {
        "id": "M1S782BkH9PY",
        "colab_type": "code",
        "colab": {}
      },
      "source": [
        "#XGBoost\n",
        "#Grid search to find the best estimator\n",
        "estimator = xgb.XGBRegressor(objective= 'reg:squarederror',seed=42)\n",
        "\n",
        "parameters = {\n",
        "    'max_depth': range (2, 10, 1),\n",
        "    'n_estimators': range(60, 220, 40),\n",
        "    'learning_rate': [0.1, 0.01, 0.05]\n",
        "}\n",
        "grid_search = GridSearchCV(estimator=estimator,param_grid=parameters,scoring = 'neg_mean_squared_error',n_jobs = 10,cv = 5,)\n",
        "\n",
        "grid_search.fit(X_train, Y_train)"
      ],
      "execution_count": 0,
      "outputs": []
    },
    {
      "cell_type": "code",
      "metadata": {
        "id": "qHupu4BoIIMb",
        "colab_type": "code",
        "outputId": "8d42f86a-641c-4e4c-a51e-3dcba98c7e38",
        "colab": {
          "base_uri": "https://localhost:8080/",
          "height": 341
        }
      },
      "source": [
        "best_estimator = grid_search.best_estimator_\n",
        "Y_pred=best_estimator.predict(X_test)\n",
        "mae_xgb_NLP, mse_xgb_NLP=evaluation(Y_test,Y_pred, r=True)\n",
        "\n",
        "sns.distplot(Y_pred, kde=False, color='darkturquoise')"
      ],
      "execution_count": 0,
      "outputs": [
        {
          "output_type": "stream",
          "text": [
            "R^2 :  0.49041184432311036\n",
            "Mean Absolute Error : 0.3802893416086833\n",
            "Mean Squared Error : 0.24600332827235485\n"
          ],
          "name": "stdout"
        },
        {
          "output_type": "execute_result",
          "data": {
            "text/plain": [
              "<matplotlib.axes._subplots.AxesSubplot at 0x7f0681037400>"
            ]
          },
          "metadata": {
            "tags": []
          },
          "execution_count": 88
        },
        {
          "output_type": "display_data",
          "data": {
            "image/png": "[encoded data removed]",
            "text/plain": [
              "<Figure size 432x288 with 1 Axes>"
            ]
          },
          "metadata": {
            "tags": [],
            "needs_background": "light"
          }
        }
      ]
    },
    {
      "cell_type": "markdown",
      "metadata": {
        "id": "CZyr1pzHsnRp",
        "colab_type": "text"
      },
      "source": [
        "Here too, XGBoost is clearly the best model. "
      ]
    },
    {
      "cell_type": "markdown",
      "metadata": {
        "id": "o1Sw1Y37wC5B",
        "colab_type": "text"
      },
      "source": [
        "### **VI - Comparison of the models and conclusion**"
      ]
    },
    {
      "cell_type": "markdown",
      "metadata": {
        "id": "vjFBJEfMBQRI",
        "colab_type": "text"
      },
      "source": [
        "####**Comparison of the models**"
      ]
    },
    {
      "cell_type": "markdown",
      "metadata": {
        "id": "9DJt31-mwKZG",
        "colab_type": "text"
      },
      "source": [
        "We compare the models using the Mean Absolute Error (MAE) and the Mean Squared Error (MSE), for each model, and using or not the variables created using the NLP tools (Sentiment Analysis and Topic Model)."
      ]
    },
    {
      "cell_type": "code",
      "metadata": {
        "id": "ra2Sy5YLwK8a",
        "colab_type": "code",
        "outputId": "a113e0ee-beb7-4911-ae3b-73d2c0d918c5",
        "colab": {
          "base_uri": "https://localhost:8080/",
          "height": 175
        }
      },
      "source": [
        "MAE=[mae_naive,mae_regr,mae_rf,mae_xgb]\n",
        "MSE=[mse_naive, mse_regr,mse_rf,mse_xgb]\n",
        "MAE_NLP=[mae_naive,mae_regr_NLP,mae_rf_NLP,mae_xgb_NLP]\n",
        "MSE_NLP=[mse_naive,mse_regr_NLP,mse_rf_NLP,mse_xgb_NLP]\n",
        "\n",
        "col={'Mean Absolute Error':MAE,'Mean Squared Error':MSE, 'Mean Absolute Error NLP':MAE_NLP,'Mean Squared Error NLP':MSE_NLP }\n",
        "models=['Naive Estimator', 'Linear Regression', 'Random Forest', 'XGBoost']\n",
        "df_compare=pd.DataFrame(data=col,index=models)\n",
        "df_compare"
      ],
      "execution_count": 0,
      "outputs": [
        {
          "output_type": "execute_result",
          "data": {
            "text/html": [
              "<div>\n",
              "<style scoped>\n",
              "    .dataframe tbody tr th:only-of-type {\n",
              "        vertical-align: middle;\n",
              "    }\n",
              "\n",
              "    .dataframe tbody tr th {\n",
              "        vertical-align: top;\n",
              "    }\n",
              "\n",
              "    .dataframe thead th {\n",
              "        text-align: right;\n",
              "    }\n",
              "</style>\n",
              "<table border=\"1\" class=\"dataframe\">\n",
              "  <thead>\n",
              "    <tr style=\"text-align: right;\">\n",
              "      <th></th>\n",
              "      <th>Mean Absolute Error</th>\n",
              "      <th>Mean Squared Error</th>\n",
              "      <th>Mean Absolute Error NLP</th>\n",
              "      <th>Mean Squared Error NLP</th>\n",
              "    </tr>\n",
              "  </thead>\n",
              "  <tbody>\n",
              "    <tr>\n",
              "      <th>Naive Estimator</th>\n",
              "      <td>0.547583</td>\n",
              "      <td>0.482749</td>\n",
              "      <td>0.547583</td>\n",
              "      <td>0.482749</td>\n",
              "    </tr>\n",
              "    <tr>\n",
              "      <th>Linear Regression</th>\n",
              "      <td>0.455470</td>\n",
              "      <td>0.334376</td>\n",
              "      <td>0.455613</td>\n",
              "      <td>0.333799</td>\n",
              "    </tr>\n",
              "    <tr>\n",
              "      <th>Random Forest</th>\n",
              "      <td>0.441989</td>\n",
              "      <td>0.283782</td>\n",
              "      <td>0.452893</td>\n",
              "      <td>0.302655</td>\n",
              "    </tr>\n",
              "    <tr>\n",
              "      <th>XGBoost</th>\n",
              "      <td>0.396605</td>\n",
              "      <td>0.259884</td>\n",
              "      <td>0.380289</td>\n",
              "      <td>0.246003</td>\n",
              "    </tr>\n",
              "  </tbody>\n",
              "</table>\n",
              "</div>"
            ],
            "text/plain": [
              "                   Mean Absolute Error  ...  Mean Squared Error NLP\n",
              "Naive Estimator               0.547583  ...                0.482749\n",
              "Linear Regression             0.455470  ...                0.333799\n",
              "Random Forest                 0.441989  ...                0.302655\n",
              "XGBoost                       0.396605  ...                0.246003\n",
              "\n",
              "[4 rows x 4 columns]"
            ]
          },
          "metadata": {
            "tags": []
          },
          "execution_count": 89
        }
      ]
    },
    {
      "cell_type": "code",
      "metadata": {
        "id": "ya_zBB1M2Lda",
        "colab_type": "code",
        "outputId": "8c0767e8-9b53-4c9a-bcae-e5f4bc5c1774",
        "colab": {
          "base_uri": "https://localhost:8080/",
          "height": 363
        }
      },
      "source": [
        "df_compare.plot(kind='bar', colormap='Paired')"
      ],
      "execution_count": 0,
      "outputs": [
        {
          "output_type": "execute_result",
          "data": {
            "text/plain": [
              "<matplotlib.axes._subplots.AxesSubplot at 0x7f0680fd2c18>"
            ]
          },
          "metadata": {
            "tags": []
          },
          "execution_count": 90
        },
        {
          "output_type": "display_data",
          "data": {
            "image/png": "[encoded data removed]",
            "text/plain": [
              "<Figure size 432x288 with 1 Axes>"
            ]
          },
          "metadata": {
            "tags": [],
            "needs_background": "light"
          }
        }
      ]
    },
    {
      "cell_type": "markdown",
      "metadata": {
        "id": "jpJxV4hRBWnP",
        "colab_type": "text"
      },
      "source": [
        "####**Conclusion**"
      ]
    },
    {
      "cell_type": "markdown",
      "metadata": {
        "id": "Kkg6IUxMBY82",
        "colab_type": "text"
      },
      "source": [
        "We can see that the model that gives the lowest Mean Absolute Error is the XGBoost model using the variables created using NLP tools. However the difference with the XGBoost using only usual variables is quite small (improvement of 0.014 in the MSE) and we don't think it is a significant improvement. When we rank the parameters by importance for the Random Forest model, we can see that the NLP variables are not so important. \n",
        "\n",
        "To conlude, we were able to implement a sentiment classifier with an average accuracy of 92%. However, the use of NLP in our project don't allow us to improve significantly our predictions. \n",
        "\n",
        "Several problems could explain why the predictive power of our NLP-created variables is low. The sample of Amazon reviews might not be representative of the entire reviews. Another problem might be we've trained our classifier with IDMB review but Amazon review contains not just comment about the movie but also sometimes information on the time delivery : this might noise our predictions.  \n",
        "\n",
        "We believe our variables remains however interesting if we could have more data or it can be useful for example to predict TV consumption of television viewers if we know the programs they use to see but not the genres of these programs."
      ]
    }
  ]
}